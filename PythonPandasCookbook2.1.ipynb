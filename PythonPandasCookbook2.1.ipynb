


<!DOCTYPE html>
<html lang="en" class="">
  <head prefix="og: http://ogp.me/ns# fb: http://ogp.me/ns/fb# object: http://ogp.me/ns/object# article: http://ogp.me/ns/article# profile: http://ogp.me/ns/profile#">
    <meta charset='utf-8'>
    <meta http-equiv="X-UA-Compatible" content="IE=edge">
    <meta http-equiv="Content-Language" content="en">
    
    
    <title>pdacookbook/PythonPandasCookbook2.1.ipynb at master · alfredessa/pdacookbook · GitHub</title>
    <link rel="search" type="application/opensearchdescription+xml" href="/opensearch.xml" title="GitHub">
    <link rel="fluid-icon" href="https://github.com/fluidicon.png" title="GitHub">
    <link rel="apple-touch-icon" sizes="57x57" href="/apple-touch-icon-114.png">
    <link rel="apple-touch-icon" sizes="114x114" href="/apple-touch-icon-114.png">
    <link rel="apple-touch-icon" sizes="72x72" href="/apple-touch-icon-144.png">
    <link rel="apple-touch-icon" sizes="144x144" href="/apple-touch-icon-144.png">
    <meta property="fb:app_id" content="1401488693436528">

      <meta content="@github" name="twitter:site" /><meta content="summary" name="twitter:card" /><meta content="alfredessa/pdacookbook" name="twitter:title" /><meta content="pdacookbook - Python Pandas Cookbook" name="twitter:description" /><meta content="https://avatars2.githubusercontent.com/u/3757284?v=3&amp;s=400" name="twitter:image:src" />
      <meta content="GitHub" property="og:site_name" /><meta content="object" property="og:type" /><meta content="https://avatars2.githubusercontent.com/u/3757284?v=3&amp;s=400" property="og:image" /><meta content="alfredessa/pdacookbook" property="og:title" /><meta content="https://github.com/alfredessa/pdacookbook" property="og:url" /><meta content="pdacookbook - Python Pandas Cookbook" property="og:description" />
      <meta name="browser-stats-url" content="/_stats">
    <link rel="assets" href="https://assets-cdn.github.com/">
    
    <meta name="pjax-timeout" content="1000">
    

    <meta name="msapplication-TileImage" content="/windows-tile.png">
    <meta name="msapplication-TileColor" content="#ffffff">
    <meta name="selected-link" value="repo_source" data-pjax-transient>
      <meta name="google-analytics" content="UA-3769691-2">

    <meta content="collector.githubapp.com" name="octolytics-host" /><meta content="collector-cdn.github.com" name="octolytics-script-host" /><meta content="github" name="octolytics-app-id" /><meta content="C0AB33A2:5D40:1CD08F7:551AA715" name="octolytics-dimension-request_id" />
    
    <meta content="Rails, view, blob#show" name="analytics-event" />
    <meta class="js-ga-set" name="dimension1" content="Logged Out">
    <meta class="js-ga-set" name="dimension2" content="Header v3">

    
    <link rel="icon" type="image/x-icon" href="https://assets-cdn.github.com/favicon.ico">


    <meta content="authenticity_token" name="csrf-param" />
<meta content="js37D56HknPNDzFuLCeK0e/cPOPssCsQj1RxE7u5sGpnJQWQmS/ylnHbRC9uyuGOkHR2kA0CYBMAosOXROskxg==" name="csrf-token" />

    <link href="https://assets-cdn.github.com/assets/github-391b32dc1132ef0837cee6b206cad9c2726c7f495e5047901a7afa551e81d695.css" media="all" rel="stylesheet" />
    <link href="https://assets-cdn.github.com/assets/github2-14b629a12b237ffde72fb70f31de6a515754f0f686189a072cc00e54ee202fd1.css" media="all" rel="stylesheet" />
    
    


    <meta http-equiv="x-pjax-version" content="0cdf73d6f5d84ba34af332a36c975c0a">

      
  <meta name="description" content="pdacookbook - Python Pandas Cookbook">
  <meta name="go-import" content="github.com/alfredessa/pdacookbook git https://github.com/alfredessa/pdacookbook.git">

  <meta content="3757284" name="octolytics-dimension-user_id" /><meta content="alfredessa" name="octolytics-dimension-user_login" /><meta content="11933446" name="octolytics-dimension-repository_id" /><meta content="alfredessa/pdacookbook" name="octolytics-dimension-repository_nwo" /><meta content="true" name="octolytics-dimension-repository_public" /><meta content="false" name="octolytics-dimension-repository_is_fork" /><meta content="11933446" name="octolytics-dimension-repository_network_root_id" /><meta content="alfredessa/pdacookbook" name="octolytics-dimension-repository_network_root_nwo" />
  <link href="https://github.com/alfredessa/pdacookbook/commits/master.atom" rel="alternate" title="Recent Commits to pdacookbook:master" type="application/atom+xml">

  </head>


  <body class="logged_out  env-production windows vis-public page-blob">
    <a href="#start-of-content" tabindex="1" class="accessibility-aid js-skip-to-content">Skip to content</a>
    <div class="wrapper">
      
      
      


        
        <div class="header header-logged-out" role="banner">
  <div class="container clearfix">

    <a class="header-logo-wordmark" href="https://github.com/" data-ga-click="(Logged out) Header, go to homepage, icon:logo-wordmark">
      <span class="mega-octicon octicon-logo-github"></span>
    </a>

    <div class="header-actions" role="navigation">
        <a class="btn btn-primary" href="/join" data-ga-click="(Logged out) Header, clicked Sign up, text:sign-up">Sign up</a>
      <a class="btn" href="/login?return_to=%2Falfredessa%2Fpdacookbook%2Fblob%2Fmaster%2FPythonPandasCookbook2.1.ipynb" data-ga-click="(Logged out) Header, clicked Sign in, text:sign-in">Sign in</a>
    </div>

    <div class="site-search repo-scope js-site-search" role="search">
      <form accept-charset="UTF-8" action="/alfredessa/pdacookbook/search" class="js-site-search-form" data-global-search-url="/search" data-repo-search-url="/alfredessa/pdacookbook/search" method="get"><div style="margin:0;padding:0;display:inline"><input name="utf8" type="hidden" value="&#x2713;" /></div>
  <input type="text"
    class="js-site-search-field is-clearable"
    data-hotkey="s"
    name="q"
    placeholder="Search"
    data-global-scope-placeholder="Search GitHub"
    data-repo-scope-placeholder="Search"
    tabindex="1"
    autocapitalize="off">
  <div class="scope-badge">This repository</div>
</form>
    </div>

      <ul class="header-nav left" role="navigation">
          <li class="header-nav-item">
            <a class="header-nav-link" href="/explore" data-ga-click="(Logged out) Header, go to explore, text:explore">Explore</a>
          </li>
          <li class="header-nav-item">
            <a class="header-nav-link" href="/features" data-ga-click="(Logged out) Header, go to features, text:features">Features</a>
          </li>
          <li class="header-nav-item">
            <a class="header-nav-link" href="https://enterprise.github.com/" data-ga-click="(Logged out) Header, go to enterprise, text:enterprise">Enterprise</a>
          </li>
          <li class="header-nav-item">
            <a class="header-nav-link" href="/blog" data-ga-click="(Logged out) Header, go to blog, text:blog">Blog</a>
          </li>
      </ul>

  </div>
</div>



      <div id="start-of-content" class="accessibility-aid"></div>
          <div class="site" itemscope itemtype="http://schema.org/WebPage">
    <div id="js-flash-container">
      
    </div>
    <div class="pagehead repohead instapaper_ignore readability-menu">
      <div class="container">
        
<ul class="pagehead-actions">

  <li>
      <a href="/login?return_to=%2Falfredessa%2Fpdacookbook"
    class="btn btn-sm btn-with-count tooltipped tooltipped-n"
    aria-label="You must be signed in to watch a repository" rel="nofollow">
    <span class="octicon octicon-eye"></span>
    Watch
  </a>
  <a class="social-count" href="/alfredessa/pdacookbook/watchers">
    2
  </a>

  </li>

  <li>
      <a href="/login?return_to=%2Falfredessa%2Fpdacookbook"
    class="btn btn-sm btn-with-count tooltipped tooltipped-n"
    aria-label="You must be signed in to star a repository" rel="nofollow">
    <span class="octicon octicon-star"></span>
    Star
  </a>

    <a class="social-count js-social-count" href="/alfredessa/pdacookbook/stargazers">
      11
    </a>

  </li>

    <li>
      <a href="/login?return_to=%2Falfredessa%2Fpdacookbook"
        class="btn btn-sm btn-with-count tooltipped tooltipped-n"
        aria-label="You must be signed in to fork a repository" rel="nofollow">
        <span class="octicon octicon-repo-forked"></span>
        Fork
      </a>
      <a href="/alfredessa/pdacookbook/network" class="social-count">
        35
      </a>
    </li>
</ul>

        <h1 itemscope itemtype="http://data-vocabulary.org/Breadcrumb" class="entry-title public">
          <span class="mega-octicon octicon-repo"></span>
          <span class="author"><a href="/alfredessa" class="url fn" itemprop="url" rel="author"><span itemprop="title">alfredessa</span></a></span><!--
       --><span class="path-divider">/</span><!--
       --><strong><a href="/alfredessa/pdacookbook" class="js-current-repository" data-pjax="#js-repo-pjax-container">pdacookbook</a></strong>

          <span class="page-context-loader">
            <img alt="" height="16" src="https://assets-cdn.github.com/assets/spinners/octocat-spinner-32-e513294efa576953719e4e2de888dd9cf929b7d62ed8d05f25e731d02452ab6c.gif" width="16" />
          </span>

        </h1>
      </div><!-- /.container -->
    </div><!-- /.repohead -->

    <div class="container">
      <div class="repository-with-sidebar repo-container new-discussion-timeline  ">
        <div class="repository-sidebar clearfix">
            
<nav class="sunken-menu repo-nav js-repo-nav js-sidenav-container-pjax js-octicon-loaders"
     role="navigation"
     data-pjax="#js-repo-pjax-container"
     data-issue-count-url="/alfredessa/pdacookbook/issues/counts">
  <ul class="sunken-menu-group">
    <li class="tooltipped tooltipped-w" aria-label="Code">
      <a href="/alfredessa/pdacookbook" aria-label="Code" class="selected js-selected-navigation-item sunken-menu-item" data-hotkey="g c" data-selected-links="repo_source repo_downloads repo_commits repo_releases repo_tags repo_branches /alfredessa/pdacookbook">
        <span class="octicon octicon-code"></span> <span class="full-word">Code</span>
        <img alt="" class="mini-loader" height="16" src="https://assets-cdn.github.com/assets/spinners/octocat-spinner-32-e513294efa576953719e4e2de888dd9cf929b7d62ed8d05f25e731d02452ab6c.gif" width="16" />
</a>    </li>

      <li class="tooltipped tooltipped-w" aria-label="Issues">
        <a href="/alfredessa/pdacookbook/issues" aria-label="Issues" class="js-selected-navigation-item sunken-menu-item" data-hotkey="g i" data-selected-links="repo_issues repo_labels repo_milestones /alfredessa/pdacookbook/issues">
          <span class="octicon octicon-issue-opened"></span> <span class="full-word">Issues</span>
          <span class="js-issue-replace-counter"></span>
          <img alt="" class="mini-loader" height="16" src="https://assets-cdn.github.com/assets/spinners/octocat-spinner-32-e513294efa576953719e4e2de888dd9cf929b7d62ed8d05f25e731d02452ab6c.gif" width="16" />
</a>      </li>

    <li class="tooltipped tooltipped-w" aria-label="Pull requests">
      <a href="/alfredessa/pdacookbook/pulls" aria-label="Pull requests" class="js-selected-navigation-item sunken-menu-item" data-hotkey="g p" data-selected-links="repo_pulls /alfredessa/pdacookbook/pulls">
          <span class="octicon octicon-git-pull-request"></span> <span class="full-word">Pull requests</span>
          <span class="js-pull-replace-counter"></span>
          <img alt="" class="mini-loader" height="16" src="https://assets-cdn.github.com/assets/spinners/octocat-spinner-32-e513294efa576953719e4e2de888dd9cf929b7d62ed8d05f25e731d02452ab6c.gif" width="16" />
</a>    </li>

  </ul>
  <div class="sunken-menu-separator"></div>
  <ul class="sunken-menu-group">

    <li class="tooltipped tooltipped-w" aria-label="Pulse">
      <a href="/alfredessa/pdacookbook/pulse" aria-label="Pulse" class="js-selected-navigation-item sunken-menu-item" data-selected-links="pulse /alfredessa/pdacookbook/pulse">
        <span class="octicon octicon-pulse"></span> <span class="full-word">Pulse</span>
        <img alt="" class="mini-loader" height="16" src="https://assets-cdn.github.com/assets/spinners/octocat-spinner-32-e513294efa576953719e4e2de888dd9cf929b7d62ed8d05f25e731d02452ab6c.gif" width="16" />
</a>    </li>

    <li class="tooltipped tooltipped-w" aria-label="Graphs">
      <a href="/alfredessa/pdacookbook/graphs" aria-label="Graphs" class="js-selected-navigation-item sunken-menu-item" data-selected-links="repo_graphs repo_contributors /alfredessa/pdacookbook/graphs">
        <span class="octicon octicon-graph"></span> <span class="full-word">Graphs</span>
        <img alt="" class="mini-loader" height="16" src="https://assets-cdn.github.com/assets/spinners/octocat-spinner-32-e513294efa576953719e4e2de888dd9cf929b7d62ed8d05f25e731d02452ab6c.gif" width="16" />
</a>    </li>
  </ul>


</nav>

              <div class="only-with-full-nav">
                  
<div class="clone-url open"
  data-protocol-type="http"
  data-url="/users/set_protocol?protocol_selector=http&amp;protocol_type=clone">
  <h3><span class="text-emphasized">HTTPS</span> clone URL</h3>
  <div class="input-group js-zeroclipboard-container">
    <input type="text" class="input-mini input-monospace js-url-field js-zeroclipboard-target"
           value="https://github.com/alfredessa/pdacookbook.git" readonly="readonly">
    <span class="input-group-button">
      <button aria-label="Copy to clipboard" class="js-zeroclipboard btn btn-sm zeroclipboard-button" data-copied-hint="Copied!" type="button"><span class="octicon octicon-clippy"></span></button>
    </span>
  </div>
</div>

  
<div class="clone-url "
  data-protocol-type="subversion"
  data-url="/users/set_protocol?protocol_selector=subversion&amp;protocol_type=clone">
  <h3><span class="text-emphasized">Subversion</span> checkout URL</h3>
  <div class="input-group js-zeroclipboard-container">
    <input type="text" class="input-mini input-monospace js-url-field js-zeroclipboard-target"
           value="https://github.com/alfredessa/pdacookbook" readonly="readonly">
    <span class="input-group-button">
      <button aria-label="Copy to clipboard" class="js-zeroclipboard btn btn-sm zeroclipboard-button" data-copied-hint="Copied!" type="button"><span class="octicon octicon-clippy"></span></button>
    </span>
  </div>
</div>



<p class="clone-options">You can clone with
  <a href="#" class="js-clone-selector" data-protocol="http">HTTPS</a> or <a href="#" class="js-clone-selector" data-protocol="subversion">Subversion</a>.
  <a href="https://help.github.com/articles/which-remote-url-should-i-use" class="help tooltipped tooltipped-n" aria-label="Get help on which URL is right for you.">
    <span class="octicon octicon-question"></span>
  </a>
</p>


  <a href="https://windows.github.com" class="btn btn-sm sidebar-button" title="Save alfredessa/pdacookbook to your computer and use it in GitHub Desktop." aria-label="Save alfredessa/pdacookbook to your computer and use it in GitHub Desktop.">
    <span class="octicon octicon-device-desktop"></span>
    Clone in Desktop
  </a>

                <a href="/alfredessa/pdacookbook/archive/master.zip"
                   class="btn btn-sm sidebar-button"
                   aria-label="Download the contents of alfredessa/pdacookbook as a zip file"
                   title="Download the contents of alfredessa/pdacookbook as a zip file"
                   rel="nofollow">
                  <span class="octicon octicon-cloud-download"></span>
                  Download ZIP
                </a>
              </div>
        </div><!-- /.repository-sidebar -->

        <div id="js-repo-pjax-container" class="repository-content context-loader-container" data-pjax-container>
          

<a href="/alfredessa/pdacookbook/blob/3c302c20be5695f1b7787e64fb7708fe96757339/PythonPandasCookbook2.1.ipynb" class="hidden js-permalink-shortcut" data-hotkey="y">Permalink</a>

<!-- blob contrib key: blob_contributors:v21:fe5e30c659ab05708596a7ad6ba3d8d3 -->

<div class="file-navigation js-zeroclipboard-container">
  
<div class="select-menu js-menu-container js-select-menu left">
  <span class="btn btn-sm select-menu-button js-menu-target css-truncate" data-hotkey="w"
    data-master-branch="master"
    data-ref="master"
    title="master"
    role="button" aria-label="Switch branches or tags" tabindex="0" aria-haspopup="true">
    <span class="octicon octicon-git-branch"></span>
    <i>branch:</i>
    <span class="js-select-button css-truncate-target">master</span>
  </span>

  <div class="select-menu-modal-holder js-menu-content js-navigation-container" data-pjax aria-hidden="true">

    <div class="select-menu-modal">
      <div class="select-menu-header">
        <span class="select-menu-title">Switch branches/tags</span>
        <span class="octicon octicon-x js-menu-close" role="button" aria-label="Close"></span>
      </div>

      <div class="select-menu-filters">
        <div class="select-menu-text-filter">
          <input type="text" aria-label="Filter branches/tags" id="context-commitish-filter-field" class="js-filterable-field js-navigation-enable" placeholder="Filter branches/tags">
        </div>
        <div class="select-menu-tabs">
          <ul>
            <li class="select-menu-tab">
              <a href="#" data-tab-filter="branches" data-filter-placeholder="Filter branches/tags" class="js-select-menu-tab">Branches</a>
            </li>
            <li class="select-menu-tab">
              <a href="#" data-tab-filter="tags" data-filter-placeholder="Find a tag…" class="js-select-menu-tab">Tags</a>
            </li>
          </ul>
        </div>
      </div>

      <div class="select-menu-list select-menu-tab-bucket js-select-menu-tab-bucket" data-tab-filter="branches">

        <div data-filterable-for="context-commitish-filter-field" data-filterable-type="substring">


            <a class="select-menu-item js-navigation-item js-navigation-open selected"
               href="/alfredessa/pdacookbook/blob/master/PythonPandasCookbook2.1.ipynb"
               data-name="master"
               data-skip-pjax="true"
               rel="nofollow">
              <span class="select-menu-item-icon octicon octicon-check"></span>
              <span class="select-menu-item-text css-truncate-target" title="master">
                master
              </span>
            </a>
        </div>

          <div class="select-menu-no-results">Nothing to show</div>
      </div>

      <div class="select-menu-list select-menu-tab-bucket js-select-menu-tab-bucket" data-tab-filter="tags">
        <div data-filterable-for="context-commitish-filter-field" data-filterable-type="substring">


        </div>

        <div class="select-menu-no-results">Nothing to show</div>
      </div>

    </div>
  </div>
</div>

  <div class="btn-group right">
    <a href="/alfredessa/pdacookbook/find/master"
          class="js-show-file-finder btn btn-sm empty-icon tooltipped tooltipped-s"
          data-pjax
          data-hotkey="t"
          aria-label="Quickly jump between files">
      <span class="octicon octicon-list-unordered"></span>
    </a>
    <button aria-label="Copy file path to clipboard" class="js-zeroclipboard btn btn-sm zeroclipboard-button" data-copied-hint="Copied!" type="button"><span class="octicon octicon-clippy"></span></button>
  </div>

  <div class="breadcrumb js-zeroclipboard-target">
    <span class='repo-root js-repo-root'><span itemscope="" itemtype="http://data-vocabulary.org/Breadcrumb"><a href="/alfredessa/pdacookbook" class="" data-branch="master" data-direction="back" data-pjax="true" itemscope="url"><span itemprop="title">pdacookbook</span></a></span></span><span class="separator">/</span><strong class="final-path">PythonPandasCookbook2.1.ipynb</strong>
  </div>
</div>


  <div class="commit file-history-tease">
    <div class="file-history-tease-header">
        <img alt="@alfredessa" class="avatar" data-user="3757284" height="24" src="https://avatars0.githubusercontent.com/u/3757284?v=3&amp;s=48" width="24" />
        <span class="author"><a href="/alfredessa" rel="author">alfredessa</a></span>
        <time datetime="2013-12-28T19:01:52Z" is="relative-time">Dec 28, 2013</time>
        <div class="commit-title">
            <a href="/alfredessa/pdacookbook/commit/cc1ff603dc5468691861d9f8589be45a44c355c6" class="message" data-pjax="true" title="Added 3.1Tutorial">Added 3.1Tutorial</a>
        </div>
    </div>

    <div class="participation">
      <p class="quickstat">
        <a href="#blob_contributors_box" rel="facebox">
          <strong>1</strong>
           contributor
        </a>
      </p>
      
    </div>
    <div id="blob_contributors_box" style="display:none">
      <h2 class="facebox-header">Users who have contributed to this file</h2>
      <ul class="facebox-user-list">
          <li class="facebox-user-list-item">
            <img alt="@alfredessa" data-user="3757284" height="24" src="https://avatars0.githubusercontent.com/u/3757284?v=3&amp;s=48" width="24" />
            <a href="/alfredessa">alfredessa</a>
          </li>
      </ul>
    </div>
  </div>

<div class="file">
  <div class="file-header">
    <div class="file-actions">

      <div class="btn-group">
        <a href="/alfredessa/pdacookbook/raw/master/PythonPandasCookbook2.1.ipynb" class="btn btn-sm " id="raw-url">Raw</a>
          <a href="/alfredessa/pdacookbook/blame/master/PythonPandasCookbook2.1.ipynb" class="btn btn-sm js-update-url-with-hash">Blame</a>
        <a href="/alfredessa/pdacookbook/commits/master/PythonPandasCookbook2.1.ipynb" class="btn btn-sm " rel="nofollow">History</a>
      </div>

        <a class="octicon-btn tooltipped tooltipped-nw"
           href="https://windows.github.com"
           aria-label="Open this file in GitHub for Windows">
            <span class="octicon octicon-device-desktop"></span>
        </a>

          <button type="button" class="octicon-btn disabled tooltipped tooltipped-n" aria-label="You must be signed in to make or propose changes">
            <span class="octicon octicon-pencil"></span>
          </button>

        <button type="button" class="octicon-btn octicon-btn-danger disabled tooltipped tooltipped-n" aria-label="You must be signed in to make or propose changes">
          <span class="octicon octicon-trashcan"></span>
        </button>
    </div>

    <div class="file-info">
        1047 lines (1047 sloc)
        <span class="file-info-divider"></span>
      57.113 kb
    </div>
  </div>
  
  <div class="blob-wrapper data type-text">
      <table class="highlight tab-size-8 js-file-line-container">
      <tr>
        <td id="L1" class="blob-num js-line-number" data-line-number="1"></td>
        <td id="LC1" class="blob-code js-file-line">{</td>
      </tr>
      <tr>
        <td id="L2" class="blob-num js-line-number" data-line-number="2"></td>
        <td id="LC2" class="blob-code js-file-line"> &quot;metadata&quot;: {</td>
      </tr>
      <tr>
        <td id="L3" class="blob-num js-line-number" data-line-number="3"></td>
        <td id="LC3" class="blob-code js-file-line">  &quot;name&quot;: &quot;&quot;</td>
      </tr>
      <tr>
        <td id="L4" class="blob-num js-line-number" data-line-number="4"></td>
        <td id="LC4" class="blob-code js-file-line"> },</td>
      </tr>
      <tr>
        <td id="L5" class="blob-num js-line-number" data-line-number="5"></td>
        <td id="LC5" class="blob-code js-file-line"> &quot;nbformat&quot;: 3,</td>
      </tr>
      <tr>
        <td id="L6" class="blob-num js-line-number" data-line-number="6"></td>
        <td id="LC6" class="blob-code js-file-line"> &quot;nbformat_minor&quot;: 0,</td>
      </tr>
      <tr>
        <td id="L7" class="blob-num js-line-number" data-line-number="7"></td>
        <td id="LC7" class="blob-code js-file-line"> &quot;worksheets&quot;: [</td>
      </tr>
      <tr>
        <td id="L8" class="blob-num js-line-number" data-line-number="8"></td>
        <td id="LC8" class="blob-code js-file-line">  {</td>
      </tr>
      <tr>
        <td id="L9" class="blob-num js-line-number" data-line-number="9"></td>
        <td id="LC9" class="blob-code js-file-line">   &quot;cells&quot;: [</td>
      </tr>
      <tr>
        <td id="L10" class="blob-num js-line-number" data-line-number="10"></td>
        <td id="LC10" class="blob-code js-file-line">    {</td>
      </tr>
      <tr>
        <td id="L11" class="blob-num js-line-number" data-line-number="11"></td>
        <td id="LC11" class="blob-code js-file-line">     &quot;cell_type&quot;: &quot;markdown&quot;,</td>
      </tr>
      <tr>
        <td id="L12" class="blob-num js-line-number" data-line-number="12"></td>
        <td id="LC12" class="blob-code js-file-line">     &quot;metadata&quot;: {},</td>
      </tr>
      <tr>
        <td id="L13" class="blob-num js-line-number" data-line-number="13"></td>
        <td id="LC13" class="blob-code js-file-line">     &quot;source&quot;: [</td>
      </tr>
      <tr>
        <td id="L14" class="blob-num js-line-number" data-line-number="14"></td>
        <td id="LC14" class="blob-code js-file-line">      &quot;# Python for Data Analysis Lightning Tutorials\n&quot;,</td>
      </tr>
      <tr>
        <td id="L15" class="blob-num js-line-number" data-line-number="15"></td>
        <td id="LC15" class="blob-code js-file-line">      &quot;## Pandas Cookbook Series\n&quot;,</td>
      </tr>
      <tr>
        <td id="L16" class="blob-num js-line-number" data-line-number="16"></td>
        <td id="LC16" class="blob-code js-file-line">      &quot;&lt;img src=\&quot;files/images/feynman-bongo.jpg\&quot; width =100, height=200&gt;\n&quot;,</td>
      </tr>
      <tr>
        <td id="L17" class="blob-num js-line-number" data-line-number="17"></td>
        <td id="LC17" class="blob-code js-file-line">      &quot;\n&quot;,</td>
      </tr>
      <tr>
        <td id="L18" class="blob-num js-line-number" data-line-number="18"></td>
        <td id="LC18" class="blob-code js-file-line">      &quot;\n&quot;,</td>
      </tr>
      <tr>
        <td id="L19" class="blob-num js-line-number" data-line-number="19"></td>
        <td id="LC19" class="blob-code js-file-line">      &quot;**Python for Data Analysis Lightning Tutorials** is a series of tutorials in Data Analysis, Statistics, and Graphics using Python. The **Pandas Cookbook** series of tutorials provides recipes for common tasks and moves on to more advanced topics in statistics and time series analysis. \n&quot;,</td>
      </tr>
      <tr>
        <td id="L20" class="blob-num js-line-number" data-line-number="20"></td>
        <td id="LC20" class="blob-code js-file-line">      &quot;\n&quot;,</td>
      </tr>
      <tr>
        <td id="L21" class="blob-num js-line-number" data-line-number="21"></td>
        <td id="LC21" class="blob-code js-file-line">      &quot;&lt;i&gt;Created by Alfred Essa&lt;/i&gt;, Dec 22nd, 2013 \n&quot;,</td>
      </tr>
      <tr>
        <td id="L22" class="blob-num js-line-number" data-line-number="22"></td>
        <td id="LC22" class="blob-code js-file-line">      &quot;\n&quot;,</td>
      </tr>
      <tr>
        <td id="L23" class="blob-num js-line-number" data-line-number="23"></td>
        <td id="LC23" class="blob-code js-file-line">      &quot;Note: IPython Notebook and Data files can be found at my Github Site: http://github/alfredessa\n&quot;</td>
      </tr>
      <tr>
        <td id="L24" class="blob-num js-line-number" data-line-number="24"></td>
        <td id="LC24" class="blob-code js-file-line">     ]</td>
      </tr>
      <tr>
        <td id="L25" class="blob-num js-line-number" data-line-number="25"></td>
        <td id="LC25" class="blob-code js-file-line">    },</td>
      </tr>
      <tr>
        <td id="L26" class="blob-num js-line-number" data-line-number="26"></td>
        <td id="LC26" class="blob-code js-file-line">    {</td>
      </tr>
      <tr>
        <td id="L27" class="blob-num js-line-number" data-line-number="27"></td>
        <td id="LC27" class="blob-code js-file-line">     &quot;cell_type&quot;: &quot;markdown&quot;,</td>
      </tr>
      <tr>
        <td id="L28" class="blob-num js-line-number" data-line-number="28"></td>
        <td id="LC28" class="blob-code js-file-line">     &quot;metadata&quot;: {},</td>
      </tr>
      <tr>
        <td id="L29" class="blob-num js-line-number" data-line-number="29"></td>
        <td id="LC29" class="blob-code js-file-line">     &quot;source&quot;: [</td>
      </tr>
      <tr>
        <td id="L30" class="blob-num js-line-number" data-line-number="30"></td>
        <td id="LC30" class="blob-code js-file-line">      &quot;## Chapter 2: Common Operations\n&quot;,</td>
      </tr>
      <tr>
        <td id="L31" class="blob-num js-line-number" data-line-number="31"></td>
        <td id="LC31" class="blob-code js-file-line">      &quot;\n&quot;,</td>
      </tr>
      <tr>
        <td id="L32" class="blob-num js-line-number" data-line-number="32"></td>
        <td id="LC32" class="blob-code js-file-line">      &quot;### 2.1 Problem. How can I sort in a DataFrame?&quot;</td>
      </tr>
      <tr>
        <td id="L33" class="blob-num js-line-number" data-line-number="33"></td>
        <td id="LC33" class="blob-code js-file-line">     ]</td>
      </tr>
      <tr>
        <td id="L34" class="blob-num js-line-number" data-line-number="34"></td>
        <td id="LC34" class="blob-code js-file-line">    },</td>
      </tr>
      <tr>
        <td id="L35" class="blob-num js-line-number" data-line-number="35"></td>
        <td id="LC35" class="blob-code js-file-line">    {</td>
      </tr>
      <tr>
        <td id="L36" class="blob-num js-line-number" data-line-number="36"></td>
        <td id="LC36" class="blob-code js-file-line">     &quot;cell_type&quot;: &quot;markdown&quot;,</td>
      </tr>
      <tr>
        <td id="L37" class="blob-num js-line-number" data-line-number="37"></td>
        <td id="LC37" class="blob-code js-file-line">     &quot;metadata&quot;: {},</td>
      </tr>
      <tr>
        <td id="L38" class="blob-num js-line-number" data-line-number="38"></td>
        <td id="LC38" class="blob-code js-file-line">     &quot;source&quot;: [</td>
      </tr>
      <tr>
        <td id="L39" class="blob-num js-line-number" data-line-number="39"></td>
        <td id="LC39" class="blob-code js-file-line">      &quot;#### 2.11 Review: DataFrame Object\n&quot;,</td>
      </tr>
      <tr>
        <td id="L40" class="blob-num js-line-number" data-line-number="40"></td>
        <td id="LC40" class="blob-code js-file-line">      &quot;\n&quot;,</td>
      </tr>
      <tr>
        <td id="L41" class="blob-num js-line-number" data-line-number="41"></td>
        <td id="LC41" class="blob-code js-file-line">      &quot;The **DataFrame** data structure in Pandas is a &lt;i&gt;two-dimensional labeled array&lt;/i&gt;. \n&quot;,</td>
      </tr>
      <tr>
        <td id="L42" class="blob-num js-line-number" data-line-number="42"></td>
        <td id="LC42" class="blob-code js-file-line">      &quot;\n&quot;,</td>
      </tr>
      <tr>
        <td id="L43" class="blob-num js-line-number" data-line-number="43"></td>
        <td id="LC43" class="blob-code js-file-line">      &quot;\n&quot;,</td>
      </tr>
      <tr>
        <td id="L44" class="blob-num js-line-number" data-line-number="44"></td>
        <td id="LC44" class="blob-code js-file-line">      &quot;    \n&quot;,</td>
      </tr>
      <tr>
        <td id="L45" class="blob-num js-line-number" data-line-number="45"></td>
        <td id="LC45" class="blob-code js-file-line">      &quot;&lt;img src=\&quot;files/images/df2.jpg\&quot;&gt;&quot;</td>
      </tr>
      <tr>
        <td id="L46" class="blob-num js-line-number" data-line-number="46"></td>
        <td id="LC46" class="blob-code js-file-line">     ]</td>
      </tr>
      <tr>
        <td id="L47" class="blob-num js-line-number" data-line-number="47"></td>
        <td id="LC47" class="blob-code js-file-line">    },</td>
      </tr>
      <tr>
        <td id="L48" class="blob-num js-line-number" data-line-number="48"></td>
        <td id="LC48" class="blob-code js-file-line">    {</td>
      </tr>
      <tr>
        <td id="L49" class="blob-num js-line-number" data-line-number="49"></td>
        <td id="LC49" class="blob-code js-file-line">     &quot;cell_type&quot;: &quot;markdown&quot;,</td>
      </tr>
      <tr>
        <td id="L50" class="blob-num js-line-number" data-line-number="50"></td>
        <td id="LC50" class="blob-code js-file-line">     &quot;metadata&quot;: {},</td>
      </tr>
      <tr>
        <td id="L51" class="blob-num js-line-number" data-line-number="51"></td>
        <td id="LC51" class="blob-code js-file-line">     &quot;source&quot;: [</td>
      </tr>
      <tr>
        <td id="L52" class="blob-num js-line-number" data-line-number="52"></td>
        <td id="LC52" class="blob-code js-file-line">      &quot;#### 2.12 Import Pandas and Read .CSV File of Major League Baseball Salaries&quot;</td>
      </tr>
      <tr>
        <td id="L53" class="blob-num js-line-number" data-line-number="53"></td>
        <td id="LC53" class="blob-code js-file-line">     ]</td>
      </tr>
      <tr>
        <td id="L54" class="blob-num js-line-number" data-line-number="54"></td>
        <td id="LC54" class="blob-code js-file-line">    },</td>
      </tr>
      <tr>
        <td id="L55" class="blob-num js-line-number" data-line-number="55"></td>
        <td id="LC55" class="blob-code js-file-line">    {</td>
      </tr>
      <tr>
        <td id="L56" class="blob-num js-line-number" data-line-number="56"></td>
        <td id="LC56" class="blob-code js-file-line">     &quot;cell_type&quot;: &quot;code&quot;,</td>
      </tr>
      <tr>
        <td id="L57" class="blob-num js-line-number" data-line-number="57"></td>
        <td id="LC57" class="blob-code js-file-line">     &quot;collapsed&quot;: false,</td>
      </tr>
      <tr>
        <td id="L58" class="blob-num js-line-number" data-line-number="58"></td>
        <td id="LC58" class="blob-code js-file-line">     &quot;input&quot;: [</td>
      </tr>
      <tr>
        <td id="L59" class="blob-num js-line-number" data-line-number="59"></td>
        <td id="LC59" class="blob-code js-file-line">      &quot;import pandas as pd&quot;</td>
      </tr>
      <tr>
        <td id="L60" class="blob-num js-line-number" data-line-number="60"></td>
        <td id="LC60" class="blob-code js-file-line">     ],</td>
      </tr>
      <tr>
        <td id="L61" class="blob-num js-line-number" data-line-number="61"></td>
        <td id="LC61" class="blob-code js-file-line">     &quot;language&quot;: &quot;python&quot;,</td>
      </tr>
      <tr>
        <td id="L62" class="blob-num js-line-number" data-line-number="62"></td>
        <td id="LC62" class="blob-code js-file-line">     &quot;metadata&quot;: {},</td>
      </tr>
      <tr>
        <td id="L63" class="blob-num js-line-number" data-line-number="63"></td>
        <td id="LC63" class="blob-code js-file-line">     &quot;outputs&quot;: [],</td>
      </tr>
      <tr>
        <td id="L64" class="blob-num js-line-number" data-line-number="64"></td>
        <td id="LC64" class="blob-code js-file-line">     &quot;prompt_number&quot;: 32</td>
      </tr>
      <tr>
        <td id="L65" class="blob-num js-line-number" data-line-number="65"></td>
        <td id="LC65" class="blob-code js-file-line">    },</td>
      </tr>
      <tr>
        <td id="L66" class="blob-num js-line-number" data-line-number="66"></td>
        <td id="LC66" class="blob-code js-file-line">    {</td>
      </tr>
      <tr>
        <td id="L67" class="blob-num js-line-number" data-line-number="67"></td>
        <td id="LC67" class="blob-code js-file-line">     &quot;cell_type&quot;: &quot;code&quot;,</td>
      </tr>
      <tr>
        <td id="L68" class="blob-num js-line-number" data-line-number="68"></td>
        <td id="LC68" class="blob-code js-file-line">     &quot;collapsed&quot;: false,</td>
      </tr>
      <tr>
        <td id="L69" class="blob-num js-line-number" data-line-number="69"></td>
        <td id="LC69" class="blob-code js-file-line">     &quot;input&quot;: [</td>
      </tr>
      <tr>
        <td id="L70" class="blob-num js-line-number" data-line-number="70"></td>
        <td id="LC70" class="blob-code js-file-line">      &quot;mlb = pd.read_csv(&#39;data/mlbsalaries.csv&#39;)&quot;</td>
      </tr>
      <tr>
        <td id="L71" class="blob-num js-line-number" data-line-number="71"></td>
        <td id="LC71" class="blob-code js-file-line">     ],</td>
      </tr>
      <tr>
        <td id="L72" class="blob-num js-line-number" data-line-number="72"></td>
        <td id="LC72" class="blob-code js-file-line">     &quot;language&quot;: &quot;python&quot;,</td>
      </tr>
      <tr>
        <td id="L73" class="blob-num js-line-number" data-line-number="73"></td>
        <td id="LC73" class="blob-code js-file-line">     &quot;metadata&quot;: {},</td>
      </tr>
      <tr>
        <td id="L74" class="blob-num js-line-number" data-line-number="74"></td>
        <td id="LC74" class="blob-code js-file-line">     &quot;outputs&quot;: [],</td>
      </tr>
      <tr>
        <td id="L75" class="blob-num js-line-number" data-line-number="75"></td>
        <td id="LC75" class="blob-code js-file-line">     &quot;prompt_number&quot;: 33</td>
      </tr>
      <tr>
        <td id="L76" class="blob-num js-line-number" data-line-number="76"></td>
        <td id="LC76" class="blob-code js-file-line">    },</td>
      </tr>
      <tr>
        <td id="L77" class="blob-num js-line-number" data-line-number="77"></td>
        <td id="LC77" class="blob-code js-file-line">    {</td>
      </tr>
      <tr>
        <td id="L78" class="blob-num js-line-number" data-line-number="78"></td>
        <td id="LC78" class="blob-code js-file-line">     &quot;cell_type&quot;: &quot;code&quot;,</td>
      </tr>
      <tr>
        <td id="L79" class="blob-num js-line-number" data-line-number="79"></td>
        <td id="LC79" class="blob-code js-file-line">     &quot;collapsed&quot;: false,</td>
      </tr>
      <tr>
        <td id="L80" class="blob-num js-line-number" data-line-number="80"></td>
        <td id="LC80" class="blob-code js-file-line">     &quot;input&quot;: [</td>
      </tr>
      <tr>
        <td id="L81" class="blob-num js-line-number" data-line-number="81"></td>
        <td id="LC81" class="blob-code js-file-line">      &quot; mlb.tail()&quot;</td>
      </tr>
      <tr>
        <td id="L82" class="blob-num js-line-number" data-line-number="82"></td>
        <td id="LC82" class="blob-code js-file-line">     ],</td>
      </tr>
      <tr>
        <td id="L83" class="blob-num js-line-number" data-line-number="83"></td>
        <td id="LC83" class="blob-code js-file-line">     &quot;language&quot;: &quot;python&quot;,</td>
      </tr>
      <tr>
        <td id="L84" class="blob-num js-line-number" data-line-number="84"></td>
        <td id="LC84" class="blob-code js-file-line">     &quot;metadata&quot;: {},</td>
      </tr>
      <tr>
        <td id="L85" class="blob-num js-line-number" data-line-number="85"></td>
        <td id="LC85" class="blob-code js-file-line">     &quot;outputs&quot;: [</td>
      </tr>
      <tr>
        <td id="L86" class="blob-num js-line-number" data-line-number="86"></td>
        <td id="LC86" class="blob-code js-file-line">      {</td>
      </tr>
      <tr>
        <td id="L87" class="blob-num js-line-number" data-line-number="87"></td>
        <td id="LC87" class="blob-code js-file-line">       &quot;html&quot;: [</td>
      </tr>
      <tr>
        <td id="L88" class="blob-num js-line-number" data-line-number="88"></td>
        <td id="LC88" class="blob-code js-file-line">        &quot;&lt;div style=\&quot;max-height:1000px;max-width:1500px;overflow:auto;\&quot;&gt;\n&quot;,</td>
      </tr>
      <tr>
        <td id="L89" class="blob-num js-line-number" data-line-number="89"></td>
        <td id="LC89" class="blob-code js-file-line">        &quot;&lt;table border=\&quot;1\&quot; class=\&quot;dataframe\&quot;&gt;\n&quot;,</td>
      </tr>
      <tr>
        <td id="L90" class="blob-num js-line-number" data-line-number="90"></td>
        <td id="LC90" class="blob-code js-file-line">        &quot;  &lt;thead&gt;\n&quot;,</td>
      </tr>
      <tr>
        <td id="L91" class="blob-num js-line-number" data-line-number="91"></td>
        <td id="LC91" class="blob-code js-file-line">        &quot;    &lt;tr style=\&quot;text-align: right;\&quot;&gt;\n&quot;,</td>
      </tr>
      <tr>
        <td id="L92" class="blob-num js-line-number" data-line-number="92"></td>
        <td id="LC92" class="blob-code js-file-line">        &quot;      &lt;th&gt;&lt;/th&gt;\n&quot;,</td>
      </tr>
      <tr>
        <td id="L93" class="blob-num js-line-number" data-line-number="93"></td>
        <td id="LC93" class="blob-code js-file-line">        &quot;      &lt;th&gt;Year&lt;/th&gt;\n&quot;,</td>
      </tr>
      <tr>
        <td id="L94" class="blob-num js-line-number" data-line-number="94"></td>
        <td id="LC94" class="blob-code js-file-line">        &quot;      &lt;th&gt;Player&lt;/th&gt;\n&quot;,</td>
      </tr>
      <tr>
        <td id="L95" class="blob-num js-line-number" data-line-number="95"></td>
        <td id="LC95" class="blob-code js-file-line">        &quot;      &lt;th&gt;Salary&lt;/th&gt;\n&quot;,</td>
      </tr>
      <tr>
        <td id="L96" class="blob-num js-line-number" data-line-number="96"></td>
        <td id="LC96" class="blob-code js-file-line">        &quot;      &lt;th&gt;Position&lt;/th&gt;\n&quot;,</td>
      </tr>
      <tr>
        <td id="L97" class="blob-num js-line-number" data-line-number="97"></td>
        <td id="LC97" class="blob-code js-file-line">        &quot;      &lt;th&gt;Team&lt;/th&gt;\n&quot;,</td>
      </tr>
      <tr>
        <td id="L98" class="blob-num js-line-number" data-line-number="98"></td>
        <td id="LC98" class="blob-code js-file-line">        &quot;    &lt;/tr&gt;\n&quot;,</td>
      </tr>
      <tr>
        <td id="L99" class="blob-num js-line-number" data-line-number="99"></td>
        <td id="LC99" class="blob-code js-file-line">        &quot;  &lt;/thead&gt;\n&quot;,</td>
      </tr>
      <tr>
        <td id="L100" class="blob-num js-line-number" data-line-number="100"></td>
        <td id="LC100" class="blob-code js-file-line">        &quot;  &lt;tbody&gt;\n&quot;,</td>
      </tr>
      <tr>
        <td id="L101" class="blob-num js-line-number" data-line-number="101"></td>
        <td id="LC101" class="blob-code js-file-line">        &quot;    &lt;tr&gt;\n&quot;,</td>
      </tr>
      <tr>
        <td id="L102" class="blob-num js-line-number" data-line-number="102"></td>
        <td id="LC102" class="blob-code js-file-line">        &quot;      &lt;th&gt;19538&lt;/th&gt;\n&quot;,</td>
      </tr>
      <tr>
        <td id="L103" class="blob-num js-line-number" data-line-number="103"></td>
        <td id="LC103" class="blob-code js-file-line">        &quot;      &lt;td&gt; 2011&lt;/td&gt;\n&quot;,</td>
      </tr>
      <tr>
        <td id="L104" class="blob-num js-line-number" data-line-number="104"></td>
        <td id="LC104" class="blob-code js-file-line">        &quot;      &lt;td&gt; Gustavo Molina&lt;/td&gt;\n&quot;,</td>
      </tr>
      <tr>
        <td id="L105" class="blob-num js-line-number" data-line-number="105"></td>
        <td id="LC105" class="blob-code js-file-line">        &quot;      &lt;td&gt; 455000&lt;/td&gt;\n&quot;,</td>
      </tr>
      <tr>
        <td id="L106" class="blob-num js-line-number" data-line-number="106"></td>
        <td id="LC106" class="blob-code js-file-line">        &quot;      &lt;td&gt;        Catcher&lt;/td&gt;\n&quot;,</td>
      </tr>
      <tr>
        <td id="L107" class="blob-num js-line-number" data-line-number="107"></td>
        <td id="LC107" class="blob-code js-file-line">        &quot;      &lt;td&gt; New York Yankees&lt;/td&gt;\n&quot;,</td>
      </tr>
      <tr>
        <td id="L108" class="blob-num js-line-number" data-line-number="108"></td>
        <td id="LC108" class="blob-code js-file-line">        &quot;    &lt;/tr&gt;\n&quot;,</td>
      </tr>
      <tr>
        <td id="L109" class="blob-num js-line-number" data-line-number="109"></td>
        <td id="LC109" class="blob-code js-file-line">        &quot;    &lt;tr&gt;\n&quot;,</td>
      </tr>
      <tr>
        <td id="L110" class="blob-num js-line-number" data-line-number="110"></td>
        <td id="LC110" class="blob-code js-file-line">        &quot;      &lt;th&gt;19539&lt;/th&gt;\n&quot;,</td>
      </tr>
      <tr>
        <td id="L111" class="blob-num js-line-number" data-line-number="111"></td>
        <td id="LC111" class="blob-code js-file-line">        &quot;      &lt;td&gt; 2011&lt;/td&gt;\n&quot;,</td>
      </tr>
      <tr>
        <td id="L112" class="blob-num js-line-number" data-line-number="112"></td>
        <td id="LC112" class="blob-code js-file-line">        &quot;      &lt;td&gt;      Ivan Nova&lt;/td&gt;\n&quot;,</td>
      </tr>
      <tr>
        <td id="L113" class="blob-num js-line-number" data-line-number="113"></td>
        <td id="LC113" class="blob-code js-file-line">        &quot;      &lt;td&gt; 432900&lt;/td&gt;\n&quot;,</td>
      </tr>
      <tr>
        <td id="L114" class="blob-num js-line-number" data-line-number="114"></td>
        <td id="LC114" class="blob-code js-file-line">        &quot;      &lt;td&gt;        Pitcher&lt;/td&gt;\n&quot;,</td>
      </tr>
      <tr>
        <td id="L115" class="blob-num js-line-number" data-line-number="115"></td>
        <td id="LC115" class="blob-code js-file-line">        &quot;      &lt;td&gt; New York Yankees&lt;/td&gt;\n&quot;,</td>
      </tr>
      <tr>
        <td id="L116" class="blob-num js-line-number" data-line-number="116"></td>
        <td id="LC116" class="blob-code js-file-line">        &quot;    &lt;/tr&gt;\n&quot;,</td>
      </tr>
      <tr>
        <td id="L117" class="blob-num js-line-number" data-line-number="117"></td>
        <td id="LC117" class="blob-code js-file-line">        &quot;    &lt;tr&gt;\n&quot;,</td>
      </tr>
      <tr>
        <td id="L118" class="blob-num js-line-number" data-line-number="118"></td>
        <td id="LC118" class="blob-code js-file-line">        &quot;      &lt;th&gt;19540&lt;/th&gt;\n&quot;,</td>
      </tr>
      <tr>
        <td id="L119" class="blob-num js-line-number" data-line-number="119"></td>
        <td id="LC119" class="blob-code js-file-line">        &quot;      &lt;td&gt; 2011&lt;/td&gt;\n&quot;,</td>
      </tr>
      <tr>
        <td id="L120" class="blob-num js-line-number" data-line-number="120"></td>
        <td id="LC120" class="blob-code js-file-line">        &quot;      &lt;td&gt;   Colin Curtis&lt;/td&gt;\n&quot;,</td>
      </tr>
      <tr>
        <td id="L121" class="blob-num js-line-number" data-line-number="121"></td>
        <td id="LC121" class="blob-code js-file-line">        &quot;      &lt;td&gt; 420400&lt;/td&gt;\n&quot;,</td>
      </tr>
      <tr>
        <td id="L122" class="blob-num js-line-number" data-line-number="122"></td>
        <td id="LC122" class="blob-code js-file-line">        &quot;      &lt;td&gt;     Outfielder&lt;/td&gt;\n&quot;,</td>
      </tr>
      <tr>
        <td id="L123" class="blob-num js-line-number" data-line-number="123"></td>
        <td id="LC123" class="blob-code js-file-line">        &quot;      &lt;td&gt; New York Yankees&lt;/td&gt;\n&quot;,</td>
      </tr>
      <tr>
        <td id="L124" class="blob-num js-line-number" data-line-number="124"></td>
        <td id="LC124" class="blob-code js-file-line">        &quot;    &lt;/tr&gt;\n&quot;,</td>
      </tr>
      <tr>
        <td id="L125" class="blob-num js-line-number" data-line-number="125"></td>
        <td id="LC125" class="blob-code js-file-line">        &quot;    &lt;tr&gt;\n&quot;,</td>
      </tr>
      <tr>
        <td id="L126" class="blob-num js-line-number" data-line-number="126"></td>
        <td id="LC126" class="blob-code js-file-line">        &quot;      &lt;th&gt;19541&lt;/th&gt;\n&quot;,</td>
      </tr>
      <tr>
        <td id="L127" class="blob-num js-line-number" data-line-number="127"></td>
        <td id="LC127" class="blob-code js-file-line">        &quot;      &lt;td&gt; 2011&lt;/td&gt;\n&quot;,</td>
      </tr>
      <tr>
        <td id="L128" class="blob-num js-line-number" data-line-number="128"></td>
        <td id="LC128" class="blob-code js-file-line">        &quot;      &lt;td&gt;  Eduardo Nunez&lt;/td&gt;\n&quot;,</td>
      </tr>
      <tr>
        <td id="L129" class="blob-num js-line-number" data-line-number="129"></td>
        <td id="LC129" class="blob-code js-file-line">        &quot;      &lt;td&gt; 419300&lt;/td&gt;\n&quot;,</td>
      </tr>
      <tr>
        <td id="L130" class="blob-num js-line-number" data-line-number="130"></td>
        <td id="LC130" class="blob-code js-file-line">        &quot;      &lt;td&gt;      Shortstop&lt;/td&gt;\n&quot;,</td>
      </tr>
      <tr>
        <td id="L131" class="blob-num js-line-number" data-line-number="131"></td>
        <td id="LC131" class="blob-code js-file-line">        &quot;      &lt;td&gt; New York Yankees&lt;/td&gt;\n&quot;,</td>
      </tr>
      <tr>
        <td id="L132" class="blob-num js-line-number" data-line-number="132"></td>
        <td id="LC132" class="blob-code js-file-line">        &quot;    &lt;/tr&gt;\n&quot;,</td>
      </tr>
      <tr>
        <td id="L133" class="blob-num js-line-number" data-line-number="133"></td>
        <td id="LC133" class="blob-code js-file-line">        &quot;    &lt;tr&gt;\n&quot;,</td>
      </tr>
      <tr>
        <td id="L134" class="blob-num js-line-number" data-line-number="134"></td>
        <td id="LC134" class="blob-code js-file-line">        &quot;      &lt;th&gt;19542&lt;/th&gt;\n&quot;,</td>
      </tr>
      <tr>
        <td id="L135" class="blob-num js-line-number" data-line-number="135"></td>
        <td id="LC135" class="blob-code js-file-line">        &quot;      &lt;td&gt; 2011&lt;/td&gt;\n&quot;,</td>
      </tr>
      <tr>
        <td id="L136" class="blob-num js-line-number" data-line-number="136"></td>
        <td id="LC136" class="blob-code js-file-line">        &quot;      &lt;td&gt;  Reegie Corona&lt;/td&gt;\n&quot;,</td>
      </tr>
      <tr>
        <td id="L137" class="blob-num js-line-number" data-line-number="137"></td>
        <td id="LC137" class="blob-code js-file-line">        &quot;      &lt;td&gt; 414000&lt;/td&gt;\n&quot;,</td>
      </tr>
      <tr>
        <td id="L138" class="blob-num js-line-number" data-line-number="138"></td>
        <td id="LC138" class="blob-code js-file-line">        &quot;      &lt;td&gt; Second Baseman&lt;/td&gt;\n&quot;,</td>
      </tr>
      <tr>
        <td id="L139" class="blob-num js-line-number" data-line-number="139"></td>
        <td id="LC139" class="blob-code js-file-line">        &quot;      &lt;td&gt; New York Yankees&lt;/td&gt;\n&quot;,</td>
      </tr>
      <tr>
        <td id="L140" class="blob-num js-line-number" data-line-number="140"></td>
        <td id="LC140" class="blob-code js-file-line">        &quot;    &lt;/tr&gt;\n&quot;,</td>
      </tr>
      <tr>
        <td id="L141" class="blob-num js-line-number" data-line-number="141"></td>
        <td id="LC141" class="blob-code js-file-line">        &quot;  &lt;/tbody&gt;\n&quot;,</td>
      </tr>
      <tr>
        <td id="L142" class="blob-num js-line-number" data-line-number="142"></td>
        <td id="LC142" class="blob-code js-file-line">        &quot;&lt;/table&gt;\n&quot;,</td>
      </tr>
      <tr>
        <td id="L143" class="blob-num js-line-number" data-line-number="143"></td>
        <td id="LC143" class="blob-code js-file-line">        &quot;&lt;/div&gt;&quot;</td>
      </tr>
      <tr>
        <td id="L144" class="blob-num js-line-number" data-line-number="144"></td>
        <td id="LC144" class="blob-code js-file-line">       ],</td>
      </tr>
      <tr>
        <td id="L145" class="blob-num js-line-number" data-line-number="145"></td>
        <td id="LC145" class="blob-code js-file-line">       &quot;metadata&quot;: {},</td>
      </tr>
      <tr>
        <td id="L146" class="blob-num js-line-number" data-line-number="146"></td>
        <td id="LC146" class="blob-code js-file-line">       &quot;output_type&quot;: &quot;pyout&quot;,</td>
      </tr>
      <tr>
        <td id="L147" class="blob-num js-line-number" data-line-number="147"></td>
        <td id="LC147" class="blob-code js-file-line">       &quot;prompt_number&quot;: 35,</td>
      </tr>
      <tr>
        <td id="L148" class="blob-num js-line-number" data-line-number="148"></td>
        <td id="LC148" class="blob-code js-file-line">       &quot;text&quot;: [</td>
      </tr>
      <tr>
        <td id="L149" class="blob-num js-line-number" data-line-number="149"></td>
        <td id="LC149" class="blob-code js-file-line">        &quot;       Year          Player  Salary        Position              Team\n&quot;,</td>
      </tr>
      <tr>
        <td id="L150" class="blob-num js-line-number" data-line-number="150"></td>
        <td id="LC150" class="blob-code js-file-line">        &quot;19538  2011  Gustavo Molina  455000         Catcher  New York Yankees\n&quot;,</td>
      </tr>
      <tr>
        <td id="L151" class="blob-num js-line-number" data-line-number="151"></td>
        <td id="LC151" class="blob-code js-file-line">        &quot;19539  2011       Ivan Nova  432900         Pitcher  New York Yankees\n&quot;,</td>
      </tr>
      <tr>
        <td id="L152" class="blob-num js-line-number" data-line-number="152"></td>
        <td id="LC152" class="blob-code js-file-line">        &quot;19540  2011    Colin Curtis  420400      Outfielder  New York Yankees\n&quot;,</td>
      </tr>
      <tr>
        <td id="L153" class="blob-num js-line-number" data-line-number="153"></td>
        <td id="LC153" class="blob-code js-file-line">        &quot;19541  2011   Eduardo Nunez  419300       Shortstop  New York Yankees\n&quot;,</td>
      </tr>
      <tr>
        <td id="L154" class="blob-num js-line-number" data-line-number="154"></td>
        <td id="LC154" class="blob-code js-file-line">        &quot;19542  2011   Reegie Corona  414000  Second Baseman  New York Yankees&quot;</td>
      </tr>
      <tr>
        <td id="L155" class="blob-num js-line-number" data-line-number="155"></td>
        <td id="LC155" class="blob-code js-file-line">       ]</td>
      </tr>
      <tr>
        <td id="L156" class="blob-num js-line-number" data-line-number="156"></td>
        <td id="LC156" class="blob-code js-file-line">      }</td>
      </tr>
      <tr>
        <td id="L157" class="blob-num js-line-number" data-line-number="157"></td>
        <td id="LC157" class="blob-code js-file-line">     ],</td>
      </tr>
      <tr>
        <td id="L158" class="blob-num js-line-number" data-line-number="158"></td>
        <td id="LC158" class="blob-code js-file-line">     &quot;prompt_number&quot;: 35</td>
      </tr>
      <tr>
        <td id="L159" class="blob-num js-line-number" data-line-number="159"></td>
        <td id="LC159" class="blob-code js-file-line">    },</td>
      </tr>
      <tr>
        <td id="L160" class="blob-num js-line-number" data-line-number="160"></td>
        <td id="LC160" class="blob-code js-file-line">    {</td>
      </tr>
      <tr>
        <td id="L161" class="blob-num js-line-number" data-line-number="161"></td>
        <td id="LC161" class="blob-code js-file-line">     &quot;cell_type&quot;: &quot;markdown&quot;,</td>
      </tr>
      <tr>
        <td id="L162" class="blob-num js-line-number" data-line-number="162"></td>
        <td id="LC162" class="blob-code js-file-line">     &quot;metadata&quot;: {},</td>
      </tr>
      <tr>
        <td id="L163" class="blob-num js-line-number" data-line-number="163"></td>
        <td id="LC163" class="blob-code js-file-line">     &quot;source&quot;: [</td>
      </tr>
      <tr>
        <td id="L164" class="blob-num js-line-number" data-line-number="164"></td>
        <td id="LC164" class="blob-code js-file-line">      &quot;####2.13 Review: Use value_counts() method to identify unique values and corresponding counts&quot;</td>
      </tr>
      <tr>
        <td id="L165" class="blob-num js-line-number" data-line-number="165"></td>
        <td id="LC165" class="blob-code js-file-line">     ]</td>
      </tr>
      <tr>
        <td id="L166" class="blob-num js-line-number" data-line-number="166"></td>
        <td id="LC166" class="blob-code js-file-line">    },</td>
      </tr>
      <tr>
        <td id="L167" class="blob-num js-line-number" data-line-number="167"></td>
        <td id="LC167" class="blob-code js-file-line">    {</td>
      </tr>
      <tr>
        <td id="L168" class="blob-num js-line-number" data-line-number="168"></td>
        <td id="LC168" class="blob-code js-file-line">     &quot;cell_type&quot;: &quot;code&quot;,</td>
      </tr>
      <tr>
        <td id="L169" class="blob-num js-line-number" data-line-number="169"></td>
        <td id="LC169" class="blob-code js-file-line">     &quot;collapsed&quot;: false,</td>
      </tr>
      <tr>
        <td id="L170" class="blob-num js-line-number" data-line-number="170"></td>
        <td id="LC170" class="blob-code js-file-line">     &quot;input&quot;: [</td>
      </tr>
      <tr>
        <td id="L171" class="blob-num js-line-number" data-line-number="171"></td>
        <td id="LC171" class="blob-code js-file-line">      &quot;mlb.Year.value_counts()&quot;</td>
      </tr>
      <tr>
        <td id="L172" class="blob-num js-line-number" data-line-number="172"></td>
        <td id="LC172" class="blob-code js-file-line">     ],</td>
      </tr>
      <tr>
        <td id="L173" class="blob-num js-line-number" data-line-number="173"></td>
        <td id="LC173" class="blob-code js-file-line">     &quot;language&quot;: &quot;python&quot;,</td>
      </tr>
      <tr>
        <td id="L174" class="blob-num js-line-number" data-line-number="174"></td>
        <td id="LC174" class="blob-code js-file-line">     &quot;metadata&quot;: {},</td>
      </tr>
      <tr>
        <td id="L175" class="blob-num js-line-number" data-line-number="175"></td>
        <td id="LC175" class="blob-code js-file-line">     &quot;outputs&quot;: [</td>
      </tr>
      <tr>
        <td id="L176" class="blob-num js-line-number" data-line-number="176"></td>
        <td id="LC176" class="blob-code js-file-line">      {</td>
      </tr>
      <tr>
        <td id="L177" class="blob-num js-line-number" data-line-number="177"></td>
        <td id="LC177" class="blob-code js-file-line">       &quot;metadata&quot;: {},</td>
      </tr>
      <tr>
        <td id="L178" class="blob-num js-line-number" data-line-number="178"></td>
        <td id="LC178" class="blob-code js-file-line">       &quot;output_type&quot;: &quot;pyout&quot;,</td>
      </tr>
      <tr>
        <td id="L179" class="blob-num js-line-number" data-line-number="179"></td>
        <td id="LC179" class="blob-code js-file-line">       &quot;prompt_number&quot;: 39,</td>
      </tr>
      <tr>
        <td id="L180" class="blob-num js-line-number" data-line-number="180"></td>
        <td id="LC180" class="blob-code js-file-line">       &quot;text&quot;: [</td>
      </tr>
      <tr>
        <td id="L181" class="blob-num js-line-number" data-line-number="181"></td>
        <td id="LC181" class="blob-code js-file-line">        &quot;1990    972\n&quot;,</td>
      </tr>
      <tr>
        <td id="L182" class="blob-num js-line-number" data-line-number="182"></td>
        <td id="LC182" class="blob-code js-file-line">        &quot;1999    919\n&quot;,</td>
      </tr>
      <tr>
        <td id="L183" class="blob-num js-line-number" data-line-number="183"></td>
        <td id="LC183" class="blob-code js-file-line">        &quot;2008    858\n&quot;,</td>
      </tr>
      <tr>
        <td id="L184" class="blob-num js-line-number" data-line-number="184"></td>
        <td id="LC184" class="blob-code js-file-line">        &quot;2001    857\n&quot;,</td>
      </tr>
      <tr>
        <td id="L185" class="blob-num js-line-number" data-line-number="185"></td>
        <td id="LC185" class="blob-code js-file-line">        &quot;2002    849\n&quot;,</td>
      </tr>
      <tr>
        <td id="L186" class="blob-num js-line-number" data-line-number="186"></td>
        <td id="LC186" class="blob-code js-file-line">        &quot;2007    848\n&quot;,</td>
      </tr>
      <tr>
        <td id="L187" class="blob-num js-line-number" data-line-number="187"></td>
        <td id="LC187" class="blob-code js-file-line">        &quot;1998    846\n&quot;,</td>
      </tr>
      <tr>
        <td id="L188" class="blob-num js-line-number" data-line-number="188"></td>
        <td id="LC188" class="blob-code js-file-line">        &quot;2011    843\n&quot;,</td>
      </tr>
      <tr>
        <td id="L189" class="blob-num js-line-number" data-line-number="189"></td>
        <td id="LC189" class="blob-code js-file-line">        &quot;2000    843\n&quot;,</td>
      </tr>
      <tr>
        <td id="L190" class="blob-num js-line-number" data-line-number="190"></td>
        <td id="LC190" class="blob-code js-file-line">        &quot;2004    833\n&quot;,</td>
      </tr>
      <tr>
        <td id="L191" class="blob-num js-line-number" data-line-number="191"></td>
        <td id="LC191" class="blob-code js-file-line">        &quot;2005    831\n&quot;,</td>
      </tr>
      <tr>
        <td id="L192" class="blob-num js-line-number" data-line-number="192"></td>
        <td id="LC192" class="blob-code js-file-line">        &quot;2010    828\n&quot;,</td>
      </tr>
      <tr>
        <td id="L193" class="blob-num js-line-number" data-line-number="193"></td>
        <td id="LC193" class="blob-code js-file-line">        &quot;2003    826\n&quot;,</td>
      </tr>
      <tr>
        <td id="L194" class="blob-num js-line-number" data-line-number="194"></td>
        <td id="LC194" class="blob-code js-file-line">        &quot;2006    823\n&quot;,</td>
      </tr>
      <tr>
        <td id="L195" class="blob-num js-line-number" data-line-number="195"></td>
        <td id="LC195" class="blob-code js-file-line">        &quot;2009    818\n&quot;,</td>
      </tr>
      <tr>
        <td id="L196" class="blob-num js-line-number" data-line-number="196"></td>
        <td id="LC196" class="blob-code js-file-line">        &quot;1995    805\n&quot;,</td>
      </tr>
      <tr>
        <td id="L197" class="blob-num js-line-number" data-line-number="197"></td>
        <td id="LC197" class="blob-code js-file-line">        &quot;1993    786\n&quot;,</td>
      </tr>
      <tr>
        <td id="L198" class="blob-num js-line-number" data-line-number="198"></td>
        <td id="LC198" class="blob-code js-file-line">        &quot;1997    773\n&quot;,</td>
      </tr>
      <tr>
        <td id="L199" class="blob-num js-line-number" data-line-number="199"></td>
        <td id="LC199" class="blob-code js-file-line">        &quot;1996    768\n&quot;,</td>
      </tr>
      <tr>
        <td id="L200" class="blob-num js-line-number" data-line-number="200"></td>
        <td id="LC200" class="blob-code js-file-line">        &quot;1992    753\n&quot;,</td>
      </tr>
      <tr>
        <td id="L201" class="blob-num js-line-number" data-line-number="201"></td>
        <td id="LC201" class="blob-code js-file-line">        &quot;1994    748\n&quot;,</td>
      </tr>
      <tr>
        <td id="L202" class="blob-num js-line-number" data-line-number="202"></td>
        <td id="LC202" class="blob-code js-file-line">        &quot;1991    720\n&quot;,</td>
      </tr>
      <tr>
        <td id="L203" class="blob-num js-line-number" data-line-number="203"></td>
        <td id="LC203" class="blob-code js-file-line">        &quot;1989    710\n&quot;,</td>
      </tr>
      <tr>
        <td id="L204" class="blob-num js-line-number" data-line-number="204"></td>
        <td id="LC204" class="blob-code js-file-line">        &quot;1988    686\n&quot;,</td>
      </tr>
      <tr>
        <td id="L205" class="blob-num js-line-number" data-line-number="205"></td>
        <td id="LC205" class="blob-code js-file-line">        &quot;dtype: int64&quot;</td>
      </tr>
      <tr>
        <td id="L206" class="blob-num js-line-number" data-line-number="206"></td>
        <td id="LC206" class="blob-code js-file-line">       ]</td>
      </tr>
      <tr>
        <td id="L207" class="blob-num js-line-number" data-line-number="207"></td>
        <td id="LC207" class="blob-code js-file-line">      }</td>
      </tr>
      <tr>
        <td id="L208" class="blob-num js-line-number" data-line-number="208"></td>
        <td id="LC208" class="blob-code js-file-line">     ],</td>
      </tr>
      <tr>
        <td id="L209" class="blob-num js-line-number" data-line-number="209"></td>
        <td id="LC209" class="blob-code js-file-line">     &quot;prompt_number&quot;: 39</td>
      </tr>
      <tr>
        <td id="L210" class="blob-num js-line-number" data-line-number="210"></td>
        <td id="LC210" class="blob-code js-file-line">    },</td>
      </tr>
      <tr>
        <td id="L211" class="blob-num js-line-number" data-line-number="211"></td>
        <td id="LC211" class="blob-code js-file-line">    {</td>
      </tr>
      <tr>
        <td id="L212" class="blob-num js-line-number" data-line-number="212"></td>
        <td id="LC212" class="blob-code js-file-line">     &quot;cell_type&quot;: &quot;code&quot;,</td>
      </tr>
      <tr>
        <td id="L213" class="blob-num js-line-number" data-line-number="213"></td>
        <td id="LC213" class="blob-code js-file-line">     &quot;collapsed&quot;: false,</td>
      </tr>
      <tr>
        <td id="L214" class="blob-num js-line-number" data-line-number="214"></td>
        <td id="LC214" class="blob-code js-file-line">     &quot;input&quot;: [],</td>
      </tr>
      <tr>
        <td id="L215" class="blob-num js-line-number" data-line-number="215"></td>
        <td id="LC215" class="blob-code js-file-line">     &quot;language&quot;: &quot;python&quot;,</td>
      </tr>
      <tr>
        <td id="L216" class="blob-num js-line-number" data-line-number="216"></td>
        <td id="LC216" class="blob-code js-file-line">     &quot;metadata&quot;: {},</td>
      </tr>
      <tr>
        <td id="L217" class="blob-num js-line-number" data-line-number="217"></td>
        <td id="LC217" class="blob-code js-file-line">     &quot;outputs&quot;: []</td>
      </tr>
      <tr>
        <td id="L218" class="blob-num js-line-number" data-line-number="218"></td>
        <td id="LC218" class="blob-code js-file-line">    },</td>
      </tr>
      <tr>
        <td id="L219" class="blob-num js-line-number" data-line-number="219"></td>
        <td id="LC219" class="blob-code js-file-line">    {</td>
      </tr>
      <tr>
        <td id="L220" class="blob-num js-line-number" data-line-number="220"></td>
        <td id="LC220" class="blob-code js-file-line">     &quot;cell_type&quot;: &quot;markdown&quot;,</td>
      </tr>
      <tr>
        <td id="L221" class="blob-num js-line-number" data-line-number="221"></td>
        <td id="LC221" class="blob-code js-file-line">     &quot;metadata&quot;: {},</td>
      </tr>
      <tr>
        <td id="L222" class="blob-num js-line-number" data-line-number="222"></td>
        <td id="LC222" class="blob-code js-file-line">     &quot;source&quot;: [</td>
      </tr>
      <tr>
        <td id="L223" class="blob-num js-line-number" data-line-number="223"></td>
        <td id="LC223" class="blob-code js-file-line">      &quot;#### 2.14 Create a subset of mlb dataset for Year 2010&quot;</td>
      </tr>
      <tr>
        <td id="L224" class="blob-num js-line-number" data-line-number="224"></td>
        <td id="LC224" class="blob-code js-file-line">     ]</td>
      </tr>
      <tr>
        <td id="L225" class="blob-num js-line-number" data-line-number="225"></td>
        <td id="LC225" class="blob-code js-file-line">    },</td>
      </tr>
      <tr>
        <td id="L226" class="blob-num js-line-number" data-line-number="226"></td>
        <td id="LC226" class="blob-code js-file-line">    {</td>
      </tr>
      <tr>
        <td id="L227" class="blob-num js-line-number" data-line-number="227"></td>
        <td id="LC227" class="blob-code js-file-line">     &quot;cell_type&quot;: &quot;code&quot;,</td>
      </tr>
      <tr>
        <td id="L228" class="blob-num js-line-number" data-line-number="228"></td>
        <td id="LC228" class="blob-code js-file-line">     &quot;collapsed&quot;: false,</td>
      </tr>
      <tr>
        <td id="L229" class="blob-num js-line-number" data-line-number="229"></td>
        <td id="LC229" class="blob-code js-file-line">     &quot;input&quot;: [</td>
      </tr>
      <tr>
        <td id="L230" class="blob-num js-line-number" data-line-number="230"></td>
        <td id="LC230" class="blob-code js-file-line">      &quot;yr2010 = mlb[mlb.Year==2010]&quot;</td>
      </tr>
      <tr>
        <td id="L231" class="blob-num js-line-number" data-line-number="231"></td>
        <td id="LC231" class="blob-code js-file-line">     ],</td>
      </tr>
      <tr>
        <td id="L232" class="blob-num js-line-number" data-line-number="232"></td>
        <td id="LC232" class="blob-code js-file-line">     &quot;language&quot;: &quot;python&quot;,</td>
      </tr>
      <tr>
        <td id="L233" class="blob-num js-line-number" data-line-number="233"></td>
        <td id="LC233" class="blob-code js-file-line">     &quot;metadata&quot;: {},</td>
      </tr>
      <tr>
        <td id="L234" class="blob-num js-line-number" data-line-number="234"></td>
        <td id="LC234" class="blob-code js-file-line">     &quot;outputs&quot;: [],</td>
      </tr>
      <tr>
        <td id="L235" class="blob-num js-line-number" data-line-number="235"></td>
        <td id="LC235" class="blob-code js-file-line">     &quot;prompt_number&quot;: 40</td>
      </tr>
      <tr>
        <td id="L236" class="blob-num js-line-number" data-line-number="236"></td>
        <td id="LC236" class="blob-code js-file-line">    },</td>
      </tr>
      <tr>
        <td id="L237" class="blob-num js-line-number" data-line-number="237"></td>
        <td id="LC237" class="blob-code js-file-line">    {</td>
      </tr>
      <tr>
        <td id="L238" class="blob-num js-line-number" data-line-number="238"></td>
        <td id="LC238" class="blob-code js-file-line">     &quot;cell_type&quot;: &quot;code&quot;,</td>
      </tr>
      <tr>
        <td id="L239" class="blob-num js-line-number" data-line-number="239"></td>
        <td id="LC239" class="blob-code js-file-line">     &quot;collapsed&quot;: false,</td>
      </tr>
      <tr>
        <td id="L240" class="blob-num js-line-number" data-line-number="240"></td>
        <td id="LC240" class="blob-code js-file-line">     &quot;input&quot;: [</td>
      </tr>
      <tr>
        <td id="L241" class="blob-num js-line-number" data-line-number="241"></td>
        <td id="LC241" class="blob-code js-file-line">      &quot;yr2010 = yr2010.set_index(&#39;Player&#39;)&quot;</td>
      </tr>
      <tr>
        <td id="L242" class="blob-num js-line-number" data-line-number="242"></td>
        <td id="LC242" class="blob-code js-file-line">     ],</td>
      </tr>
      <tr>
        <td id="L243" class="blob-num js-line-number" data-line-number="243"></td>
        <td id="LC243" class="blob-code js-file-line">     &quot;language&quot;: &quot;python&quot;,</td>
      </tr>
      <tr>
        <td id="L244" class="blob-num js-line-number" data-line-number="244"></td>
        <td id="LC244" class="blob-code js-file-line">     &quot;metadata&quot;: {},</td>
      </tr>
      <tr>
        <td id="L245" class="blob-num js-line-number" data-line-number="245"></td>
        <td id="LC245" class="blob-code js-file-line">     &quot;outputs&quot;: [],</td>
      </tr>
      <tr>
        <td id="L246" class="blob-num js-line-number" data-line-number="246"></td>
        <td id="LC246" class="blob-code js-file-line">     &quot;prompt_number&quot;: 41</td>
      </tr>
      <tr>
        <td id="L247" class="blob-num js-line-number" data-line-number="247"></td>
        <td id="LC247" class="blob-code js-file-line">    },</td>
      </tr>
      <tr>
        <td id="L248" class="blob-num js-line-number" data-line-number="248"></td>
        <td id="LC248" class="blob-code js-file-line">    {</td>
      </tr>
      <tr>
        <td id="L249" class="blob-num js-line-number" data-line-number="249"></td>
        <td id="LC249" class="blob-code js-file-line">     &quot;cell_type&quot;: &quot;code&quot;,</td>
      </tr>
      <tr>
        <td id="L250" class="blob-num js-line-number" data-line-number="250"></td>
        <td id="LC250" class="blob-code js-file-line">     &quot;collapsed&quot;: false,</td>
      </tr>
      <tr>
        <td id="L251" class="blob-num js-line-number" data-line-number="251"></td>
        <td id="LC251" class="blob-code js-file-line">     &quot;input&quot;: [</td>
      </tr>
      <tr>
        <td id="L252" class="blob-num js-line-number" data-line-number="252"></td>
        <td id="LC252" class="blob-code js-file-line">      &quot;yr2010.head()&quot;</td>
      </tr>
      <tr>
        <td id="L253" class="blob-num js-line-number" data-line-number="253"></td>
        <td id="LC253" class="blob-code js-file-line">     ],</td>
      </tr>
      <tr>
        <td id="L254" class="blob-num js-line-number" data-line-number="254"></td>
        <td id="LC254" class="blob-code js-file-line">     &quot;language&quot;: &quot;python&quot;,</td>
      </tr>
      <tr>
        <td id="L255" class="blob-num js-line-number" data-line-number="255"></td>
        <td id="LC255" class="blob-code js-file-line">     &quot;metadata&quot;: {},</td>
      </tr>
      <tr>
        <td id="L256" class="blob-num js-line-number" data-line-number="256"></td>
        <td id="LC256" class="blob-code js-file-line">     &quot;outputs&quot;: [</td>
      </tr>
      <tr>
        <td id="L257" class="blob-num js-line-number" data-line-number="257"></td>
        <td id="LC257" class="blob-code js-file-line">      {</td>
      </tr>
      <tr>
        <td id="L258" class="blob-num js-line-number" data-line-number="258"></td>
        <td id="LC258" class="blob-code js-file-line">       &quot;html&quot;: [</td>
      </tr>
      <tr>
        <td id="L259" class="blob-num js-line-number" data-line-number="259"></td>
        <td id="LC259" class="blob-code js-file-line">        &quot;&lt;div style=\&quot;max-height:1000px;max-width:1500px;overflow:auto;\&quot;&gt;\n&quot;,</td>
      </tr>
      <tr>
        <td id="L260" class="blob-num js-line-number" data-line-number="260"></td>
        <td id="LC260" class="blob-code js-file-line">        &quot;&lt;table border=\&quot;1\&quot; class=\&quot;dataframe\&quot;&gt;\n&quot;,</td>
      </tr>
      <tr>
        <td id="L261" class="blob-num js-line-number" data-line-number="261"></td>
        <td id="LC261" class="blob-code js-file-line">        &quot;  &lt;thead&gt;\n&quot;,</td>
      </tr>
      <tr>
        <td id="L262" class="blob-num js-line-number" data-line-number="262"></td>
        <td id="LC262" class="blob-code js-file-line">        &quot;    &lt;tr style=\&quot;text-align: right;\&quot;&gt;\n&quot;,</td>
      </tr>
      <tr>
        <td id="L263" class="blob-num js-line-number" data-line-number="263"></td>
        <td id="LC263" class="blob-code js-file-line">        &quot;      &lt;th&gt;&lt;/th&gt;\n&quot;,</td>
      </tr>
      <tr>
        <td id="L264" class="blob-num js-line-number" data-line-number="264"></td>
        <td id="LC264" class="blob-code js-file-line">        &quot;      &lt;th&gt;Year&lt;/th&gt;\n&quot;,</td>
      </tr>
      <tr>
        <td id="L265" class="blob-num js-line-number" data-line-number="265"></td>
        <td id="LC265" class="blob-code js-file-line">        &quot;      &lt;th&gt;Salary&lt;/th&gt;\n&quot;,</td>
      </tr>
      <tr>
        <td id="L266" class="blob-num js-line-number" data-line-number="266"></td>
        <td id="LC266" class="blob-code js-file-line">        &quot;      &lt;th&gt;Position&lt;/th&gt;\n&quot;,</td>
      </tr>
      <tr>
        <td id="L267" class="blob-num js-line-number" data-line-number="267"></td>
        <td id="LC267" class="blob-code js-file-line">        &quot;      &lt;th&gt;Team&lt;/th&gt;\n&quot;,</td>
      </tr>
      <tr>
        <td id="L268" class="blob-num js-line-number" data-line-number="268"></td>
        <td id="LC268" class="blob-code js-file-line">        &quot;    &lt;/tr&gt;\n&quot;,</td>
      </tr>
      <tr>
        <td id="L269" class="blob-num js-line-number" data-line-number="269"></td>
        <td id="LC269" class="blob-code js-file-line">        &quot;    &lt;tr&gt;\n&quot;,</td>
      </tr>
      <tr>
        <td id="L270" class="blob-num js-line-number" data-line-number="270"></td>
        <td id="LC270" class="blob-code js-file-line">        &quot;      &lt;th&gt;Player&lt;/th&gt;\n&quot;,</td>
      </tr>
      <tr>
        <td id="L271" class="blob-num js-line-number" data-line-number="271"></td>
        <td id="LC271" class="blob-code js-file-line">        &quot;      &lt;th&gt;&lt;/th&gt;\n&quot;,</td>
      </tr>
      <tr>
        <td id="L272" class="blob-num js-line-number" data-line-number="272"></td>
        <td id="LC272" class="blob-code js-file-line">        &quot;      &lt;th&gt;&lt;/th&gt;\n&quot;,</td>
      </tr>
      <tr>
        <td id="L273" class="blob-num js-line-number" data-line-number="273"></td>
        <td id="LC273" class="blob-code js-file-line">        &quot;      &lt;th&gt;&lt;/th&gt;\n&quot;,</td>
      </tr>
      <tr>
        <td id="L274" class="blob-num js-line-number" data-line-number="274"></td>
        <td id="LC274" class="blob-code js-file-line">        &quot;      &lt;th&gt;&lt;/th&gt;\n&quot;,</td>
      </tr>
      <tr>
        <td id="L275" class="blob-num js-line-number" data-line-number="275"></td>
        <td id="LC275" class="blob-code js-file-line">        &quot;    &lt;/tr&gt;\n&quot;,</td>
      </tr>
      <tr>
        <td id="L276" class="blob-num js-line-number" data-line-number="276"></td>
        <td id="LC276" class="blob-code js-file-line">        &quot;  &lt;/thead&gt;\n&quot;,</td>
      </tr>
      <tr>
        <td id="L277" class="blob-num js-line-number" data-line-number="277"></td>
        <td id="LC277" class="blob-code js-file-line">        &quot;  &lt;tbody&gt;\n&quot;,</td>
      </tr>
      <tr>
        <td id="L278" class="blob-num js-line-number" data-line-number="278"></td>
        <td id="LC278" class="blob-code js-file-line">        &quot;    &lt;tr&gt;\n&quot;,</td>
      </tr>
      <tr>
        <td id="L279" class="blob-num js-line-number" data-line-number="279"></td>
        <td id="LC279" class="blob-code js-file-line">        &quot;      &lt;th&gt;Torii Hunter&lt;/th&gt;\n&quot;,</td>
      </tr>
      <tr>
        <td id="L280" class="blob-num js-line-number" data-line-number="280"></td>
        <td id="LC280" class="blob-code js-file-line">        &quot;      &lt;td&gt; 2010&lt;/td&gt;\n&quot;,</td>
      </tr>
      <tr>
        <td id="L281" class="blob-num js-line-number" data-line-number="281"></td>
        <td id="LC281" class="blob-code js-file-line">        &quot;      &lt;td&gt; 18500000&lt;/td&gt;\n&quot;,</td>
      </tr>
      <tr>
        <td id="L282" class="blob-num js-line-number" data-line-number="282"></td>
        <td id="LC282" class="blob-code js-file-line">        &quot;      &lt;td&gt; Outfielder&lt;/td&gt;\n&quot;,</td>
      </tr>
      <tr>
        <td id="L283" class="blob-num js-line-number" data-line-number="283"></td>
        <td id="LC283" class="blob-code js-file-line">        &quot;      &lt;td&gt; Los Angeles Angels&lt;/td&gt;\n&quot;,</td>
      </tr>
      <tr>
        <td id="L284" class="blob-num js-line-number" data-line-number="284"></td>
        <td id="LC284" class="blob-code js-file-line">        &quot;    &lt;/tr&gt;\n&quot;,</td>
      </tr>
      <tr>
        <td id="L285" class="blob-num js-line-number" data-line-number="285"></td>
        <td id="LC285" class="blob-code js-file-line">        &quot;    &lt;tr&gt;\n&quot;,</td>
      </tr>
      <tr>
        <td id="L286" class="blob-num js-line-number" data-line-number="286"></td>
        <td id="LC286" class="blob-code js-file-line">        &quot;      &lt;th&gt;Bobby Abreu&lt;/th&gt;\n&quot;,</td>
      </tr>
      <tr>
        <td id="L287" class="blob-num js-line-number" data-line-number="287"></td>
        <td id="LC287" class="blob-code js-file-line">        &quot;      &lt;td&gt; 2010&lt;/td&gt;\n&quot;,</td>
      </tr>
      <tr>
        <td id="L288" class="blob-num js-line-number" data-line-number="288"></td>
        <td id="LC288" class="blob-code js-file-line">        &quot;      &lt;td&gt;  9000000&lt;/td&gt;\n&quot;,</td>
      </tr>
      <tr>
        <td id="L289" class="blob-num js-line-number" data-line-number="289"></td>
        <td id="LC289" class="blob-code js-file-line">        &quot;      &lt;td&gt; Outfielder&lt;/td&gt;\n&quot;,</td>
      </tr>
      <tr>
        <td id="L290" class="blob-num js-line-number" data-line-number="290"></td>
        <td id="LC290" class="blob-code js-file-line">        &quot;      &lt;td&gt; Los Angeles Angels&lt;/td&gt;\n&quot;,</td>
      </tr>
      <tr>
        <td id="L291" class="blob-num js-line-number" data-line-number="291"></td>
        <td id="LC291" class="blob-code js-file-line">        &quot;    &lt;/tr&gt;\n&quot;,</td>
      </tr>
      <tr>
        <td id="L292" class="blob-num js-line-number" data-line-number="292"></td>
        <td id="LC292" class="blob-code js-file-line">        &quot;    &lt;tr&gt;\n&quot;,</td>
      </tr>
      <tr>
        <td id="L293" class="blob-num js-line-number" data-line-number="293"></td>
        <td id="LC293" class="blob-code js-file-line">        &quot;      &lt;th&gt;Brian Fuentes&lt;/th&gt;\n&quot;,</td>
      </tr>
      <tr>
        <td id="L294" class="blob-num js-line-number" data-line-number="294"></td>
        <td id="LC294" class="blob-code js-file-line">        &quot;      &lt;td&gt; 2010&lt;/td&gt;\n&quot;,</td>
      </tr>
      <tr>
        <td id="L295" class="blob-num js-line-number" data-line-number="295"></td>
        <td id="LC295" class="blob-code js-file-line">        &quot;      &lt;td&gt;  9000000&lt;/td&gt;\n&quot;,</td>
      </tr>
      <tr>
        <td id="L296" class="blob-num js-line-number" data-line-number="296"></td>
        <td id="LC296" class="blob-code js-file-line">        &quot;      &lt;td&gt;    Pitcher&lt;/td&gt;\n&quot;,</td>
      </tr>
      <tr>
        <td id="L297" class="blob-num js-line-number" data-line-number="297"></td>
        <td id="LC297" class="blob-code js-file-line">        &quot;      &lt;td&gt; Los Angeles Angels&lt;/td&gt;\n&quot;,</td>
      </tr>
      <tr>
        <td id="L298" class="blob-num js-line-number" data-line-number="298"></td>
        <td id="LC298" class="blob-code js-file-line">        &quot;    &lt;/tr&gt;\n&quot;,</td>
      </tr>
      <tr>
        <td id="L299" class="blob-num js-line-number" data-line-number="299"></td>
        <td id="LC299" class="blob-code js-file-line">        &quot;    &lt;tr&gt;\n&quot;,</td>
      </tr>
      <tr>
        <td id="L300" class="blob-num js-line-number" data-line-number="300"></td>
        <td id="LC300" class="blob-code js-file-line">        &quot;      &lt;th&gt;Scott Kazmir&lt;/th&gt;\n&quot;,</td>
      </tr>
      <tr>
        <td id="L301" class="blob-num js-line-number" data-line-number="301"></td>
        <td id="LC301" class="blob-code js-file-line">        &quot;      &lt;td&gt; 2010&lt;/td&gt;\n&quot;,</td>
      </tr>
      <tr>
        <td id="L302" class="blob-num js-line-number" data-line-number="302"></td>
        <td id="LC302" class="blob-code js-file-line">        &quot;      &lt;td&gt;  8000000&lt;/td&gt;\n&quot;,</td>
      </tr>
      <tr>
        <td id="L303" class="blob-num js-line-number" data-line-number="303"></td>
        <td id="LC303" class="blob-code js-file-line">        &quot;      &lt;td&gt;    Pitcher&lt;/td&gt;\n&quot;,</td>
      </tr>
      <tr>
        <td id="L304" class="blob-num js-line-number" data-line-number="304"></td>
        <td id="LC304" class="blob-code js-file-line">        &quot;      &lt;td&gt; Los Angeles Angels&lt;/td&gt;\n&quot;,</td>
      </tr>
      <tr>
        <td id="L305" class="blob-num js-line-number" data-line-number="305"></td>
        <td id="LC305" class="blob-code js-file-line">        &quot;    &lt;/tr&gt;\n&quot;,</td>
      </tr>
      <tr>
        <td id="L306" class="blob-num js-line-number" data-line-number="306"></td>
        <td id="LC306" class="blob-code js-file-line">        &quot;    &lt;tr&gt;\n&quot;,</td>
      </tr>
      <tr>
        <td id="L307" class="blob-num js-line-number" data-line-number="307"></td>
        <td id="LC307" class="blob-code js-file-line">        &quot;      &lt;th&gt;Joel Pineiro&lt;/th&gt;\n&quot;,</td>
      </tr>
      <tr>
        <td id="L308" class="blob-num js-line-number" data-line-number="308"></td>
        <td id="LC308" class="blob-code js-file-line">        &quot;      &lt;td&gt; 2010&lt;/td&gt;\n&quot;,</td>
      </tr>
      <tr>
        <td id="L309" class="blob-num js-line-number" data-line-number="309"></td>
        <td id="LC309" class="blob-code js-file-line">        &quot;      &lt;td&gt;  8000000&lt;/td&gt;\n&quot;,</td>
      </tr>
      <tr>
        <td id="L310" class="blob-num js-line-number" data-line-number="310"></td>
        <td id="LC310" class="blob-code js-file-line">        &quot;      &lt;td&gt;    Pitcher&lt;/td&gt;\n&quot;,</td>
      </tr>
      <tr>
        <td id="L311" class="blob-num js-line-number" data-line-number="311"></td>
        <td id="LC311" class="blob-code js-file-line">        &quot;      &lt;td&gt; Los Angeles Angels&lt;/td&gt;\n&quot;,</td>
      </tr>
      <tr>
        <td id="L312" class="blob-num js-line-number" data-line-number="312"></td>
        <td id="LC312" class="blob-code js-file-line">        &quot;    &lt;/tr&gt;\n&quot;,</td>
      </tr>
      <tr>
        <td id="L313" class="blob-num js-line-number" data-line-number="313"></td>
        <td id="LC313" class="blob-code js-file-line">        &quot;  &lt;/tbody&gt;\n&quot;,</td>
      </tr>
      <tr>
        <td id="L314" class="blob-num js-line-number" data-line-number="314"></td>
        <td id="LC314" class="blob-code js-file-line">        &quot;&lt;/table&gt;\n&quot;,</td>
      </tr>
      <tr>
        <td id="L315" class="blob-num js-line-number" data-line-number="315"></td>
        <td id="LC315" class="blob-code js-file-line">        &quot;&lt;/div&gt;&quot;</td>
      </tr>
      <tr>
        <td id="L316" class="blob-num js-line-number" data-line-number="316"></td>
        <td id="LC316" class="blob-code js-file-line">       ],</td>
      </tr>
      <tr>
        <td id="L317" class="blob-num js-line-number" data-line-number="317"></td>
        <td id="LC317" class="blob-code js-file-line">       &quot;metadata&quot;: {},</td>
      </tr>
      <tr>
        <td id="L318" class="blob-num js-line-number" data-line-number="318"></td>
        <td id="LC318" class="blob-code js-file-line">       &quot;output_type&quot;: &quot;pyout&quot;,</td>
      </tr>
      <tr>
        <td id="L319" class="blob-num js-line-number" data-line-number="319"></td>
        <td id="LC319" class="blob-code js-file-line">       &quot;prompt_number&quot;: 42,</td>
      </tr>
      <tr>
        <td id="L320" class="blob-num js-line-number" data-line-number="320"></td>
        <td id="LC320" class="blob-code js-file-line">       &quot;text&quot;: [</td>
      </tr>
      <tr>
        <td id="L321" class="blob-num js-line-number" data-line-number="321"></td>
        <td id="LC321" class="blob-code js-file-line">        &quot;               Year    Salary    Position                Team\n&quot;,</td>
      </tr>
      <tr>
        <td id="L322" class="blob-num js-line-number" data-line-number="322"></td>
        <td id="LC322" class="blob-code js-file-line">        &quot;Player                                                       \n&quot;,</td>
      </tr>
      <tr>
        <td id="L323" class="blob-num js-line-number" data-line-number="323"></td>
        <td id="LC323" class="blob-code js-file-line">        &quot;Torii Hunter   2010  18500000  Outfielder  Los Angeles Angels\n&quot;,</td>
      </tr>
      <tr>
        <td id="L324" class="blob-num js-line-number" data-line-number="324"></td>
        <td id="LC324" class="blob-code js-file-line">        &quot;Bobby Abreu    2010   9000000  Outfielder  Los Angeles Angels\n&quot;,</td>
      </tr>
      <tr>
        <td id="L325" class="blob-num js-line-number" data-line-number="325"></td>
        <td id="LC325" class="blob-code js-file-line">        &quot;Brian Fuentes  2010   9000000     Pitcher  Los Angeles Angels\n&quot;,</td>
      </tr>
      <tr>
        <td id="L326" class="blob-num js-line-number" data-line-number="326"></td>
        <td id="LC326" class="blob-code js-file-line">        &quot;Scott Kazmir   2010   8000000     Pitcher  Los Angeles Angels\n&quot;,</td>
      </tr>
      <tr>
        <td id="L327" class="blob-num js-line-number" data-line-number="327"></td>
        <td id="LC327" class="blob-code js-file-line">        &quot;Joel Pineiro   2010   8000000     Pitcher  Los Angeles Angels&quot;</td>
      </tr>
      <tr>
        <td id="L328" class="blob-num js-line-number" data-line-number="328"></td>
        <td id="LC328" class="blob-code js-file-line">       ]</td>
      </tr>
      <tr>
        <td id="L329" class="blob-num js-line-number" data-line-number="329"></td>
        <td id="LC329" class="blob-code js-file-line">      }</td>
      </tr>
      <tr>
        <td id="L330" class="blob-num js-line-number" data-line-number="330"></td>
        <td id="LC330" class="blob-code js-file-line">     ],</td>
      </tr>
      <tr>
        <td id="L331" class="blob-num js-line-number" data-line-number="331"></td>
        <td id="LC331" class="blob-code js-file-line">     &quot;prompt_number&quot;: 42</td>
      </tr>
      <tr>
        <td id="L332" class="blob-num js-line-number" data-line-number="332"></td>
        <td id="LC332" class="blob-code js-file-line">    },</td>
      </tr>
      <tr>
        <td id="L333" class="blob-num js-line-number" data-line-number="333"></td>
        <td id="LC333" class="blob-code js-file-line">    {</td>
      </tr>
      <tr>
        <td id="L334" class="blob-num js-line-number" data-line-number="334"></td>
        <td id="LC334" class="blob-code js-file-line">     &quot;cell_type&quot;: &quot;code&quot;,</td>
      </tr>
      <tr>
        <td id="L335" class="blob-num js-line-number" data-line-number="335"></td>
        <td id="LC335" class="blob-code js-file-line">     &quot;collapsed&quot;: false,</td>
      </tr>
      <tr>
        <td id="L336" class="blob-num js-line-number" data-line-number="336"></td>
        <td id="LC336" class="blob-code js-file-line">     &quot;input&quot;: [],</td>
      </tr>
      <tr>
        <td id="L337" class="blob-num js-line-number" data-line-number="337"></td>
        <td id="LC337" class="blob-code js-file-line">     &quot;language&quot;: &quot;python&quot;,</td>
      </tr>
      <tr>
        <td id="L338" class="blob-num js-line-number" data-line-number="338"></td>
        <td id="LC338" class="blob-code js-file-line">     &quot;metadata&quot;: {},</td>
      </tr>
      <tr>
        <td id="L339" class="blob-num js-line-number" data-line-number="339"></td>
        <td id="LC339" class="blob-code js-file-line">     &quot;outputs&quot;: []</td>
      </tr>
      <tr>
        <td id="L340" class="blob-num js-line-number" data-line-number="340"></td>
        <td id="LC340" class="blob-code js-file-line">    },</td>
      </tr>
      <tr>
        <td id="L341" class="blob-num js-line-number" data-line-number="341"></td>
        <td id="LC341" class="blob-code js-file-line">    {</td>
      </tr>
      <tr>
        <td id="L342" class="blob-num js-line-number" data-line-number="342"></td>
        <td id="LC342" class="blob-code js-file-line">     &quot;cell_type&quot;: &quot;markdown&quot;,</td>
      </tr>
      <tr>
        <td id="L343" class="blob-num js-line-number" data-line-number="343"></td>
        <td id="LC343" class="blob-code js-file-line">     &quot;metadata&quot;: {},</td>
      </tr>
      <tr>
        <td id="L344" class="blob-num js-line-number" data-line-number="344"></td>
        <td id="LC344" class="blob-code js-file-line">     &quot;source&quot;: [</td>
      </tr>
      <tr>
        <td id="L345" class="blob-num js-line-number" data-line-number="345"></td>
        <td id="LC345" class="blob-code js-file-line">      &quot;#### 2.15 Sort Operations&quot;</td>
      </tr>
      <tr>
        <td id="L346" class="blob-num js-line-number" data-line-number="346"></td>
        <td id="LC346" class="blob-code js-file-line">     ]</td>
      </tr>
      <tr>
        <td id="L347" class="blob-num js-line-number" data-line-number="347"></td>
        <td id="LC347" class="blob-code js-file-line">    },</td>
      </tr>
      <tr>
        <td id="L348" class="blob-num js-line-number" data-line-number="348"></td>
        <td id="LC348" class="blob-code js-file-line">    {</td>
      </tr>
      <tr>
        <td id="L349" class="blob-num js-line-number" data-line-number="349"></td>
        <td id="LC349" class="blob-code js-file-line">     &quot;cell_type&quot;: &quot;code&quot;,</td>
      </tr>
      <tr>
        <td id="L350" class="blob-num js-line-number" data-line-number="350"></td>
        <td id="LC350" class="blob-code js-file-line">     &quot;collapsed&quot;: false,</td>
      </tr>
      <tr>
        <td id="L351" class="blob-num js-line-number" data-line-number="351"></td>
        <td id="LC351" class="blob-code js-file-line">     &quot;input&quot;: [</td>
      </tr>
      <tr>
        <td id="L352" class="blob-num js-line-number" data-line-number="352"></td>
        <td id="LC352" class="blob-code js-file-line">      &quot;# sort row labels\n&quot;,</td>
      </tr>
      <tr>
        <td id="L353" class="blob-num js-line-number" data-line-number="353"></td>
        <td id="LC353" class="blob-code js-file-line">      &quot;yr2010.sort_index().head()\n&quot;,</td>
      </tr>
      <tr>
        <td id="L354" class="blob-num js-line-number" data-line-number="354"></td>
        <td id="LC354" class="blob-code js-file-line">      &quot; \n&quot;,</td>
      </tr>
      <tr>
        <td id="L355" class="blob-num js-line-number" data-line-number="355"></td>
        <td id="LC355" class="blob-code js-file-line">      &quot; &quot;</td>
      </tr>
      <tr>
        <td id="L356" class="blob-num js-line-number" data-line-number="356"></td>
        <td id="LC356" class="blob-code js-file-line">     ],</td>
      </tr>
      <tr>
        <td id="L357" class="blob-num js-line-number" data-line-number="357"></td>
        <td id="LC357" class="blob-code js-file-line">     &quot;language&quot;: &quot;python&quot;,</td>
      </tr>
      <tr>
        <td id="L358" class="blob-num js-line-number" data-line-number="358"></td>
        <td id="LC358" class="blob-code js-file-line">     &quot;metadata&quot;: {},</td>
      </tr>
      <tr>
        <td id="L359" class="blob-num js-line-number" data-line-number="359"></td>
        <td id="LC359" class="blob-code js-file-line">     &quot;outputs&quot;: [</td>
      </tr>
      <tr>
        <td id="L360" class="blob-num js-line-number" data-line-number="360"></td>
        <td id="LC360" class="blob-code js-file-line">      {</td>
      </tr>
      <tr>
        <td id="L361" class="blob-num js-line-number" data-line-number="361"></td>
        <td id="LC361" class="blob-code js-file-line">       &quot;html&quot;: [</td>
      </tr>
      <tr>
        <td id="L362" class="blob-num js-line-number" data-line-number="362"></td>
        <td id="LC362" class="blob-code js-file-line">        &quot;&lt;div style=\&quot;max-height:1000px;max-width:1500px;overflow:auto;\&quot;&gt;\n&quot;,</td>
      </tr>
      <tr>
        <td id="L363" class="blob-num js-line-number" data-line-number="363"></td>
        <td id="LC363" class="blob-code js-file-line">        &quot;&lt;table border=\&quot;1\&quot; class=\&quot;dataframe\&quot;&gt;\n&quot;,</td>
      </tr>
      <tr>
        <td id="L364" class="blob-num js-line-number" data-line-number="364"></td>
        <td id="LC364" class="blob-code js-file-line">        &quot;  &lt;thead&gt;\n&quot;,</td>
      </tr>
      <tr>
        <td id="L365" class="blob-num js-line-number" data-line-number="365"></td>
        <td id="LC365" class="blob-code js-file-line">        &quot;    &lt;tr style=\&quot;text-align: right;\&quot;&gt;\n&quot;,</td>
      </tr>
      <tr>
        <td id="L366" class="blob-num js-line-number" data-line-number="366"></td>
        <td id="LC366" class="blob-code js-file-line">        &quot;      &lt;th&gt;&lt;/th&gt;\n&quot;,</td>
      </tr>
      <tr>
        <td id="L367" class="blob-num js-line-number" data-line-number="367"></td>
        <td id="LC367" class="blob-code js-file-line">        &quot;      &lt;th&gt;Year&lt;/th&gt;\n&quot;,</td>
      </tr>
      <tr>
        <td id="L368" class="blob-num js-line-number" data-line-number="368"></td>
        <td id="LC368" class="blob-code js-file-line">        &quot;      &lt;th&gt;Salary&lt;/th&gt;\n&quot;,</td>
      </tr>
      <tr>
        <td id="L369" class="blob-num js-line-number" data-line-number="369"></td>
        <td id="LC369" class="blob-code js-file-line">        &quot;      &lt;th&gt;Position&lt;/th&gt;\n&quot;,</td>
      </tr>
      <tr>
        <td id="L370" class="blob-num js-line-number" data-line-number="370"></td>
        <td id="LC370" class="blob-code js-file-line">        &quot;      &lt;th&gt;Team&lt;/th&gt;\n&quot;,</td>
      </tr>
      <tr>
        <td id="L371" class="blob-num js-line-number" data-line-number="371"></td>
        <td id="LC371" class="blob-code js-file-line">        &quot;    &lt;/tr&gt;\n&quot;,</td>
      </tr>
      <tr>
        <td id="L372" class="blob-num js-line-number" data-line-number="372"></td>
        <td id="LC372" class="blob-code js-file-line">        &quot;    &lt;tr&gt;\n&quot;,</td>
      </tr>
      <tr>
        <td id="L373" class="blob-num js-line-number" data-line-number="373"></td>
        <td id="LC373" class="blob-code js-file-line">        &quot;      &lt;th&gt;Player&lt;/th&gt;\n&quot;,</td>
      </tr>
      <tr>
        <td id="L374" class="blob-num js-line-number" data-line-number="374"></td>
        <td id="LC374" class="blob-code js-file-line">        &quot;      &lt;th&gt;&lt;/th&gt;\n&quot;,</td>
      </tr>
      <tr>
        <td id="L375" class="blob-num js-line-number" data-line-number="375"></td>
        <td id="LC375" class="blob-code js-file-line">        &quot;      &lt;th&gt;&lt;/th&gt;\n&quot;,</td>
      </tr>
      <tr>
        <td id="L376" class="blob-num js-line-number" data-line-number="376"></td>
        <td id="LC376" class="blob-code js-file-line">        &quot;      &lt;th&gt;&lt;/th&gt;\n&quot;,</td>
      </tr>
      <tr>
        <td id="L377" class="blob-num js-line-number" data-line-number="377"></td>
        <td id="LC377" class="blob-code js-file-line">        &quot;      &lt;th&gt;&lt;/th&gt;\n&quot;,</td>
      </tr>
      <tr>
        <td id="L378" class="blob-num js-line-number" data-line-number="378"></td>
        <td id="LC378" class="blob-code js-file-line">        &quot;    &lt;/tr&gt;\n&quot;,</td>
      </tr>
      <tr>
        <td id="L379" class="blob-num js-line-number" data-line-number="379"></td>
        <td id="LC379" class="blob-code js-file-line">        &quot;  &lt;/thead&gt;\n&quot;,</td>
      </tr>
      <tr>
        <td id="L380" class="blob-num js-line-number" data-line-number="380"></td>
        <td id="LC380" class="blob-code js-file-line">        &quot;  &lt;tbody&gt;\n&quot;,</td>
      </tr>
      <tr>
        <td id="L381" class="blob-num js-line-number" data-line-number="381"></td>
        <td id="LC381" class="blob-code js-file-line">        &quot;    &lt;tr&gt;\n&quot;,</td>
      </tr>
      <tr>
        <td id="L382" class="blob-num js-line-number" data-line-number="382"></td>
        <td id="LC382" class="blob-code js-file-line">        &quot;      &lt;th&gt;A.J. Burnett&lt;/th&gt;\n&quot;,</td>
      </tr>
      <tr>
        <td id="L383" class="blob-num js-line-number" data-line-number="383"></td>
        <td id="LC383" class="blob-code js-file-line">        &quot;      &lt;td&gt; 2010&lt;/td&gt;\n&quot;,</td>
      </tr>
      <tr>
        <td id="L384" class="blob-num js-line-number" data-line-number="384"></td>
        <td id="LC384" class="blob-code js-file-line">        &quot;      &lt;td&gt; 16500000&lt;/td&gt;\n&quot;,</td>
      </tr>
      <tr>
        <td id="L385" class="blob-num js-line-number" data-line-number="385"></td>
        <td id="LC385" class="blob-code js-file-line">        &quot;      &lt;td&gt; Pitcher&lt;/td&gt;\n&quot;,</td>
      </tr>
      <tr>
        <td id="L386" class="blob-num js-line-number" data-line-number="386"></td>
        <td id="LC386" class="blob-code js-file-line">        &quot;      &lt;td&gt;     New York Yankees&lt;/td&gt;\n&quot;,</td>
      </tr>
      <tr>
        <td id="L387" class="blob-num js-line-number" data-line-number="387"></td>
        <td id="LC387" class="blob-code js-file-line">        &quot;    &lt;/tr&gt;\n&quot;,</td>
      </tr>
      <tr>
        <td id="L388" class="blob-num js-line-number" data-line-number="388"></td>
        <td id="LC388" class="blob-code js-file-line">        &quot;    &lt;tr&gt;\n&quot;,</td>
      </tr>
      <tr>
        <td id="L389" class="blob-num js-line-number" data-line-number="389"></td>
        <td id="LC389" class="blob-code js-file-line">        &quot;      &lt;th&gt;A.J. Pierzynski&lt;/th&gt;\n&quot;,</td>
      </tr>
      <tr>
        <td id="L390" class="blob-num js-line-number" data-line-number="390"></td>
        <td id="LC390" class="blob-code js-file-line">        &quot;      &lt;td&gt; 2010&lt;/td&gt;\n&quot;,</td>
      </tr>
      <tr>
        <td id="L391" class="blob-num js-line-number" data-line-number="391"></td>
        <td id="LC391" class="blob-code js-file-line">        &quot;      &lt;td&gt;  6750000&lt;/td&gt;\n&quot;,</td>
      </tr>
      <tr>
        <td id="L392" class="blob-num js-line-number" data-line-number="392"></td>
        <td id="LC392" class="blob-code js-file-line">        &quot;      &lt;td&gt; Catcher&lt;/td&gt;\n&quot;,</td>
      </tr>
      <tr>
        <td id="L393" class="blob-num js-line-number" data-line-number="393"></td>
        <td id="LC393" class="blob-code js-file-line">        &quot;      &lt;td&gt;    Chicago White Sox&lt;/td&gt;\n&quot;,</td>
      </tr>
      <tr>
        <td id="L394" class="blob-num js-line-number" data-line-number="394"></td>
        <td id="LC394" class="blob-code js-file-line">        &quot;    &lt;/tr&gt;\n&quot;,</td>
      </tr>
      <tr>
        <td id="L395" class="blob-num js-line-number" data-line-number="395"></td>
        <td id="LC395" class="blob-code js-file-line">        &quot;    &lt;tr&gt;\n&quot;,</td>
      </tr>
      <tr>
        <td id="L396" class="blob-num js-line-number" data-line-number="396"></td>
        <td id="LC396" class="blob-code js-file-line">        &quot;      &lt;th&gt;Aaron Cook&lt;/th&gt;\n&quot;,</td>
      </tr>
      <tr>
        <td id="L397" class="blob-num js-line-number" data-line-number="397"></td>
        <td id="LC397" class="blob-code js-file-line">        &quot;      &lt;td&gt; 2010&lt;/td&gt;\n&quot;,</td>
      </tr>
      <tr>
        <td id="L398" class="blob-num js-line-number" data-line-number="398"></td>
        <td id="LC398" class="blob-code js-file-line">        &quot;      &lt;td&gt;  9625000&lt;/td&gt;\n&quot;,</td>
      </tr>
      <tr>
        <td id="L399" class="blob-num js-line-number" data-line-number="399"></td>
        <td id="LC399" class="blob-code js-file-line">        &quot;      &lt;td&gt; Pitcher&lt;/td&gt;\n&quot;,</td>
      </tr>
      <tr>
        <td id="L400" class="blob-num js-line-number" data-line-number="400"></td>
        <td id="LC400" class="blob-code js-file-line">        &quot;      &lt;td&gt;     Colorado Rockies&lt;/td&gt;\n&quot;,</td>
      </tr>
      <tr>
        <td id="L401" class="blob-num js-line-number" data-line-number="401"></td>
        <td id="LC401" class="blob-code js-file-line">        &quot;    &lt;/tr&gt;\n&quot;,</td>
      </tr>
      <tr>
        <td id="L402" class="blob-num js-line-number" data-line-number="402"></td>
        <td id="LC402" class="blob-code js-file-line">        &quot;    &lt;tr&gt;\n&quot;,</td>
      </tr>
      <tr>
        <td id="L403" class="blob-num js-line-number" data-line-number="403"></td>
        <td id="LC403" class="blob-code js-file-line">        &quot;      &lt;th&gt;Aaron Harang&lt;/th&gt;\n&quot;,</td>
      </tr>
      <tr>
        <td id="L404" class="blob-num js-line-number" data-line-number="404"></td>
        <td id="LC404" class="blob-code js-file-line">        &quot;      &lt;td&gt; 2010&lt;/td&gt;\n&quot;,</td>
      </tr>
      <tr>
        <td id="L405" class="blob-num js-line-number" data-line-number="405"></td>
        <td id="LC405" class="blob-code js-file-line">        &quot;      &lt;td&gt; 12500000&lt;/td&gt;\n&quot;,</td>
      </tr>
      <tr>
        <td id="L406" class="blob-num js-line-number" data-line-number="406"></td>
        <td id="LC406" class="blob-code js-file-line">        &quot;      &lt;td&gt; Pitcher&lt;/td&gt;\n&quot;,</td>
      </tr>
      <tr>
        <td id="L407" class="blob-num js-line-number" data-line-number="407"></td>
        <td id="LC407" class="blob-code js-file-line">        &quot;      &lt;td&gt;      Cincinnati Reds&lt;/td&gt;\n&quot;,</td>
      </tr>
      <tr>
        <td id="L408" class="blob-num js-line-number" data-line-number="408"></td>
        <td id="LC408" class="blob-code js-file-line">        &quot;    &lt;/tr&gt;\n&quot;,</td>
      </tr>
      <tr>
        <td id="L409" class="blob-num js-line-number" data-line-number="409"></td>
        <td id="LC409" class="blob-code js-file-line">        &quot;    &lt;tr&gt;\n&quot;,</td>
      </tr>
      <tr>
        <td id="L410" class="blob-num js-line-number" data-line-number="410"></td>
        <td id="LC410" class="blob-code js-file-line">        &quot;      &lt;th&gt;Aaron Heilman&lt;/th&gt;\n&quot;,</td>
      </tr>
      <tr>
        <td id="L411" class="blob-num js-line-number" data-line-number="411"></td>
        <td id="LC411" class="blob-code js-file-line">        &quot;      &lt;td&gt; 2010&lt;/td&gt;\n&quot;,</td>
      </tr>
      <tr>
        <td id="L412" class="blob-num js-line-number" data-line-number="412"></td>
        <td id="LC412" class="blob-code js-file-line">        &quot;      &lt;td&gt;  2150000&lt;/td&gt;\n&quot;,</td>
      </tr>
      <tr>
        <td id="L413" class="blob-num js-line-number" data-line-number="413"></td>
        <td id="LC413" class="blob-code js-file-line">        &quot;      &lt;td&gt; Pitcher&lt;/td&gt;\n&quot;,</td>
      </tr>
      <tr>
        <td id="L414" class="blob-num js-line-number" data-line-number="414"></td>
        <td id="LC414" class="blob-code js-file-line">        &quot;      &lt;td&gt; Arizona Diamondbacks&lt;/td&gt;\n&quot;,</td>
      </tr>
      <tr>
        <td id="L415" class="blob-num js-line-number" data-line-number="415"></td>
        <td id="LC415" class="blob-code js-file-line">        &quot;    &lt;/tr&gt;\n&quot;,</td>
      </tr>
      <tr>
        <td id="L416" class="blob-num js-line-number" data-line-number="416"></td>
        <td id="LC416" class="blob-code js-file-line">        &quot;  &lt;/tbody&gt;\n&quot;,</td>
      </tr>
      <tr>
        <td id="L417" class="blob-num js-line-number" data-line-number="417"></td>
        <td id="LC417" class="blob-code js-file-line">        &quot;&lt;/table&gt;\n&quot;,</td>
      </tr>
      <tr>
        <td id="L418" class="blob-num js-line-number" data-line-number="418"></td>
        <td id="LC418" class="blob-code js-file-line">        &quot;&lt;/div&gt;&quot;</td>
      </tr>
      <tr>
        <td id="L419" class="blob-num js-line-number" data-line-number="419"></td>
        <td id="LC419" class="blob-code js-file-line">       ],</td>
      </tr>
      <tr>
        <td id="L420" class="blob-num js-line-number" data-line-number="420"></td>
        <td id="LC420" class="blob-code js-file-line">       &quot;metadata&quot;: {},</td>
      </tr>
      <tr>
        <td id="L421" class="blob-num js-line-number" data-line-number="421"></td>
        <td id="LC421" class="blob-code js-file-line">       &quot;output_type&quot;: &quot;pyout&quot;,</td>
      </tr>
      <tr>
        <td id="L422" class="blob-num js-line-number" data-line-number="422"></td>
        <td id="LC422" class="blob-code js-file-line">       &quot;prompt_number&quot;: 44,</td>
      </tr>
      <tr>
        <td id="L423" class="blob-num js-line-number" data-line-number="423"></td>
        <td id="LC423" class="blob-code js-file-line">       &quot;text&quot;: [</td>
      </tr>
      <tr>
        <td id="L424" class="blob-num js-line-number" data-line-number="424"></td>
        <td id="LC424" class="blob-code js-file-line">        &quot;                 Year    Salary Position                  Team\n&quot;,</td>
      </tr>
      <tr>
        <td id="L425" class="blob-num js-line-number" data-line-number="425"></td>
        <td id="LC425" class="blob-code js-file-line">        &quot;Player                                                        \n&quot;,</td>
      </tr>
      <tr>
        <td id="L426" class="blob-num js-line-number" data-line-number="426"></td>
        <td id="LC426" class="blob-code js-file-line">        &quot;A.J. Burnett     2010  16500000  Pitcher      New York Yankees\n&quot;,</td>
      </tr>
      <tr>
        <td id="L427" class="blob-num js-line-number" data-line-number="427"></td>
        <td id="LC427" class="blob-code js-file-line">        &quot;A.J. Pierzynski  2010   6750000  Catcher     Chicago White Sox\n&quot;,</td>
      </tr>
      <tr>
        <td id="L428" class="blob-num js-line-number" data-line-number="428"></td>
        <td id="LC428" class="blob-code js-file-line">        &quot;Aaron Cook       2010   9625000  Pitcher      Colorado Rockies\n&quot;,</td>
      </tr>
      <tr>
        <td id="L429" class="blob-num js-line-number" data-line-number="429"></td>
        <td id="LC429" class="blob-code js-file-line">        &quot;Aaron Harang     2010  12500000  Pitcher       Cincinnati Reds\n&quot;,</td>
      </tr>
      <tr>
        <td id="L430" class="blob-num js-line-number" data-line-number="430"></td>
        <td id="LC430" class="blob-code js-file-line">        &quot;Aaron Heilman    2010   2150000  Pitcher  Arizona Diamondbacks&quot;</td>
      </tr>
      <tr>
        <td id="L431" class="blob-num js-line-number" data-line-number="431"></td>
        <td id="LC431" class="blob-code js-file-line">       ]</td>
      </tr>
      <tr>
        <td id="L432" class="blob-num js-line-number" data-line-number="432"></td>
        <td id="LC432" class="blob-code js-file-line">      }</td>
      </tr>
      <tr>
        <td id="L433" class="blob-num js-line-number" data-line-number="433"></td>
        <td id="LC433" class="blob-code js-file-line">     ],</td>
      </tr>
      <tr>
        <td id="L434" class="blob-num js-line-number" data-line-number="434"></td>
        <td id="LC434" class="blob-code js-file-line">     &quot;prompt_number&quot;: 44</td>
      </tr>
      <tr>
        <td id="L435" class="blob-num js-line-number" data-line-number="435"></td>
        <td id="LC435" class="blob-code js-file-line">    },</td>
      </tr>
      <tr>
        <td id="L436" class="blob-num js-line-number" data-line-number="436"></td>
        <td id="LC436" class="blob-code js-file-line">    {</td>
      </tr>
      <tr>
        <td id="L437" class="blob-num js-line-number" data-line-number="437"></td>
        <td id="LC437" class="blob-code js-file-line">     &quot;cell_type&quot;: &quot;code&quot;,</td>
      </tr>
      <tr>
        <td id="L438" class="blob-num js-line-number" data-line-number="438"></td>
        <td id="LC438" class="blob-code js-file-line">     &quot;collapsed&quot;: false,</td>
      </tr>
      <tr>
        <td id="L439" class="blob-num js-line-number" data-line-number="439"></td>
        <td id="LC439" class="blob-code js-file-line">     &quot;input&quot;: [</td>
      </tr>
      <tr>
        <td id="L440" class="blob-num js-line-number" data-line-number="440"></td>
        <td id="LC440" class="blob-code js-file-line">      &quot;# sort column labels\n&quot;,</td>
      </tr>
      <tr>
        <td id="L441" class="blob-num js-line-number" data-line-number="441"></td>
        <td id="LC441" class="blob-code js-file-line">      &quot;yr2010.sort_index(axis=1).head()&quot;</td>
      </tr>
      <tr>
        <td id="L442" class="blob-num js-line-number" data-line-number="442"></td>
        <td id="LC442" class="blob-code js-file-line">     ],</td>
      </tr>
      <tr>
        <td id="L443" class="blob-num js-line-number" data-line-number="443"></td>
        <td id="LC443" class="blob-code js-file-line">     &quot;language&quot;: &quot;python&quot;,</td>
      </tr>
      <tr>
        <td id="L444" class="blob-num js-line-number" data-line-number="444"></td>
        <td id="LC444" class="blob-code js-file-line">     &quot;metadata&quot;: {},</td>
      </tr>
      <tr>
        <td id="L445" class="blob-num js-line-number" data-line-number="445"></td>
        <td id="LC445" class="blob-code js-file-line">     &quot;outputs&quot;: [</td>
      </tr>
      <tr>
        <td id="L446" class="blob-num js-line-number" data-line-number="446"></td>
        <td id="LC446" class="blob-code js-file-line">      {</td>
      </tr>
      <tr>
        <td id="L447" class="blob-num js-line-number" data-line-number="447"></td>
        <td id="LC447" class="blob-code js-file-line">       &quot;html&quot;: [</td>
      </tr>
      <tr>
        <td id="L448" class="blob-num js-line-number" data-line-number="448"></td>
        <td id="LC448" class="blob-code js-file-line">        &quot;&lt;div style=\&quot;max-height:1000px;max-width:1500px;overflow:auto;\&quot;&gt;\n&quot;,</td>
      </tr>
      <tr>
        <td id="L449" class="blob-num js-line-number" data-line-number="449"></td>
        <td id="LC449" class="blob-code js-file-line">        &quot;&lt;table border=\&quot;1\&quot; class=\&quot;dataframe\&quot;&gt;\n&quot;,</td>
      </tr>
      <tr>
        <td id="L450" class="blob-num js-line-number" data-line-number="450"></td>
        <td id="LC450" class="blob-code js-file-line">        &quot;  &lt;thead&gt;\n&quot;,</td>
      </tr>
      <tr>
        <td id="L451" class="blob-num js-line-number" data-line-number="451"></td>
        <td id="LC451" class="blob-code js-file-line">        &quot;    &lt;tr style=\&quot;text-align: right;\&quot;&gt;\n&quot;,</td>
      </tr>
      <tr>
        <td id="L452" class="blob-num js-line-number" data-line-number="452"></td>
        <td id="LC452" class="blob-code js-file-line">        &quot;      &lt;th&gt;&lt;/th&gt;\n&quot;,</td>
      </tr>
      <tr>
        <td id="L453" class="blob-num js-line-number" data-line-number="453"></td>
        <td id="LC453" class="blob-code js-file-line">        &quot;      &lt;th&gt;Position&lt;/th&gt;\n&quot;,</td>
      </tr>
      <tr>
        <td id="L454" class="blob-num js-line-number" data-line-number="454"></td>
        <td id="LC454" class="blob-code js-file-line">        &quot;      &lt;th&gt;Salary&lt;/th&gt;\n&quot;,</td>
      </tr>
      <tr>
        <td id="L455" class="blob-num js-line-number" data-line-number="455"></td>
        <td id="LC455" class="blob-code js-file-line">        &quot;      &lt;th&gt;Team&lt;/th&gt;\n&quot;,</td>
      </tr>
      <tr>
        <td id="L456" class="blob-num js-line-number" data-line-number="456"></td>
        <td id="LC456" class="blob-code js-file-line">        &quot;      &lt;th&gt;Year&lt;/th&gt;\n&quot;,</td>
      </tr>
      <tr>
        <td id="L457" class="blob-num js-line-number" data-line-number="457"></td>
        <td id="LC457" class="blob-code js-file-line">        &quot;    &lt;/tr&gt;\n&quot;,</td>
      </tr>
      <tr>
        <td id="L458" class="blob-num js-line-number" data-line-number="458"></td>
        <td id="LC458" class="blob-code js-file-line">        &quot;    &lt;tr&gt;\n&quot;,</td>
      </tr>
      <tr>
        <td id="L459" class="blob-num js-line-number" data-line-number="459"></td>
        <td id="LC459" class="blob-code js-file-line">        &quot;      &lt;th&gt;Player&lt;/th&gt;\n&quot;,</td>
      </tr>
      <tr>
        <td id="L460" class="blob-num js-line-number" data-line-number="460"></td>
        <td id="LC460" class="blob-code js-file-line">        &quot;      &lt;th&gt;&lt;/th&gt;\n&quot;,</td>
      </tr>
      <tr>
        <td id="L461" class="blob-num js-line-number" data-line-number="461"></td>
        <td id="LC461" class="blob-code js-file-line">        &quot;      &lt;th&gt;&lt;/th&gt;\n&quot;,</td>
      </tr>
      <tr>
        <td id="L462" class="blob-num js-line-number" data-line-number="462"></td>
        <td id="LC462" class="blob-code js-file-line">        &quot;      &lt;th&gt;&lt;/th&gt;\n&quot;,</td>
      </tr>
      <tr>
        <td id="L463" class="blob-num js-line-number" data-line-number="463"></td>
        <td id="LC463" class="blob-code js-file-line">        &quot;      &lt;th&gt;&lt;/th&gt;\n&quot;,</td>
      </tr>
      <tr>
        <td id="L464" class="blob-num js-line-number" data-line-number="464"></td>
        <td id="LC464" class="blob-code js-file-line">        &quot;    &lt;/tr&gt;\n&quot;,</td>
      </tr>
      <tr>
        <td id="L465" class="blob-num js-line-number" data-line-number="465"></td>
        <td id="LC465" class="blob-code js-file-line">        &quot;  &lt;/thead&gt;\n&quot;,</td>
      </tr>
      <tr>
        <td id="L466" class="blob-num js-line-number" data-line-number="466"></td>
        <td id="LC466" class="blob-code js-file-line">        &quot;  &lt;tbody&gt;\n&quot;,</td>
      </tr>
      <tr>
        <td id="L467" class="blob-num js-line-number" data-line-number="467"></td>
        <td id="LC467" class="blob-code js-file-line">        &quot;    &lt;tr&gt;\n&quot;,</td>
      </tr>
      <tr>
        <td id="L468" class="blob-num js-line-number" data-line-number="468"></td>
        <td id="LC468" class="blob-code js-file-line">        &quot;      &lt;th&gt;Torii Hunter&lt;/th&gt;\n&quot;,</td>
      </tr>
      <tr>
        <td id="L469" class="blob-num js-line-number" data-line-number="469"></td>
        <td id="LC469" class="blob-code js-file-line">        &quot;      &lt;td&gt; Outfielder&lt;/td&gt;\n&quot;,</td>
      </tr>
      <tr>
        <td id="L470" class="blob-num js-line-number" data-line-number="470"></td>
        <td id="LC470" class="blob-code js-file-line">        &quot;      &lt;td&gt; 18500000&lt;/td&gt;\n&quot;,</td>
      </tr>
      <tr>
        <td id="L471" class="blob-num js-line-number" data-line-number="471"></td>
        <td id="LC471" class="blob-code js-file-line">        &quot;      &lt;td&gt; Los Angeles Angels&lt;/td&gt;\n&quot;,</td>
      </tr>
      <tr>
        <td id="L472" class="blob-num js-line-number" data-line-number="472"></td>
        <td id="LC472" class="blob-code js-file-line">        &quot;      &lt;td&gt; 2010&lt;/td&gt;\n&quot;,</td>
      </tr>
      <tr>
        <td id="L473" class="blob-num js-line-number" data-line-number="473"></td>
        <td id="LC473" class="blob-code js-file-line">        &quot;    &lt;/tr&gt;\n&quot;,</td>
      </tr>
      <tr>
        <td id="L474" class="blob-num js-line-number" data-line-number="474"></td>
        <td id="LC474" class="blob-code js-file-line">        &quot;    &lt;tr&gt;\n&quot;,</td>
      </tr>
      <tr>
        <td id="L475" class="blob-num js-line-number" data-line-number="475"></td>
        <td id="LC475" class="blob-code js-file-line">        &quot;      &lt;th&gt;Bobby Abreu&lt;/th&gt;\n&quot;,</td>
      </tr>
      <tr>
        <td id="L476" class="blob-num js-line-number" data-line-number="476"></td>
        <td id="LC476" class="blob-code js-file-line">        &quot;      &lt;td&gt; Outfielder&lt;/td&gt;\n&quot;,</td>
      </tr>
      <tr>
        <td id="L477" class="blob-num js-line-number" data-line-number="477"></td>
        <td id="LC477" class="blob-code js-file-line">        &quot;      &lt;td&gt;  9000000&lt;/td&gt;\n&quot;,</td>
      </tr>
      <tr>
        <td id="L478" class="blob-num js-line-number" data-line-number="478"></td>
        <td id="LC478" class="blob-code js-file-line">        &quot;      &lt;td&gt; Los Angeles Angels&lt;/td&gt;\n&quot;,</td>
      </tr>
      <tr>
        <td id="L479" class="blob-num js-line-number" data-line-number="479"></td>
        <td id="LC479" class="blob-code js-file-line">        &quot;      &lt;td&gt; 2010&lt;/td&gt;\n&quot;,</td>
      </tr>
      <tr>
        <td id="L480" class="blob-num js-line-number" data-line-number="480"></td>
        <td id="LC480" class="blob-code js-file-line">        &quot;    &lt;/tr&gt;\n&quot;,</td>
      </tr>
      <tr>
        <td id="L481" class="blob-num js-line-number" data-line-number="481"></td>
        <td id="LC481" class="blob-code js-file-line">        &quot;    &lt;tr&gt;\n&quot;,</td>
      </tr>
      <tr>
        <td id="L482" class="blob-num js-line-number" data-line-number="482"></td>
        <td id="LC482" class="blob-code js-file-line">        &quot;      &lt;th&gt;Brian Fuentes&lt;/th&gt;\n&quot;,</td>
      </tr>
      <tr>
        <td id="L483" class="blob-num js-line-number" data-line-number="483"></td>
        <td id="LC483" class="blob-code js-file-line">        &quot;      &lt;td&gt;    Pitcher&lt;/td&gt;\n&quot;,</td>
      </tr>
      <tr>
        <td id="L484" class="blob-num js-line-number" data-line-number="484"></td>
        <td id="LC484" class="blob-code js-file-line">        &quot;      &lt;td&gt;  9000000&lt;/td&gt;\n&quot;,</td>
      </tr>
      <tr>
        <td id="L485" class="blob-num js-line-number" data-line-number="485"></td>
        <td id="LC485" class="blob-code js-file-line">        &quot;      &lt;td&gt; Los Angeles Angels&lt;/td&gt;\n&quot;,</td>
      </tr>
      <tr>
        <td id="L486" class="blob-num js-line-number" data-line-number="486"></td>
        <td id="LC486" class="blob-code js-file-line">        &quot;      &lt;td&gt; 2010&lt;/td&gt;\n&quot;,</td>
      </tr>
      <tr>
        <td id="L487" class="blob-num js-line-number" data-line-number="487"></td>
        <td id="LC487" class="blob-code js-file-line">        &quot;    &lt;/tr&gt;\n&quot;,</td>
      </tr>
      <tr>
        <td id="L488" class="blob-num js-line-number" data-line-number="488"></td>
        <td id="LC488" class="blob-code js-file-line">        &quot;    &lt;tr&gt;\n&quot;,</td>
      </tr>
      <tr>
        <td id="L489" class="blob-num js-line-number" data-line-number="489"></td>
        <td id="LC489" class="blob-code js-file-line">        &quot;      &lt;th&gt;Scott Kazmir&lt;/th&gt;\n&quot;,</td>
      </tr>
      <tr>
        <td id="L490" class="blob-num js-line-number" data-line-number="490"></td>
        <td id="LC490" class="blob-code js-file-line">        &quot;      &lt;td&gt;    Pitcher&lt;/td&gt;\n&quot;,</td>
      </tr>
      <tr>
        <td id="L491" class="blob-num js-line-number" data-line-number="491"></td>
        <td id="LC491" class="blob-code js-file-line">        &quot;      &lt;td&gt;  8000000&lt;/td&gt;\n&quot;,</td>
      </tr>
      <tr>
        <td id="L492" class="blob-num js-line-number" data-line-number="492"></td>
        <td id="LC492" class="blob-code js-file-line">        &quot;      &lt;td&gt; Los Angeles Angels&lt;/td&gt;\n&quot;,</td>
      </tr>
      <tr>
        <td id="L493" class="blob-num js-line-number" data-line-number="493"></td>
        <td id="LC493" class="blob-code js-file-line">        &quot;      &lt;td&gt; 2010&lt;/td&gt;\n&quot;,</td>
      </tr>
      <tr>
        <td id="L494" class="blob-num js-line-number" data-line-number="494"></td>
        <td id="LC494" class="blob-code js-file-line">        &quot;    &lt;/tr&gt;\n&quot;,</td>
      </tr>
      <tr>
        <td id="L495" class="blob-num js-line-number" data-line-number="495"></td>
        <td id="LC495" class="blob-code js-file-line">        &quot;    &lt;tr&gt;\n&quot;,</td>
      </tr>
      <tr>
        <td id="L496" class="blob-num js-line-number" data-line-number="496"></td>
        <td id="LC496" class="blob-code js-file-line">        &quot;      &lt;th&gt;Joel Pineiro&lt;/th&gt;\n&quot;,</td>
      </tr>
      <tr>
        <td id="L497" class="blob-num js-line-number" data-line-number="497"></td>
        <td id="LC497" class="blob-code js-file-line">        &quot;      &lt;td&gt;    Pitcher&lt;/td&gt;\n&quot;,</td>
      </tr>
      <tr>
        <td id="L498" class="blob-num js-line-number" data-line-number="498"></td>
        <td id="LC498" class="blob-code js-file-line">        &quot;      &lt;td&gt;  8000000&lt;/td&gt;\n&quot;,</td>
      </tr>
      <tr>
        <td id="L499" class="blob-num js-line-number" data-line-number="499"></td>
        <td id="LC499" class="blob-code js-file-line">        &quot;      &lt;td&gt; Los Angeles Angels&lt;/td&gt;\n&quot;,</td>
      </tr>
      <tr>
        <td id="L500" class="blob-num js-line-number" data-line-number="500"></td>
        <td id="LC500" class="blob-code js-file-line">        &quot;      &lt;td&gt; 2010&lt;/td&gt;\n&quot;,</td>
      </tr>
      <tr>
        <td id="L501" class="blob-num js-line-number" data-line-number="501"></td>
        <td id="LC501" class="blob-code js-file-line">        &quot;    &lt;/tr&gt;\n&quot;,</td>
      </tr>
      <tr>
        <td id="L502" class="blob-num js-line-number" data-line-number="502"></td>
        <td id="LC502" class="blob-code js-file-line">        &quot;  &lt;/tbody&gt;\n&quot;,</td>
      </tr>
      <tr>
        <td id="L503" class="blob-num js-line-number" data-line-number="503"></td>
        <td id="LC503" class="blob-code js-file-line">        &quot;&lt;/table&gt;\n&quot;,</td>
      </tr>
      <tr>
        <td id="L504" class="blob-num js-line-number" data-line-number="504"></td>
        <td id="LC504" class="blob-code js-file-line">        &quot;&lt;/div&gt;&quot;</td>
      </tr>
      <tr>
        <td id="L505" class="blob-num js-line-number" data-line-number="505"></td>
        <td id="LC505" class="blob-code js-file-line">       ],</td>
      </tr>
      <tr>
        <td id="L506" class="blob-num js-line-number" data-line-number="506"></td>
        <td id="LC506" class="blob-code js-file-line">       &quot;metadata&quot;: {},</td>
      </tr>
      <tr>
        <td id="L507" class="blob-num js-line-number" data-line-number="507"></td>
        <td id="LC507" class="blob-code js-file-line">       &quot;output_type&quot;: &quot;pyout&quot;,</td>
      </tr>
      <tr>
        <td id="L508" class="blob-num js-line-number" data-line-number="508"></td>
        <td id="LC508" class="blob-code js-file-line">       &quot;prompt_number&quot;: 45,</td>
      </tr>
      <tr>
        <td id="L509" class="blob-num js-line-number" data-line-number="509"></td>
        <td id="LC509" class="blob-code js-file-line">       &quot;text&quot;: [</td>
      </tr>
      <tr>
        <td id="L510" class="blob-num js-line-number" data-line-number="510"></td>
        <td id="LC510" class="blob-code js-file-line">        &quot;                 Position    Salary                Team  Year\n&quot;,</td>
      </tr>
      <tr>
        <td id="L511" class="blob-num js-line-number" data-line-number="511"></td>
        <td id="LC511" class="blob-code js-file-line">        &quot;Player                                                       \n&quot;,</td>
      </tr>
      <tr>
        <td id="L512" class="blob-num js-line-number" data-line-number="512"></td>
        <td id="LC512" class="blob-code js-file-line">        &quot;Torii Hunter   Outfielder  18500000  Los Angeles Angels  2010\n&quot;,</td>
      </tr>
      <tr>
        <td id="L513" class="blob-num js-line-number" data-line-number="513"></td>
        <td id="LC513" class="blob-code js-file-line">        &quot;Bobby Abreu    Outfielder   9000000  Los Angeles Angels  2010\n&quot;,</td>
      </tr>
      <tr>
        <td id="L514" class="blob-num js-line-number" data-line-number="514"></td>
        <td id="LC514" class="blob-code js-file-line">        &quot;Brian Fuentes     Pitcher   9000000  Los Angeles Angels  2010\n&quot;,</td>
      </tr>
      <tr>
        <td id="L515" class="blob-num js-line-number" data-line-number="515"></td>
        <td id="LC515" class="blob-code js-file-line">        &quot;Scott Kazmir      Pitcher   8000000  Los Angeles Angels  2010\n&quot;,</td>
      </tr>
      <tr>
        <td id="L516" class="blob-num js-line-number" data-line-number="516"></td>
        <td id="LC516" class="blob-code js-file-line">        &quot;Joel Pineiro      Pitcher   8000000  Los Angeles Angels  2010&quot;</td>
      </tr>
      <tr>
        <td id="L517" class="blob-num js-line-number" data-line-number="517"></td>
        <td id="LC517" class="blob-code js-file-line">       ]</td>
      </tr>
      <tr>
        <td id="L518" class="blob-num js-line-number" data-line-number="518"></td>
        <td id="LC518" class="blob-code js-file-line">      }</td>
      </tr>
      <tr>
        <td id="L519" class="blob-num js-line-number" data-line-number="519"></td>
        <td id="LC519" class="blob-code js-file-line">     ],</td>
      </tr>
      <tr>
        <td id="L520" class="blob-num js-line-number" data-line-number="520"></td>
        <td id="LC520" class="blob-code js-file-line">     &quot;prompt_number&quot;: 45</td>
      </tr>
      <tr>
        <td id="L521" class="blob-num js-line-number" data-line-number="521"></td>
        <td id="LC521" class="blob-code js-file-line">    },</td>
      </tr>
      <tr>
        <td id="L522" class="blob-num js-line-number" data-line-number="522"></td>
        <td id="LC522" class="blob-code js-file-line">    {</td>
      </tr>
      <tr>
        <td id="L523" class="blob-num js-line-number" data-line-number="523"></td>
        <td id="LC523" class="blob-code js-file-line">     &quot;cell_type&quot;: &quot;code&quot;,</td>
      </tr>
      <tr>
        <td id="L524" class="blob-num js-line-number" data-line-number="524"></td>
        <td id="LC524" class="blob-code js-file-line">     &quot;collapsed&quot;: false,</td>
      </tr>
      <tr>
        <td id="L525" class="blob-num js-line-number" data-line-number="525"></td>
        <td id="LC525" class="blob-code js-file-line">     &quot;input&quot;: [</td>
      </tr>
      <tr>
        <td id="L526" class="blob-num js-line-number" data-line-number="526"></td>
        <td id="LC526" class="blob-code js-file-line">      &quot;# sort column values using order field; note: the order field returns a series\n&quot;,</td>
      </tr>
      <tr>
        <td id="L527" class="blob-num js-line-number" data-line-number="527"></td>
        <td id="LC527" class="blob-code js-file-line">      &quot;yr2010.Salary.order(ascending=False).head()&quot;</td>
      </tr>
      <tr>
        <td id="L528" class="blob-num js-line-number" data-line-number="528"></td>
        <td id="LC528" class="blob-code js-file-line">     ],</td>
      </tr>
      <tr>
        <td id="L529" class="blob-num js-line-number" data-line-number="529"></td>
        <td id="LC529" class="blob-code js-file-line">     &quot;language&quot;: &quot;python&quot;,</td>
      </tr>
      <tr>
        <td id="L530" class="blob-num js-line-number" data-line-number="530"></td>
        <td id="LC530" class="blob-code js-file-line">     &quot;metadata&quot;: {},</td>
      </tr>
      <tr>
        <td id="L531" class="blob-num js-line-number" data-line-number="531"></td>
        <td id="LC531" class="blob-code js-file-line">     &quot;outputs&quot;: [</td>
      </tr>
      <tr>
        <td id="L532" class="blob-num js-line-number" data-line-number="532"></td>
        <td id="LC532" class="blob-code js-file-line">      {</td>
      </tr>
      <tr>
        <td id="L533" class="blob-num js-line-number" data-line-number="533"></td>
        <td id="LC533" class="blob-code js-file-line">       &quot;metadata&quot;: {},</td>
      </tr>
      <tr>
        <td id="L534" class="blob-num js-line-number" data-line-number="534"></td>
        <td id="LC534" class="blob-code js-file-line">       &quot;output_type&quot;: &quot;pyout&quot;,</td>
      </tr>
      <tr>
        <td id="L535" class="blob-num js-line-number" data-line-number="535"></td>
        <td id="LC535" class="blob-code js-file-line">       &quot;prompt_number&quot;: 46,</td>
      </tr>
      <tr>
        <td id="L536" class="blob-num js-line-number" data-line-number="536"></td>
        <td id="LC536" class="blob-code js-file-line">       &quot;text&quot;: [</td>
      </tr>
      <tr>
        <td id="L537" class="blob-num js-line-number" data-line-number="537"></td>
        <td id="LC537" class="blob-code js-file-line">        &quot;Player\n&quot;,</td>
      </tr>
      <tr>
        <td id="L538" class="blob-num js-line-number" data-line-number="538"></td>
        <td id="LC538" class="blob-code js-file-line">        &quot;Alex Rodriguez    33000000\n&quot;,</td>
      </tr>
      <tr>
        <td id="L539" class="blob-num js-line-number" data-line-number="539"></td>
        <td id="LC539" class="blob-code js-file-line">        &quot;CC Sabathia       24285714\n&quot;,</td>
      </tr>
      <tr>
        <td id="L540" class="blob-num js-line-number" data-line-number="540"></td>
        <td id="LC540" class="blob-code js-file-line">        &quot;Derek Jeter       22600000\n&quot;,</td>
      </tr>
      <tr>
        <td id="L541" class="blob-num js-line-number" data-line-number="541"></td>
        <td id="LC541" class="blob-code js-file-line">        &quot;Mark Teixeira     20625000\n&quot;,</td>
      </tr>
      <tr>
        <td id="L542" class="blob-num js-line-number" data-line-number="542"></td>
        <td id="LC542" class="blob-code js-file-line">        &quot;Johan Santana     20144707\n&quot;,</td>
      </tr>
      <tr>
        <td id="L543" class="blob-num js-line-number" data-line-number="543"></td>
        <td id="LC543" class="blob-code js-file-line">        &quot;Name: Salary, dtype: int64&quot;</td>
      </tr>
      <tr>
        <td id="L544" class="blob-num js-line-number" data-line-number="544"></td>
        <td id="LC544" class="blob-code js-file-line">       ]</td>
      </tr>
      <tr>
        <td id="L545" class="blob-num js-line-number" data-line-number="545"></td>
        <td id="LC545" class="blob-code js-file-line">      }</td>
      </tr>
      <tr>
        <td id="L546" class="blob-num js-line-number" data-line-number="546"></td>
        <td id="LC546" class="blob-code js-file-line">     ],</td>
      </tr>
      <tr>
        <td id="L547" class="blob-num js-line-number" data-line-number="547"></td>
        <td id="LC547" class="blob-code js-file-line">     &quot;prompt_number&quot;: 46</td>
      </tr>
      <tr>
        <td id="L548" class="blob-num js-line-number" data-line-number="548"></td>
        <td id="LC548" class="blob-code js-file-line">    },</td>
      </tr>
      <tr>
        <td id="L549" class="blob-num js-line-number" data-line-number="549"></td>
        <td id="LC549" class="blob-code js-file-line">    {</td>
      </tr>
      <tr>
        <td id="L550" class="blob-num js-line-number" data-line-number="550"></td>
        <td id="LC550" class="blob-code js-file-line">     &quot;cell_type&quot;: &quot;code&quot;,</td>
      </tr>
      <tr>
        <td id="L551" class="blob-num js-line-number" data-line-number="551"></td>
        <td id="LC551" class="blob-code js-file-line">     &quot;collapsed&quot;: false,</td>
      </tr>
      <tr>
        <td id="L552" class="blob-num js-line-number" data-line-number="552"></td>
        <td id="LC552" class="blob-code js-file-line">     &quot;input&quot;: [</td>
      </tr>
      <tr>
        <td id="L553" class="blob-num js-line-number" data-line-number="553"></td>
        <td id="LC553" class="blob-code js-file-line">      &quot;# sort column values using sort_index method\n&quot;,</td>
      </tr>
      <tr>
        <td id="L554" class="blob-num js-line-number" data-line-number="554"></td>
        <td id="LC554" class="blob-code js-file-line">      &quot;sorted_yr2010 = yr2010.sort_index(ascending=False, by = [&#39;Salary&#39;])&quot;</td>
      </tr>
      <tr>
        <td id="L555" class="blob-num js-line-number" data-line-number="555"></td>
        <td id="LC555" class="blob-code js-file-line">     ],</td>
      </tr>
      <tr>
        <td id="L556" class="blob-num js-line-number" data-line-number="556"></td>
        <td id="LC556" class="blob-code js-file-line">     &quot;language&quot;: &quot;python&quot;,</td>
      </tr>
      <tr>
        <td id="L557" class="blob-num js-line-number" data-line-number="557"></td>
        <td id="LC557" class="blob-code js-file-line">     &quot;metadata&quot;: {},</td>
      </tr>
      <tr>
        <td id="L558" class="blob-num js-line-number" data-line-number="558"></td>
        <td id="LC558" class="blob-code js-file-line">     &quot;outputs&quot;: [],</td>
      </tr>
      <tr>
        <td id="L559" class="blob-num js-line-number" data-line-number="559"></td>
        <td id="LC559" class="blob-code js-file-line">     &quot;prompt_number&quot;: 47</td>
      </tr>
      <tr>
        <td id="L560" class="blob-num js-line-number" data-line-number="560"></td>
        <td id="LC560" class="blob-code js-file-line">    },</td>
      </tr>
      <tr>
        <td id="L561" class="blob-num js-line-number" data-line-number="561"></td>
        <td id="LC561" class="blob-code js-file-line">    {</td>
      </tr>
      <tr>
        <td id="L562" class="blob-num js-line-number" data-line-number="562"></td>
        <td id="LC562" class="blob-code js-file-line">     &quot;cell_type&quot;: &quot;code&quot;,</td>
      </tr>
      <tr>
        <td id="L563" class="blob-num js-line-number" data-line-number="563"></td>
        <td id="LC563" class="blob-code js-file-line">     &quot;collapsed&quot;: false,</td>
      </tr>
      <tr>
        <td id="L564" class="blob-num js-line-number" data-line-number="564"></td>
        <td id="LC564" class="blob-code js-file-line">     &quot;input&quot;: [</td>
      </tr>
      <tr>
        <td id="L565" class="blob-num js-line-number" data-line-number="565"></td>
        <td id="LC565" class="blob-code js-file-line">      &quot;sorted_yr2010.head(20)&quot;</td>
      </tr>
      <tr>
        <td id="L566" class="blob-num js-line-number" data-line-number="566"></td>
        <td id="LC566" class="blob-code js-file-line">     ],</td>
      </tr>
      <tr>
        <td id="L567" class="blob-num js-line-number" data-line-number="567"></td>
        <td id="LC567" class="blob-code js-file-line">     &quot;language&quot;: &quot;python&quot;,</td>
      </tr>
      <tr>
        <td id="L568" class="blob-num js-line-number" data-line-number="568"></td>
        <td id="LC568" class="blob-code js-file-line">     &quot;metadata&quot;: {},</td>
      </tr>
      <tr>
        <td id="L569" class="blob-num js-line-number" data-line-number="569"></td>
        <td id="LC569" class="blob-code js-file-line">     &quot;outputs&quot;: [</td>
      </tr>
      <tr>
        <td id="L570" class="blob-num js-line-number" data-line-number="570"></td>
        <td id="LC570" class="blob-code js-file-line">      {</td>
      </tr>
      <tr>
        <td id="L571" class="blob-num js-line-number" data-line-number="571"></td>
        <td id="LC571" class="blob-code js-file-line">       &quot;html&quot;: [</td>
      </tr>
      <tr>
        <td id="L572" class="blob-num js-line-number" data-line-number="572"></td>
        <td id="LC572" class="blob-code js-file-line">        &quot;&lt;div style=\&quot;max-height:1000px;max-width:1500px;overflow:auto;\&quot;&gt;\n&quot;,</td>
      </tr>
      <tr>
        <td id="L573" class="blob-num js-line-number" data-line-number="573"></td>
        <td id="LC573" class="blob-code js-file-line">        &quot;&lt;table border=\&quot;1\&quot; class=\&quot;dataframe\&quot;&gt;\n&quot;,</td>
      </tr>
      <tr>
        <td id="L574" class="blob-num js-line-number" data-line-number="574"></td>
        <td id="LC574" class="blob-code js-file-line">        &quot;  &lt;thead&gt;\n&quot;,</td>
      </tr>
      <tr>
        <td id="L575" class="blob-num js-line-number" data-line-number="575"></td>
        <td id="LC575" class="blob-code js-file-line">        &quot;    &lt;tr style=\&quot;text-align: right;\&quot;&gt;\n&quot;,</td>
      </tr>
      <tr>
        <td id="L576" class="blob-num js-line-number" data-line-number="576"></td>
        <td id="LC576" class="blob-code js-file-line">        &quot;      &lt;th&gt;&lt;/th&gt;\n&quot;,</td>
      </tr>
      <tr>
        <td id="L577" class="blob-num js-line-number" data-line-number="577"></td>
        <td id="LC577" class="blob-code js-file-line">        &quot;      &lt;th&gt;Year&lt;/th&gt;\n&quot;,</td>
      </tr>
      <tr>
        <td id="L578" class="blob-num js-line-number" data-line-number="578"></td>
        <td id="LC578" class="blob-code js-file-line">        &quot;      &lt;th&gt;Salary&lt;/th&gt;\n&quot;,</td>
      </tr>
      <tr>
        <td id="L579" class="blob-num js-line-number" data-line-number="579"></td>
        <td id="LC579" class="blob-code js-file-line">        &quot;      &lt;th&gt;Position&lt;/th&gt;\n&quot;,</td>
      </tr>
      <tr>
        <td id="L580" class="blob-num js-line-number" data-line-number="580"></td>
        <td id="LC580" class="blob-code js-file-line">        &quot;      &lt;th&gt;Team&lt;/th&gt;\n&quot;,</td>
      </tr>
      <tr>
        <td id="L581" class="blob-num js-line-number" data-line-number="581"></td>
        <td id="LC581" class="blob-code js-file-line">        &quot;    &lt;/tr&gt;\n&quot;,</td>
      </tr>
      <tr>
        <td id="L582" class="blob-num js-line-number" data-line-number="582"></td>
        <td id="LC582" class="blob-code js-file-line">        &quot;    &lt;tr&gt;\n&quot;,</td>
      </tr>
      <tr>
        <td id="L583" class="blob-num js-line-number" data-line-number="583"></td>
        <td id="LC583" class="blob-code js-file-line">        &quot;      &lt;th&gt;Player&lt;/th&gt;\n&quot;,</td>
      </tr>
      <tr>
        <td id="L584" class="blob-num js-line-number" data-line-number="584"></td>
        <td id="LC584" class="blob-code js-file-line">        &quot;      &lt;th&gt;&lt;/th&gt;\n&quot;,</td>
      </tr>
      <tr>
        <td id="L585" class="blob-num js-line-number" data-line-number="585"></td>
        <td id="LC585" class="blob-code js-file-line">        &quot;      &lt;th&gt;&lt;/th&gt;\n&quot;,</td>
      </tr>
      <tr>
        <td id="L586" class="blob-num js-line-number" data-line-number="586"></td>
        <td id="LC586" class="blob-code js-file-line">        &quot;      &lt;th&gt;&lt;/th&gt;\n&quot;,</td>
      </tr>
      <tr>
        <td id="L587" class="blob-num js-line-number" data-line-number="587"></td>
        <td id="LC587" class="blob-code js-file-line">        &quot;      &lt;th&gt;&lt;/th&gt;\n&quot;,</td>
      </tr>
      <tr>
        <td id="L588" class="blob-num js-line-number" data-line-number="588"></td>
        <td id="LC588" class="blob-code js-file-line">        &quot;    &lt;/tr&gt;\n&quot;,</td>
      </tr>
      <tr>
        <td id="L589" class="blob-num js-line-number" data-line-number="589"></td>
        <td id="LC589" class="blob-code js-file-line">        &quot;  &lt;/thead&gt;\n&quot;,</td>
      </tr>
      <tr>
        <td id="L590" class="blob-num js-line-number" data-line-number="590"></td>
        <td id="LC590" class="blob-code js-file-line">        &quot;  &lt;tbody&gt;\n&quot;,</td>
      </tr>
      <tr>
        <td id="L591" class="blob-num js-line-number" data-line-number="591"></td>
        <td id="LC591" class="blob-code js-file-line">        &quot;    &lt;tr&gt;\n&quot;,</td>
      </tr>
      <tr>
        <td id="L592" class="blob-num js-line-number" data-line-number="592"></td>
        <td id="LC592" class="blob-code js-file-line">        &quot;      &lt;th&gt;Alex Rodriguez&lt;/th&gt;\n&quot;,</td>
      </tr>
      <tr>
        <td id="L593" class="blob-num js-line-number" data-line-number="593"></td>
        <td id="LC593" class="blob-code js-file-line">        &quot;      &lt;td&gt; 2010&lt;/td&gt;\n&quot;,</td>
      </tr>
      <tr>
        <td id="L594" class="blob-num js-line-number" data-line-number="594"></td>
        <td id="LC594" class="blob-code js-file-line">        &quot;      &lt;td&gt; 33000000&lt;/td&gt;\n&quot;,</td>
      </tr>
      <tr>
        <td id="L595" class="blob-num js-line-number" data-line-number="595"></td>
        <td id="LC595" class="blob-code js-file-line">        &quot;      &lt;td&gt; Third Baseman&lt;/td&gt;\n&quot;,</td>
      </tr>
      <tr>
        <td id="L596" class="blob-num js-line-number" data-line-number="596"></td>
        <td id="LC596" class="blob-code js-file-line">        &quot;      &lt;td&gt;      New York Yankees&lt;/td&gt;\n&quot;,</td>
      </tr>
      <tr>
        <td id="L597" class="blob-num js-line-number" data-line-number="597"></td>
        <td id="LC597" class="blob-code js-file-line">        &quot;    &lt;/tr&gt;\n&quot;,</td>
      </tr>
      <tr>
        <td id="L598" class="blob-num js-line-number" data-line-number="598"></td>
        <td id="LC598" class="blob-code js-file-line">        &quot;    &lt;tr&gt;\n&quot;,</td>
      </tr>
      <tr>
        <td id="L599" class="blob-num js-line-number" data-line-number="599"></td>
        <td id="LC599" class="blob-code js-file-line">        &quot;      &lt;th&gt;CC Sabathia&lt;/th&gt;\n&quot;,</td>
      </tr>
      <tr>
        <td id="L600" class="blob-num js-line-number" data-line-number="600"></td>
        <td id="LC600" class="blob-code js-file-line">        &quot;      &lt;td&gt; 2010&lt;/td&gt;\n&quot;,</td>
      </tr>
      <tr>
        <td id="L601" class="blob-num js-line-number" data-line-number="601"></td>
        <td id="LC601" class="blob-code js-file-line">        &quot;      &lt;td&gt; 24285714&lt;/td&gt;\n&quot;,</td>
      </tr>
      <tr>
        <td id="L602" class="blob-num js-line-number" data-line-number="602"></td>
        <td id="LC602" class="blob-code js-file-line">        &quot;      &lt;td&gt;       Pitcher&lt;/td&gt;\n&quot;,</td>
      </tr>
      <tr>
        <td id="L603" class="blob-num js-line-number" data-line-number="603"></td>
        <td id="LC603" class="blob-code js-file-line">        &quot;      &lt;td&gt;      New York Yankees&lt;/td&gt;\n&quot;,</td>
      </tr>
      <tr>
        <td id="L604" class="blob-num js-line-number" data-line-number="604"></td>
        <td id="LC604" class="blob-code js-file-line">        &quot;    &lt;/tr&gt;\n&quot;,</td>
      </tr>
      <tr>
        <td id="L605" class="blob-num js-line-number" data-line-number="605"></td>
        <td id="LC605" class="blob-code js-file-line">        &quot;    &lt;tr&gt;\n&quot;,</td>
      </tr>
      <tr>
        <td id="L606" class="blob-num js-line-number" data-line-number="606"></td>
        <td id="LC606" class="blob-code js-file-line">        &quot;      &lt;th&gt;Derek Jeter&lt;/th&gt;\n&quot;,</td>
      </tr>
      <tr>
        <td id="L607" class="blob-num js-line-number" data-line-number="607"></td>
        <td id="LC607" class="blob-code js-file-line">        &quot;      &lt;td&gt; 2010&lt;/td&gt;\n&quot;,</td>
      </tr>
      <tr>
        <td id="L608" class="blob-num js-line-number" data-line-number="608"></td>
        <td id="LC608" class="blob-code js-file-line">        &quot;      &lt;td&gt; 22600000&lt;/td&gt;\n&quot;,</td>
      </tr>
      <tr>
        <td id="L609" class="blob-num js-line-number" data-line-number="609"></td>
        <td id="LC609" class="blob-code js-file-line">        &quot;      &lt;td&gt;     Shortstop&lt;/td&gt;\n&quot;,</td>
      </tr>
      <tr>
        <td id="L610" class="blob-num js-line-number" data-line-number="610"></td>
        <td id="LC610" class="blob-code js-file-line">        &quot;      &lt;td&gt;      New York Yankees&lt;/td&gt;\n&quot;,</td>
      </tr>
      <tr>
        <td id="L611" class="blob-num js-line-number" data-line-number="611"></td>
        <td id="LC611" class="blob-code js-file-line">        &quot;    &lt;/tr&gt;\n&quot;,</td>
      </tr>
      <tr>
        <td id="L612" class="blob-num js-line-number" data-line-number="612"></td>
        <td id="LC612" class="blob-code js-file-line">        &quot;    &lt;tr&gt;\n&quot;,</td>
      </tr>
      <tr>
        <td id="L613" class="blob-num js-line-number" data-line-number="613"></td>
        <td id="LC613" class="blob-code js-file-line">        &quot;      &lt;th&gt;Mark Teixeira&lt;/th&gt;\n&quot;,</td>
      </tr>
      <tr>
        <td id="L614" class="blob-num js-line-number" data-line-number="614"></td>
        <td id="LC614" class="blob-code js-file-line">        &quot;      &lt;td&gt; 2010&lt;/td&gt;\n&quot;,</td>
      </tr>
      <tr>
        <td id="L615" class="blob-num js-line-number" data-line-number="615"></td>
        <td id="LC615" class="blob-code js-file-line">        &quot;      &lt;td&gt; 20625000&lt;/td&gt;\n&quot;,</td>
      </tr>
      <tr>
        <td id="L616" class="blob-num js-line-number" data-line-number="616"></td>
        <td id="LC616" class="blob-code js-file-line">        &quot;      &lt;td&gt; First Baseman&lt;/td&gt;\n&quot;,</td>
      </tr>
      <tr>
        <td id="L617" class="blob-num js-line-number" data-line-number="617"></td>
        <td id="LC617" class="blob-code js-file-line">        &quot;      &lt;td&gt;      New York Yankees&lt;/td&gt;\n&quot;,</td>
      </tr>
      <tr>
        <td id="L618" class="blob-num js-line-number" data-line-number="618"></td>
        <td id="LC618" class="blob-code js-file-line">        &quot;    &lt;/tr&gt;\n&quot;,</td>
      </tr>
      <tr>
        <td id="L619" class="blob-num js-line-number" data-line-number="619"></td>
        <td id="LC619" class="blob-code js-file-line">        &quot;    &lt;tr&gt;\n&quot;,</td>
      </tr>
      <tr>
        <td id="L620" class="blob-num js-line-number" data-line-number="620"></td>
        <td id="LC620" class="blob-code js-file-line">        &quot;      &lt;th&gt;Johan Santana&lt;/th&gt;\n&quot;,</td>
      </tr>
      <tr>
        <td id="L621" class="blob-num js-line-number" data-line-number="621"></td>
        <td id="LC621" class="blob-code js-file-line">        &quot;      &lt;td&gt; 2010&lt;/td&gt;\n&quot;,</td>
      </tr>
      <tr>
        <td id="L622" class="blob-num js-line-number" data-line-number="622"></td>
        <td id="LC622" class="blob-code js-file-line">        &quot;      &lt;td&gt; 20144707&lt;/td&gt;\n&quot;,</td>
      </tr>
      <tr>
        <td id="L623" class="blob-num js-line-number" data-line-number="623"></td>
        <td id="LC623" class="blob-code js-file-line">        &quot;      &lt;td&gt;       Pitcher&lt;/td&gt;\n&quot;,</td>
      </tr>
      <tr>
        <td id="L624" class="blob-num js-line-number" data-line-number="624"></td>
        <td id="LC624" class="blob-code js-file-line">        &quot;      &lt;td&gt;         New York Mets&lt;/td&gt;\n&quot;,</td>
      </tr>
      <tr>
        <td id="L625" class="blob-num js-line-number" data-line-number="625"></td>
        <td id="LC625" class="blob-code js-file-line">        &quot;    &lt;/tr&gt;\n&quot;,</td>
      </tr>
      <tr>
        <td id="L626" class="blob-num js-line-number" data-line-number="626"></td>
        <td id="LC626" class="blob-code js-file-line">        &quot;    &lt;tr&gt;\n&quot;,</td>
      </tr>
      <tr>
        <td id="L627" class="blob-num js-line-number" data-line-number="627"></td>
        <td id="LC627" class="blob-code js-file-line">        &quot;      &lt;th&gt;Miguel Cabrera&lt;/th&gt;\n&quot;,</td>
      </tr>
      <tr>
        <td id="L628" class="blob-num js-line-number" data-line-number="628"></td>
        <td id="LC628" class="blob-code js-file-line">        &quot;      &lt;td&gt; 2010&lt;/td&gt;\n&quot;,</td>
      </tr>
      <tr>
        <td id="L629" class="blob-num js-line-number" data-line-number="629"></td>
        <td id="LC629" class="blob-code js-file-line">        &quot;      &lt;td&gt; 20000000&lt;/td&gt;\n&quot;,</td>
      </tr>
      <tr>
        <td id="L630" class="blob-num js-line-number" data-line-number="630"></td>
        <td id="LC630" class="blob-code js-file-line">        &quot;      &lt;td&gt; First Baseman&lt;/td&gt;\n&quot;,</td>
      </tr>
      <tr>
        <td id="L631" class="blob-num js-line-number" data-line-number="631"></td>
        <td id="LC631" class="blob-code js-file-line">        &quot;      &lt;td&gt;        Detroit Tigers&lt;/td&gt;\n&quot;,</td>
      </tr>
      <tr>
        <td id="L632" class="blob-num js-line-number" data-line-number="632"></td>
        <td id="LC632" class="blob-code js-file-line">        &quot;    &lt;/tr&gt;\n&quot;,</td>
      </tr>
      <tr>
        <td id="L633" class="blob-num js-line-number" data-line-number="633"></td>
        <td id="LC633" class="blob-code js-file-line">        &quot;    &lt;tr&gt;\n&quot;,</td>
      </tr>
      <tr>
        <td id="L634" class="blob-num js-line-number" data-line-number="634"></td>
        <td id="LC634" class="blob-code js-file-line">        &quot;      &lt;th&gt;Carlos Beltran&lt;/th&gt;\n&quot;,</td>
      </tr>
      <tr>
        <td id="L635" class="blob-num js-line-number" data-line-number="635"></td>
        <td id="LC635" class="blob-code js-file-line">        &quot;      &lt;td&gt; 2010&lt;/td&gt;\n&quot;,</td>
      </tr>
      <tr>
        <td id="L636" class="blob-num js-line-number" data-line-number="636"></td>
        <td id="LC636" class="blob-code js-file-line">        &quot;      &lt;td&gt; 19401569&lt;/td&gt;\n&quot;,</td>
      </tr>
      <tr>
        <td id="L637" class="blob-num js-line-number" data-line-number="637"></td>
        <td id="LC637" class="blob-code js-file-line">        &quot;      &lt;td&gt;    Outfielder&lt;/td&gt;\n&quot;,</td>
      </tr>
      <tr>
        <td id="L638" class="blob-num js-line-number" data-line-number="638"></td>
        <td id="LC638" class="blob-code js-file-line">        &quot;      &lt;td&gt;         New York Mets&lt;/td&gt;\n&quot;,</td>
      </tr>
      <tr>
        <td id="L639" class="blob-num js-line-number" data-line-number="639"></td>
        <td id="LC639" class="blob-code js-file-line">        &quot;    &lt;/tr&gt;\n&quot;,</td>
      </tr>
      <tr>
        <td id="L640" class="blob-num js-line-number" data-line-number="640"></td>
        <td id="LC640" class="blob-code js-file-line">        &quot;    &lt;tr&gt;\n&quot;,</td>
      </tr>
      <tr>
        <td id="L641" class="blob-num js-line-number" data-line-number="641"></td>
        <td id="LC641" class="blob-code js-file-line">        &quot;      &lt;th&gt;Carlos Lee&lt;/th&gt;\n&quot;,</td>
      </tr>
      <tr>
        <td id="L642" class="blob-num js-line-number" data-line-number="642"></td>
        <td id="LC642" class="blob-code js-file-line">        &quot;      &lt;td&gt; 2010&lt;/td&gt;\n&quot;,</td>
      </tr>
      <tr>
        <td id="L643" class="blob-num js-line-number" data-line-number="643"></td>
        <td id="LC643" class="blob-code js-file-line">        &quot;      &lt;td&gt; 19000000&lt;/td&gt;\n&quot;,</td>
      </tr>
      <tr>
        <td id="L644" class="blob-num js-line-number" data-line-number="644"></td>
        <td id="LC644" class="blob-code js-file-line">        &quot;      &lt;td&gt;    Outfielder&lt;/td&gt;\n&quot;,</td>
      </tr>
      <tr>
        <td id="L645" class="blob-num js-line-number" data-line-number="645"></td>
        <td id="LC645" class="blob-code js-file-line">        &quot;      &lt;td&gt;        Houston Astros&lt;/td&gt;\n&quot;,</td>
      </tr>
      <tr>
        <td id="L646" class="blob-num js-line-number" data-line-number="646"></td>
        <td id="LC646" class="blob-code js-file-line">        &quot;    &lt;/tr&gt;\n&quot;,</td>
      </tr>
      <tr>
        <td id="L647" class="blob-num js-line-number" data-line-number="647"></td>
        <td id="LC647" class="blob-code js-file-line">        &quot;    &lt;tr&gt;\n&quot;,</td>
      </tr>
      <tr>
        <td id="L648" class="blob-num js-line-number" data-line-number="648"></td>
        <td id="LC648" class="blob-code js-file-line">        &quot;      &lt;th&gt;Ryan Howard&lt;/th&gt;\n&quot;,</td>
      </tr>
      <tr>
        <td id="L649" class="blob-num js-line-number" data-line-number="649"></td>
        <td id="LC649" class="blob-code js-file-line">        &quot;      &lt;td&gt; 2010&lt;/td&gt;\n&quot;,</td>
      </tr>
      <tr>
        <td id="L650" class="blob-num js-line-number" data-line-number="650"></td>
        <td id="LC650" class="blob-code js-file-line">        &quot;      &lt;td&gt; 19000000&lt;/td&gt;\n&quot;,</td>
      </tr>
      <tr>
        <td id="L651" class="blob-num js-line-number" data-line-number="651"></td>
        <td id="LC651" class="blob-code js-file-line">        &quot;      &lt;td&gt; First Baseman&lt;/td&gt;\n&quot;,</td>
      </tr>
      <tr>
        <td id="L652" class="blob-num js-line-number" data-line-number="652"></td>
        <td id="LC652" class="blob-code js-file-line">        &quot;      &lt;td&gt; Philadelphia Phillies&lt;/td&gt;\n&quot;,</td>
      </tr>
      <tr>
        <td id="L653" class="blob-num js-line-number" data-line-number="653"></td>
        <td id="LC653" class="blob-code js-file-line">        &quot;    &lt;/tr&gt;\n&quot;,</td>
      </tr>
      <tr>
        <td id="L654" class="blob-num js-line-number" data-line-number="654"></td>
        <td id="LC654" class="blob-code js-file-line">        &quot;    &lt;tr&gt;\n&quot;,</td>
      </tr>
      <tr>
        <td id="L655" class="blob-num js-line-number" data-line-number="655"></td>
        <td id="LC655" class="blob-code js-file-line">        &quot;      &lt;th&gt;Alfonso Soriano&lt;/th&gt;\n&quot;,</td>
      </tr>
      <tr>
        <td id="L656" class="blob-num js-line-number" data-line-number="656"></td>
        <td id="LC656" class="blob-code js-file-line">        &quot;      &lt;td&gt; 2010&lt;/td&gt;\n&quot;,</td>
      </tr>
      <tr>
        <td id="L657" class="blob-num js-line-number" data-line-number="657"></td>
        <td id="LC657" class="blob-code js-file-line">        &quot;      &lt;td&gt; 19000000&lt;/td&gt;\n&quot;,</td>
      </tr>
      <tr>
        <td id="L658" class="blob-num js-line-number" data-line-number="658"></td>
        <td id="LC658" class="blob-code js-file-line">        &quot;      &lt;td&gt;    Outfielder&lt;/td&gt;\n&quot;,</td>
      </tr>
      <tr>
        <td id="L659" class="blob-num js-line-number" data-line-number="659"></td>
        <td id="LC659" class="blob-code js-file-line">        &quot;      &lt;td&gt;          Chicago Cubs&lt;/td&gt;\n&quot;,</td>
      </tr>
      <tr>
        <td id="L660" class="blob-num js-line-number" data-line-number="660"></td>
        <td id="LC660" class="blob-code js-file-line">        &quot;    &lt;/tr&gt;\n&quot;,</td>
      </tr>
      <tr>
        <td id="L661" class="blob-num js-line-number" data-line-number="661"></td>
        <td id="LC661" class="blob-code js-file-line">        &quot;    &lt;tr&gt;\n&quot;,</td>
      </tr>
      <tr>
        <td id="L662" class="blob-num js-line-number" data-line-number="662"></td>
        <td id="LC662" class="blob-code js-file-line">        &quot;      &lt;th&gt;Carlos Zambrano&lt;/th&gt;\n&quot;,</td>
      </tr>
      <tr>
        <td id="L663" class="blob-num js-line-number" data-line-number="663"></td>
        <td id="LC663" class="blob-code js-file-line">        &quot;      &lt;td&gt; 2010&lt;/td&gt;\n&quot;,</td>
      </tr>
      <tr>
        <td id="L664" class="blob-num js-line-number" data-line-number="664"></td>
        <td id="LC664" class="blob-code js-file-line">        &quot;      &lt;td&gt; 18875000&lt;/td&gt;\n&quot;,</td>
      </tr>
      <tr>
        <td id="L665" class="blob-num js-line-number" data-line-number="665"></td>
        <td id="LC665" class="blob-code js-file-line">        &quot;      &lt;td&gt;       Pitcher&lt;/td&gt;\n&quot;,</td>
      </tr>
      <tr>
        <td id="L666" class="blob-num js-line-number" data-line-number="666"></td>
        <td id="LC666" class="blob-code js-file-line">        &quot;      &lt;td&gt;          Chicago Cubs&lt;/td&gt;\n&quot;,</td>
      </tr>
      <tr>
        <td id="L667" class="blob-num js-line-number" data-line-number="667"></td>
        <td id="LC667" class="blob-code js-file-line">        &quot;    &lt;/tr&gt;\n&quot;,</td>
      </tr>
      <tr>
        <td id="L668" class="blob-num js-line-number" data-line-number="668"></td>
        <td id="LC668" class="blob-code js-file-line">        &quot;    &lt;tr&gt;\n&quot;,</td>
      </tr>
      <tr>
        <td id="L669" class="blob-num js-line-number" data-line-number="669"></td>
        <td id="LC669" class="blob-code js-file-line">        &quot;      &lt;th&gt;John Lackey&lt;/th&gt;\n&quot;,</td>
      </tr>
      <tr>
        <td id="L670" class="blob-num js-line-number" data-line-number="670"></td>
        <td id="LC670" class="blob-code js-file-line">        &quot;      &lt;td&gt; 2010&lt;/td&gt;\n&quot;,</td>
      </tr>
      <tr>
        <td id="L671" class="blob-num js-line-number" data-line-number="671"></td>
        <td id="LC671" class="blob-code js-file-line">        &quot;      &lt;td&gt; 18700000&lt;/td&gt;\n&quot;,</td>
      </tr>
      <tr>
        <td id="L672" class="blob-num js-line-number" data-line-number="672"></td>
        <td id="LC672" class="blob-code js-file-line">        &quot;      &lt;td&gt;       Pitcher&lt;/td&gt;\n&quot;,</td>
      </tr>
      <tr>
        <td id="L673" class="blob-num js-line-number" data-line-number="673"></td>
        <td id="LC673" class="blob-code js-file-line">        &quot;      &lt;td&gt;        Boston Red Sox&lt;/td&gt;\n&quot;,</td>
      </tr>
      <tr>
        <td id="L674" class="blob-num js-line-number" data-line-number="674"></td>
        <td id="LC674" class="blob-code js-file-line">        &quot;    &lt;/tr&gt;\n&quot;,</td>
      </tr>
      <tr>
        <td id="L675" class="blob-num js-line-number" data-line-number="675"></td>
        <td id="LC675" class="blob-code js-file-line">        &quot;    &lt;tr&gt;\n&quot;,</td>
      </tr>
      <tr>
        <td id="L676" class="blob-num js-line-number" data-line-number="676"></td>
        <td id="LC676" class="blob-code js-file-line">        &quot;      &lt;th&gt;Manny Ramirez&lt;/th&gt;\n&quot;,</td>
      </tr>
      <tr>
        <td id="L677" class="blob-num js-line-number" data-line-number="677"></td>
        <td id="LC677" class="blob-code js-file-line">        &quot;      &lt;td&gt; 2010&lt;/td&gt;\n&quot;,</td>
      </tr>
      <tr>
        <td id="L678" class="blob-num js-line-number" data-line-number="678"></td>
        <td id="LC678" class="blob-code js-file-line">        &quot;      &lt;td&gt; 18695006&lt;/td&gt;\n&quot;,</td>
      </tr>
      <tr>
        <td id="L679" class="blob-num js-line-number" data-line-number="679"></td>
        <td id="LC679" class="blob-code js-file-line">        &quot;      &lt;td&gt;    Outfielder&lt;/td&gt;\n&quot;,</td>
      </tr>
      <tr>
        <td id="L680" class="blob-num js-line-number" data-line-number="680"></td>
        <td id="LC680" class="blob-code js-file-line">        &quot;      &lt;td&gt;   Los Angeles Dodgers&lt;/td&gt;\n&quot;,</td>
      </tr>
      <tr>
        <td id="L681" class="blob-num js-line-number" data-line-number="681"></td>
        <td id="LC681" class="blob-code js-file-line">        &quot;    &lt;/tr&gt;\n&quot;,</td>
      </tr>
      <tr>
        <td id="L682" class="blob-num js-line-number" data-line-number="682"></td>
        <td id="LC682" class="blob-code js-file-line">        &quot;    &lt;tr&gt;\n&quot;,</td>
      </tr>
      <tr>
        <td id="L683" class="blob-num js-line-number" data-line-number="683"></td>
        <td id="LC683" class="blob-code js-file-line">        &quot;      &lt;th&gt;Torii Hunter&lt;/th&gt;\n&quot;,</td>
      </tr>
      <tr>
        <td id="L684" class="blob-num js-line-number" data-line-number="684"></td>
        <td id="LC684" class="blob-code js-file-line">        &quot;      &lt;td&gt; 2010&lt;/td&gt;\n&quot;,</td>
      </tr>
      <tr>
        <td id="L685" class="blob-num js-line-number" data-line-number="685"></td>
        <td id="LC685" class="blob-code js-file-line">        &quot;      &lt;td&gt; 18500000&lt;/td&gt;\n&quot;,</td>
      </tr>
      <tr>
        <td id="L686" class="blob-num js-line-number" data-line-number="686"></td>
        <td id="LC686" class="blob-code js-file-line">        &quot;      &lt;td&gt;    Outfielder&lt;/td&gt;\n&quot;,</td>
      </tr>
      <tr>
        <td id="L687" class="blob-num js-line-number" data-line-number="687"></td>
        <td id="LC687" class="blob-code js-file-line">        &quot;      &lt;td&gt;    Los Angeles Angels&lt;/td&gt;\n&quot;,</td>
      </tr>
      <tr>
        <td id="L688" class="blob-num js-line-number" data-line-number="688"></td>
        <td id="LC688" class="blob-code js-file-line">        &quot;    &lt;/tr&gt;\n&quot;,</td>
      </tr>
      <tr>
        <td id="L689" class="blob-num js-line-number" data-line-number="689"></td>
        <td id="LC689" class="blob-code js-file-line">        &quot;    &lt;tr&gt;\n&quot;,</td>
      </tr>
      <tr>
        <td id="L690" class="blob-num js-line-number" data-line-number="690"></td>
        <td id="LC690" class="blob-code js-file-line">        &quot;      &lt;th&gt;Barry Zito&lt;/th&gt;\n&quot;,</td>
      </tr>
      <tr>
        <td id="L691" class="blob-num js-line-number" data-line-number="691"></td>
        <td id="LC691" class="blob-code js-file-line">        &quot;      &lt;td&gt; 2010&lt;/td&gt;\n&quot;,</td>
      </tr>
      <tr>
        <td id="L692" class="blob-num js-line-number" data-line-number="692"></td>
        <td id="LC692" class="blob-code js-file-line">        &quot;      &lt;td&gt; 18500000&lt;/td&gt;\n&quot;,</td>
      </tr>
      <tr>
        <td id="L693" class="blob-num js-line-number" data-line-number="693"></td>
        <td id="LC693" class="blob-code js-file-line">        &quot;      &lt;td&gt;       Pitcher&lt;/td&gt;\n&quot;,</td>
      </tr>
      <tr>
        <td id="L694" class="blob-num js-line-number" data-line-number="694"></td>
        <td id="LC694" class="blob-code js-file-line">        &quot;      &lt;td&gt;  San Francisco Giants&lt;/td&gt;\n&quot;,</td>
      </tr>
      <tr>
        <td id="L695" class="blob-num js-line-number" data-line-number="695"></td>
        <td id="LC695" class="blob-code js-file-line">        &quot;    &lt;/tr&gt;\n&quot;,</td>
      </tr>
      <tr>
        <td id="L696" class="blob-num js-line-number" data-line-number="696"></td>
        <td id="LC696" class="blob-code js-file-line">        &quot;    &lt;tr&gt;\n&quot;,</td>
      </tr>
      <tr>
        <td id="L697" class="blob-num js-line-number" data-line-number="697"></td>
        <td id="LC697" class="blob-code js-file-line">        &quot;      &lt;th&gt;Ichiro Suzuki&lt;/th&gt;\n&quot;,</td>
      </tr>
      <tr>
        <td id="L698" class="blob-num js-line-number" data-line-number="698"></td>
        <td id="LC698" class="blob-code js-file-line">        &quot;      &lt;td&gt; 2010&lt;/td&gt;\n&quot;,</td>
      </tr>
      <tr>
        <td id="L699" class="blob-num js-line-number" data-line-number="699"></td>
        <td id="LC699" class="blob-code js-file-line">        &quot;      &lt;td&gt; 18000000&lt;/td&gt;\n&quot;,</td>
      </tr>
      <tr>
        <td id="L700" class="blob-num js-line-number" data-line-number="700"></td>
        <td id="LC700" class="blob-code js-file-line">        &quot;      &lt;td&gt;    Outfielder&lt;/td&gt;\n&quot;,</td>
      </tr>
      <tr>
        <td id="L701" class="blob-num js-line-number" data-line-number="701"></td>
        <td id="LC701" class="blob-code js-file-line">        &quot;      &lt;td&gt;      Seattle Mariners&lt;/td&gt;\n&quot;,</td>
      </tr>
      <tr>
        <td id="L702" class="blob-num js-line-number" data-line-number="702"></td>
        <td id="LC702" class="blob-code js-file-line">        &quot;    &lt;/tr&gt;\n&quot;,</td>
      </tr>
      <tr>
        <td id="L703" class="blob-num js-line-number" data-line-number="703"></td>
        <td id="LC703" class="blob-code js-file-line">        &quot;    &lt;tr&gt;\n&quot;,</td>
      </tr>
      <tr>
        <td id="L704" class="blob-num js-line-number" data-line-number="704"></td>
        <td id="LC704" class="blob-code js-file-line">        &quot;      &lt;th&gt;Magglio Ordonez&lt;/th&gt;\n&quot;,</td>
      </tr>
      <tr>
        <td id="L705" class="blob-num js-line-number" data-line-number="705"></td>
        <td id="LC705" class="blob-code js-file-line">        &quot;      &lt;td&gt; 2010&lt;/td&gt;\n&quot;,</td>
      </tr>
      <tr>
        <td id="L706" class="blob-num js-line-number" data-line-number="706"></td>
        <td id="LC706" class="blob-code js-file-line">        &quot;      &lt;td&gt; 17825976&lt;/td&gt;\n&quot;,</td>
      </tr>
      <tr>
        <td id="L707" class="blob-num js-line-number" data-line-number="707"></td>
        <td id="LC707" class="blob-code js-file-line">        &quot;      &lt;td&gt;    Outfielder&lt;/td&gt;\n&quot;,</td>
      </tr>
      <tr>
        <td id="L708" class="blob-num js-line-number" data-line-number="708"></td>
        <td id="LC708" class="blob-code js-file-line">        &quot;      &lt;td&gt;        Detroit Tigers&lt;/td&gt;\n&quot;,</td>
      </tr>
      <tr>
        <td id="L709" class="blob-num js-line-number" data-line-number="709"></td>
        <td id="LC709" class="blob-code js-file-line">        &quot;    &lt;/tr&gt;\n&quot;,</td>
      </tr>
      <tr>
        <td id="L710" class="blob-num js-line-number" data-line-number="710"></td>
        <td id="LC710" class="blob-code js-file-line">        &quot;    &lt;tr&gt;\n&quot;,</td>
      </tr>
      <tr>
        <td id="L711" class="blob-num js-line-number" data-line-number="711"></td>
        <td id="LC711" class="blob-code js-file-line">        &quot;      &lt;th&gt;Todd Helton&lt;/th&gt;\n&quot;,</td>
      </tr>
      <tr>
        <td id="L712" class="blob-num js-line-number" data-line-number="712"></td>
        <td id="LC712" class="blob-code js-file-line">        &quot;      &lt;td&gt; 2010&lt;/td&gt;\n&quot;,</td>
      </tr>
      <tr>
        <td id="L713" class="blob-num js-line-number" data-line-number="713"></td>
        <td id="LC713" class="blob-code js-file-line">        &quot;      &lt;td&gt; 17775000&lt;/td&gt;\n&quot;,</td>
      </tr>
      <tr>
        <td id="L714" class="blob-num js-line-number" data-line-number="714"></td>
        <td id="LC714" class="blob-code js-file-line">        &quot;      &lt;td&gt; First Baseman&lt;/td&gt;\n&quot;,</td>
      </tr>
      <tr>
        <td id="L715" class="blob-num js-line-number" data-line-number="715"></td>
        <td id="LC715" class="blob-code js-file-line">        &quot;      &lt;td&gt;      Colorado Rockies&lt;/td&gt;\n&quot;,</td>
      </tr>
      <tr>
        <td id="L716" class="blob-num js-line-number" data-line-number="716"></td>
        <td id="LC716" class="blob-code js-file-line">        &quot;    &lt;/tr&gt;\n&quot;,</td>
      </tr>
      <tr>
        <td id="L717" class="blob-num js-line-number" data-line-number="717"></td>
        <td id="LC717" class="blob-code js-file-line">        &quot;    &lt;tr&gt;\n&quot;,</td>
      </tr>
      <tr>
        <td id="L718" class="blob-num js-line-number" data-line-number="718"></td>
        <td id="LC718" class="blob-code js-file-line">        &quot;      &lt;th&gt;Aramis Ramirez&lt;/th&gt;\n&quot;,</td>
      </tr>
      <tr>
        <td id="L719" class="blob-num js-line-number" data-line-number="719"></td>
        <td id="LC719" class="blob-code js-file-line">        &quot;      &lt;td&gt; 2010&lt;/td&gt;\n&quot;,</td>
      </tr>
      <tr>
        <td id="L720" class="blob-num js-line-number" data-line-number="720"></td>
        <td id="LC720" class="blob-code js-file-line">        &quot;      &lt;td&gt; 16750000&lt;/td&gt;\n&quot;,</td>
      </tr>
      <tr>
        <td id="L721" class="blob-num js-line-number" data-line-number="721"></td>
        <td id="LC721" class="blob-code js-file-line">        &quot;      &lt;td&gt; Third Baseman&lt;/td&gt;\n&quot;,</td>
      </tr>
      <tr>
        <td id="L722" class="blob-num js-line-number" data-line-number="722"></td>
        <td id="LC722" class="blob-code js-file-line">        &quot;      &lt;td&gt;          Chicago Cubs&lt;/td&gt;\n&quot;,</td>
      </tr>
      <tr>
        <td id="L723" class="blob-num js-line-number" data-line-number="723"></td>
        <td id="LC723" class="blob-code js-file-line">        &quot;    &lt;/tr&gt;\n&quot;,</td>
      </tr>
      <tr>
        <td id="L724" class="blob-num js-line-number" data-line-number="724"></td>
        <td id="LC724" class="blob-code js-file-line">        &quot;    &lt;tr&gt;\n&quot;,</td>
      </tr>
      <tr>
        <td id="L725" class="blob-num js-line-number" data-line-number="725"></td>
        <td id="LC725" class="blob-code js-file-line">        &quot;      &lt;th&gt;A.J. Burnett&lt;/th&gt;\n&quot;,</td>
      </tr>
      <tr>
        <td id="L726" class="blob-num js-line-number" data-line-number="726"></td>
        <td id="LC726" class="blob-code js-file-line">        &quot;      &lt;td&gt; 2010&lt;/td&gt;\n&quot;,</td>
      </tr>
      <tr>
        <td id="L727" class="blob-num js-line-number" data-line-number="727"></td>
        <td id="LC727" class="blob-code js-file-line">        &quot;      &lt;td&gt; 16500000&lt;/td&gt;\n&quot;,</td>
      </tr>
      <tr>
        <td id="L728" class="blob-num js-line-number" data-line-number="728"></td>
        <td id="LC728" class="blob-code js-file-line">        &quot;      &lt;td&gt;       Pitcher&lt;/td&gt;\n&quot;,</td>
      </tr>
      <tr>
        <td id="L729" class="blob-num js-line-number" data-line-number="729"></td>
        <td id="LC729" class="blob-code js-file-line">        &quot;      &lt;td&gt;      New York Yankees&lt;/td&gt;\n&quot;,</td>
      </tr>
      <tr>
        <td id="L730" class="blob-num js-line-number" data-line-number="730"></td>
        <td id="LC730" class="blob-code js-file-line">        &quot;    &lt;/tr&gt;\n&quot;,</td>
      </tr>
      <tr>
        <td id="L731" class="blob-num js-line-number" data-line-number="731"></td>
        <td id="LC731" class="blob-code js-file-line">        &quot;  &lt;/tbody&gt;\n&quot;,</td>
      </tr>
      <tr>
        <td id="L732" class="blob-num js-line-number" data-line-number="732"></td>
        <td id="LC732" class="blob-code js-file-line">        &quot;&lt;/table&gt;\n&quot;,</td>
      </tr>
      <tr>
        <td id="L733" class="blob-num js-line-number" data-line-number="733"></td>
        <td id="LC733" class="blob-code js-file-line">        &quot;&lt;/div&gt;&quot;</td>
      </tr>
      <tr>
        <td id="L734" class="blob-num js-line-number" data-line-number="734"></td>
        <td id="LC734" class="blob-code js-file-line">       ],</td>
      </tr>
      <tr>
        <td id="L735" class="blob-num js-line-number" data-line-number="735"></td>
        <td id="LC735" class="blob-code js-file-line">       &quot;metadata&quot;: {},</td>
      </tr>
      <tr>
        <td id="L736" class="blob-num js-line-number" data-line-number="736"></td>
        <td id="LC736" class="blob-code js-file-line">       &quot;output_type&quot;: &quot;pyout&quot;,</td>
      </tr>
      <tr>
        <td id="L737" class="blob-num js-line-number" data-line-number="737"></td>
        <td id="LC737" class="blob-code js-file-line">       &quot;prompt_number&quot;: 48,</td>
      </tr>
      <tr>
        <td id="L738" class="blob-num js-line-number" data-line-number="738"></td>
        <td id="LC738" class="blob-code js-file-line">       &quot;text&quot;: [</td>
      </tr>
      <tr>
        <td id="L739" class="blob-num js-line-number" data-line-number="739"></td>
        <td id="LC739" class="blob-code js-file-line">        &quot;                 Year    Salary       Position                   Team\n&quot;,</td>
      </tr>
      <tr>
        <td id="L740" class="blob-num js-line-number" data-line-number="740"></td>
        <td id="LC740" class="blob-code js-file-line">        &quot;Player                                                               \n&quot;,</td>
      </tr>
      <tr>
        <td id="L741" class="blob-num js-line-number" data-line-number="741"></td>
        <td id="LC741" class="blob-code js-file-line">        &quot;Alex Rodriguez   2010  33000000  Third Baseman       New York Yankees\n&quot;,</td>
      </tr>
      <tr>
        <td id="L742" class="blob-num js-line-number" data-line-number="742"></td>
        <td id="LC742" class="blob-code js-file-line">        &quot;CC Sabathia      2010  24285714        Pitcher       New York Yankees\n&quot;,</td>
      </tr>
      <tr>
        <td id="L743" class="blob-num js-line-number" data-line-number="743"></td>
        <td id="LC743" class="blob-code js-file-line">        &quot;Derek Jeter      2010  22600000      Shortstop       New York Yankees\n&quot;,</td>
      </tr>
      <tr>
        <td id="L744" class="blob-num js-line-number" data-line-number="744"></td>
        <td id="LC744" class="blob-code js-file-line">        &quot;Mark Teixeira    2010  20625000  First Baseman       New York Yankees\n&quot;,</td>
      </tr>
      <tr>
        <td id="L745" class="blob-num js-line-number" data-line-number="745"></td>
        <td id="LC745" class="blob-code js-file-line">        &quot;Johan Santana    2010  20144707        Pitcher          New York Mets\n&quot;,</td>
      </tr>
      <tr>
        <td id="L746" class="blob-num js-line-number" data-line-number="746"></td>
        <td id="LC746" class="blob-code js-file-line">        &quot;Miguel Cabrera   2010  20000000  First Baseman         Detroit Tigers\n&quot;,</td>
      </tr>
      <tr>
        <td id="L747" class="blob-num js-line-number" data-line-number="747"></td>
        <td id="LC747" class="blob-code js-file-line">        &quot;Carlos Beltran   2010  19401569     Outfielder          New York Mets\n&quot;,</td>
      </tr>
      <tr>
        <td id="L748" class="blob-num js-line-number" data-line-number="748"></td>
        <td id="LC748" class="blob-code js-file-line">        &quot;Carlos Lee       2010  19000000     Outfielder         Houston Astros\n&quot;,</td>
      </tr>
      <tr>
        <td id="L749" class="blob-num js-line-number" data-line-number="749"></td>
        <td id="LC749" class="blob-code js-file-line">        &quot;Ryan Howard      2010  19000000  First Baseman  Philadelphia Phillies\n&quot;,</td>
      </tr>
      <tr>
        <td id="L750" class="blob-num js-line-number" data-line-number="750"></td>
        <td id="LC750" class="blob-code js-file-line">        &quot;Alfonso Soriano  2010  19000000     Outfielder           Chicago Cubs\n&quot;,</td>
      </tr>
      <tr>
        <td id="L751" class="blob-num js-line-number" data-line-number="751"></td>
        <td id="LC751" class="blob-code js-file-line">        &quot;Carlos Zambrano  2010  18875000        Pitcher           Chicago Cubs\n&quot;,</td>
      </tr>
      <tr>
        <td id="L752" class="blob-num js-line-number" data-line-number="752"></td>
        <td id="LC752" class="blob-code js-file-line">        &quot;John Lackey      2010  18700000        Pitcher         Boston Red Sox\n&quot;,</td>
      </tr>
      <tr>
        <td id="L753" class="blob-num js-line-number" data-line-number="753"></td>
        <td id="LC753" class="blob-code js-file-line">        &quot;Manny Ramirez    2010  18695006     Outfielder    Los Angeles Dodgers\n&quot;,</td>
      </tr>
      <tr>
        <td id="L754" class="blob-num js-line-number" data-line-number="754"></td>
        <td id="LC754" class="blob-code js-file-line">        &quot;Torii Hunter     2010  18500000     Outfielder     Los Angeles Angels\n&quot;,</td>
      </tr>
      <tr>
        <td id="L755" class="blob-num js-line-number" data-line-number="755"></td>
        <td id="LC755" class="blob-code js-file-line">        &quot;Barry Zito       2010  18500000        Pitcher   San Francisco Giants\n&quot;,</td>
      </tr>
      <tr>
        <td id="L756" class="blob-num js-line-number" data-line-number="756"></td>
        <td id="LC756" class="blob-code js-file-line">        &quot;Ichiro Suzuki    2010  18000000     Outfielder       Seattle Mariners\n&quot;,</td>
      </tr>
      <tr>
        <td id="L757" class="blob-num js-line-number" data-line-number="757"></td>
        <td id="LC757" class="blob-code js-file-line">        &quot;Magglio Ordonez  2010  17825976     Outfielder         Detroit Tigers\n&quot;,</td>
      </tr>
      <tr>
        <td id="L758" class="blob-num js-line-number" data-line-number="758"></td>
        <td id="LC758" class="blob-code js-file-line">        &quot;Todd Helton      2010  17775000  First Baseman       Colorado Rockies\n&quot;,</td>
      </tr>
      <tr>
        <td id="L759" class="blob-num js-line-number" data-line-number="759"></td>
        <td id="LC759" class="blob-code js-file-line">        &quot;Aramis Ramirez   2010  16750000  Third Baseman           Chicago Cubs\n&quot;,</td>
      </tr>
      <tr>
        <td id="L760" class="blob-num js-line-number" data-line-number="760"></td>
        <td id="LC760" class="blob-code js-file-line">        &quot;A.J. Burnett     2010  16500000        Pitcher       New York Yankees&quot;</td>
      </tr>
      <tr>
        <td id="L761" class="blob-num js-line-number" data-line-number="761"></td>
        <td id="LC761" class="blob-code js-file-line">       ]</td>
      </tr>
      <tr>
        <td id="L762" class="blob-num js-line-number" data-line-number="762"></td>
        <td id="LC762" class="blob-code js-file-line">      }</td>
      </tr>
      <tr>
        <td id="L763" class="blob-num js-line-number" data-line-number="763"></td>
        <td id="LC763" class="blob-code js-file-line">     ],</td>
      </tr>
      <tr>
        <td id="L764" class="blob-num js-line-number" data-line-number="764"></td>
        <td id="LC764" class="blob-code js-file-line">     &quot;prompt_number&quot;: 48</td>
      </tr>
      <tr>
        <td id="L765" class="blob-num js-line-number" data-line-number="765"></td>
        <td id="LC765" class="blob-code js-file-line">    },</td>
      </tr>
      <tr>
        <td id="L766" class="blob-num js-line-number" data-line-number="766"></td>
        <td id="LC766" class="blob-code js-file-line">    {</td>
      </tr>
      <tr>
        <td id="L767" class="blob-num js-line-number" data-line-number="767"></td>
        <td id="LC767" class="blob-code js-file-line">     &quot;cell_type&quot;: &quot;code&quot;,</td>
      </tr>
      <tr>
        <td id="L768" class="blob-num js-line-number" data-line-number="768"></td>
        <td id="LC768" class="blob-code js-file-line">     &quot;collapsed&quot;: false,</td>
      </tr>
      <tr>
        <td id="L769" class="blob-num js-line-number" data-line-number="769"></td>
        <td id="LC769" class="blob-code js-file-line">     &quot;input&quot;: [</td>
      </tr>
      <tr>
        <td id="L770" class="blob-num js-line-number" data-line-number="770"></td>
        <td id="LC770" class="blob-code js-file-line">      &quot;yr2010.sort_index(ascending=[False,True], by =[&#39;Salary&#39;, &#39;Team&#39;]).head(20)&quot;</td>
      </tr>
      <tr>
        <td id="L771" class="blob-num js-line-number" data-line-number="771"></td>
        <td id="LC771" class="blob-code js-file-line">     ],</td>
      </tr>
      <tr>
        <td id="L772" class="blob-num js-line-number" data-line-number="772"></td>
        <td id="LC772" class="blob-code js-file-line">     &quot;language&quot;: &quot;python&quot;,</td>
      </tr>
      <tr>
        <td id="L773" class="blob-num js-line-number" data-line-number="773"></td>
        <td id="LC773" class="blob-code js-file-line">     &quot;metadata&quot;: {},</td>
      </tr>
      <tr>
        <td id="L774" class="blob-num js-line-number" data-line-number="774"></td>
        <td id="LC774" class="blob-code js-file-line">     &quot;outputs&quot;: [</td>
      </tr>
      <tr>
        <td id="L775" class="blob-num js-line-number" data-line-number="775"></td>
        <td id="LC775" class="blob-code js-file-line">      {</td>
      </tr>
      <tr>
        <td id="L776" class="blob-num js-line-number" data-line-number="776"></td>
        <td id="LC776" class="blob-code js-file-line">       &quot;html&quot;: [</td>
      </tr>
      <tr>
        <td id="L777" class="blob-num js-line-number" data-line-number="777"></td>
        <td id="LC777" class="blob-code js-file-line">        &quot;&lt;div style=\&quot;max-height:1000px;max-width:1500px;overflow:auto;\&quot;&gt;\n&quot;,</td>
      </tr>
      <tr>
        <td id="L778" class="blob-num js-line-number" data-line-number="778"></td>
        <td id="LC778" class="blob-code js-file-line">        &quot;&lt;table border=\&quot;1\&quot; class=\&quot;dataframe\&quot;&gt;\n&quot;,</td>
      </tr>
      <tr>
        <td id="L779" class="blob-num js-line-number" data-line-number="779"></td>
        <td id="LC779" class="blob-code js-file-line">        &quot;  &lt;thead&gt;\n&quot;,</td>
      </tr>
      <tr>
        <td id="L780" class="blob-num js-line-number" data-line-number="780"></td>
        <td id="LC780" class="blob-code js-file-line">        &quot;    &lt;tr style=\&quot;text-align: right;\&quot;&gt;\n&quot;,</td>
      </tr>
      <tr>
        <td id="L781" class="blob-num js-line-number" data-line-number="781"></td>
        <td id="LC781" class="blob-code js-file-line">        &quot;      &lt;th&gt;&lt;/th&gt;\n&quot;,</td>
      </tr>
      <tr>
        <td id="L782" class="blob-num js-line-number" data-line-number="782"></td>
        <td id="LC782" class="blob-code js-file-line">        &quot;      &lt;th&gt;Year&lt;/th&gt;\n&quot;,</td>
      </tr>
      <tr>
        <td id="L783" class="blob-num js-line-number" data-line-number="783"></td>
        <td id="LC783" class="blob-code js-file-line">        &quot;      &lt;th&gt;Salary&lt;/th&gt;\n&quot;,</td>
      </tr>
      <tr>
        <td id="L784" class="blob-num js-line-number" data-line-number="784"></td>
        <td id="LC784" class="blob-code js-file-line">        &quot;      &lt;th&gt;Position&lt;/th&gt;\n&quot;,</td>
      </tr>
      <tr>
        <td id="L785" class="blob-num js-line-number" data-line-number="785"></td>
        <td id="LC785" class="blob-code js-file-line">        &quot;      &lt;th&gt;Team&lt;/th&gt;\n&quot;,</td>
      </tr>
      <tr>
        <td id="L786" class="blob-num js-line-number" data-line-number="786"></td>
        <td id="LC786" class="blob-code js-file-line">        &quot;    &lt;/tr&gt;\n&quot;,</td>
      </tr>
      <tr>
        <td id="L787" class="blob-num js-line-number" data-line-number="787"></td>
        <td id="LC787" class="blob-code js-file-line">        &quot;    &lt;tr&gt;\n&quot;,</td>
      </tr>
      <tr>
        <td id="L788" class="blob-num js-line-number" data-line-number="788"></td>
        <td id="LC788" class="blob-code js-file-line">        &quot;      &lt;th&gt;Player&lt;/th&gt;\n&quot;,</td>
      </tr>
      <tr>
        <td id="L789" class="blob-num js-line-number" data-line-number="789"></td>
        <td id="LC789" class="blob-code js-file-line">        &quot;      &lt;th&gt;&lt;/th&gt;\n&quot;,</td>
      </tr>
      <tr>
        <td id="L790" class="blob-num js-line-number" data-line-number="790"></td>
        <td id="LC790" class="blob-code js-file-line">        &quot;      &lt;th&gt;&lt;/th&gt;\n&quot;,</td>
      </tr>
      <tr>
        <td id="L791" class="blob-num js-line-number" data-line-number="791"></td>
        <td id="LC791" class="blob-code js-file-line">        &quot;      &lt;th&gt;&lt;/th&gt;\n&quot;,</td>
      </tr>
      <tr>
        <td id="L792" class="blob-num js-line-number" data-line-number="792"></td>
        <td id="LC792" class="blob-code js-file-line">        &quot;      &lt;th&gt;&lt;/th&gt;\n&quot;,</td>
      </tr>
      <tr>
        <td id="L793" class="blob-num js-line-number" data-line-number="793"></td>
        <td id="LC793" class="blob-code js-file-line">        &quot;    &lt;/tr&gt;\n&quot;,</td>
      </tr>
      <tr>
        <td id="L794" class="blob-num js-line-number" data-line-number="794"></td>
        <td id="LC794" class="blob-code js-file-line">        &quot;  &lt;/thead&gt;\n&quot;,</td>
      </tr>
      <tr>
        <td id="L795" class="blob-num js-line-number" data-line-number="795"></td>
        <td id="LC795" class="blob-code js-file-line">        &quot;  &lt;tbody&gt;\n&quot;,</td>
      </tr>
      <tr>
        <td id="L796" class="blob-num js-line-number" data-line-number="796"></td>
        <td id="LC796" class="blob-code js-file-line">        &quot;    &lt;tr&gt;\n&quot;,</td>
      </tr>
      <tr>
        <td id="L797" class="blob-num js-line-number" data-line-number="797"></td>
        <td id="LC797" class="blob-code js-file-line">        &quot;      &lt;th&gt;Alex Rodriguez&lt;/th&gt;\n&quot;,</td>
      </tr>
      <tr>
        <td id="L798" class="blob-num js-line-number" data-line-number="798"></td>
        <td id="LC798" class="blob-code js-file-line">        &quot;      &lt;td&gt; 2010&lt;/td&gt;\n&quot;,</td>
      </tr>
      <tr>
        <td id="L799" class="blob-num js-line-number" data-line-number="799"></td>
        <td id="LC799" class="blob-code js-file-line">        &quot;      &lt;td&gt; 33000000&lt;/td&gt;\n&quot;,</td>
      </tr>
      <tr>
        <td id="L800" class="blob-num js-line-number" data-line-number="800"></td>
        <td id="LC800" class="blob-code js-file-line">        &quot;      &lt;td&gt; Third Baseman&lt;/td&gt;\n&quot;,</td>
      </tr>
      <tr>
        <td id="L801" class="blob-num js-line-number" data-line-number="801"></td>
        <td id="LC801" class="blob-code js-file-line">        &quot;      &lt;td&gt;      New York Yankees&lt;/td&gt;\n&quot;,</td>
      </tr>
      <tr>
        <td id="L802" class="blob-num js-line-number" data-line-number="802"></td>
        <td id="LC802" class="blob-code js-file-line">        &quot;    &lt;/tr&gt;\n&quot;,</td>
      </tr>
      <tr>
        <td id="L803" class="blob-num js-line-number" data-line-number="803"></td>
        <td id="LC803" class="blob-code js-file-line">        &quot;    &lt;tr&gt;\n&quot;,</td>
      </tr>
      <tr>
        <td id="L804" class="blob-num js-line-number" data-line-number="804"></td>
        <td id="LC804" class="blob-code js-file-line">        &quot;      &lt;th&gt;CC Sabathia&lt;/th&gt;\n&quot;,</td>
      </tr>
      <tr>
        <td id="L805" class="blob-num js-line-number" data-line-number="805"></td>
        <td id="LC805" class="blob-code js-file-line">        &quot;      &lt;td&gt; 2010&lt;/td&gt;\n&quot;,</td>
      </tr>
      <tr>
        <td id="L806" class="blob-num js-line-number" data-line-number="806"></td>
        <td id="LC806" class="blob-code js-file-line">        &quot;      &lt;td&gt; 24285714&lt;/td&gt;\n&quot;,</td>
      </tr>
      <tr>
        <td id="L807" class="blob-num js-line-number" data-line-number="807"></td>
        <td id="LC807" class="blob-code js-file-line">        &quot;      &lt;td&gt;       Pitcher&lt;/td&gt;\n&quot;,</td>
      </tr>
      <tr>
        <td id="L808" class="blob-num js-line-number" data-line-number="808"></td>
        <td id="LC808" class="blob-code js-file-line">        &quot;      &lt;td&gt;      New York Yankees&lt;/td&gt;\n&quot;,</td>
      </tr>
      <tr>
        <td id="L809" class="blob-num js-line-number" data-line-number="809"></td>
        <td id="LC809" class="blob-code js-file-line">        &quot;    &lt;/tr&gt;\n&quot;,</td>
      </tr>
      <tr>
        <td id="L810" class="blob-num js-line-number" data-line-number="810"></td>
        <td id="LC810" class="blob-code js-file-line">        &quot;    &lt;tr&gt;\n&quot;,</td>
      </tr>
      <tr>
        <td id="L811" class="blob-num js-line-number" data-line-number="811"></td>
        <td id="LC811" class="blob-code js-file-line">        &quot;      &lt;th&gt;Derek Jeter&lt;/th&gt;\n&quot;,</td>
      </tr>
      <tr>
        <td id="L812" class="blob-num js-line-number" data-line-number="812"></td>
        <td id="LC812" class="blob-code js-file-line">        &quot;      &lt;td&gt; 2010&lt;/td&gt;\n&quot;,</td>
      </tr>
      <tr>
        <td id="L813" class="blob-num js-line-number" data-line-number="813"></td>
        <td id="LC813" class="blob-code js-file-line">        &quot;      &lt;td&gt; 22600000&lt;/td&gt;\n&quot;,</td>
      </tr>
      <tr>
        <td id="L814" class="blob-num js-line-number" data-line-number="814"></td>
        <td id="LC814" class="blob-code js-file-line">        &quot;      &lt;td&gt;     Shortstop&lt;/td&gt;\n&quot;,</td>
      </tr>
      <tr>
        <td id="L815" class="blob-num js-line-number" data-line-number="815"></td>
        <td id="LC815" class="blob-code js-file-line">        &quot;      &lt;td&gt;      New York Yankees&lt;/td&gt;\n&quot;,</td>
      </tr>
      <tr>
        <td id="L816" class="blob-num js-line-number" data-line-number="816"></td>
        <td id="LC816" class="blob-code js-file-line">        &quot;    &lt;/tr&gt;\n&quot;,</td>
      </tr>
      <tr>
        <td id="L817" class="blob-num js-line-number" data-line-number="817"></td>
        <td id="LC817" class="blob-code js-file-line">        &quot;    &lt;tr&gt;\n&quot;,</td>
      </tr>
      <tr>
        <td id="L818" class="blob-num js-line-number" data-line-number="818"></td>
        <td id="LC818" class="blob-code js-file-line">        &quot;      &lt;th&gt;Mark Teixeira&lt;/th&gt;\n&quot;,</td>
      </tr>
      <tr>
        <td id="L819" class="blob-num js-line-number" data-line-number="819"></td>
        <td id="LC819" class="blob-code js-file-line">        &quot;      &lt;td&gt; 2010&lt;/td&gt;\n&quot;,</td>
      </tr>
      <tr>
        <td id="L820" class="blob-num js-line-number" data-line-number="820"></td>
        <td id="LC820" class="blob-code js-file-line">        &quot;      &lt;td&gt; 20625000&lt;/td&gt;\n&quot;,</td>
      </tr>
      <tr>
        <td id="L821" class="blob-num js-line-number" data-line-number="821"></td>
        <td id="LC821" class="blob-code js-file-line">        &quot;      &lt;td&gt; First Baseman&lt;/td&gt;\n&quot;,</td>
      </tr>
      <tr>
        <td id="L822" class="blob-num js-line-number" data-line-number="822"></td>
        <td id="LC822" class="blob-code js-file-line">        &quot;      &lt;td&gt;      New York Yankees&lt;/td&gt;\n&quot;,</td>
      </tr>
      <tr>
        <td id="L823" class="blob-num js-line-number" data-line-number="823"></td>
        <td id="LC823" class="blob-code js-file-line">        &quot;    &lt;/tr&gt;\n&quot;,</td>
      </tr>
      <tr>
        <td id="L824" class="blob-num js-line-number" data-line-number="824"></td>
        <td id="LC824" class="blob-code js-file-line">        &quot;    &lt;tr&gt;\n&quot;,</td>
      </tr>
      <tr>
        <td id="L825" class="blob-num js-line-number" data-line-number="825"></td>
        <td id="LC825" class="blob-code js-file-line">        &quot;      &lt;th&gt;Johan Santana&lt;/th&gt;\n&quot;,</td>
      </tr>
      <tr>
        <td id="L826" class="blob-num js-line-number" data-line-number="826"></td>
        <td id="LC826" class="blob-code js-file-line">        &quot;      &lt;td&gt; 2010&lt;/td&gt;\n&quot;,</td>
      </tr>
      <tr>
        <td id="L827" class="blob-num js-line-number" data-line-number="827"></td>
        <td id="LC827" class="blob-code js-file-line">        &quot;      &lt;td&gt; 20144707&lt;/td&gt;\n&quot;,</td>
      </tr>
      <tr>
        <td id="L828" class="blob-num js-line-number" data-line-number="828"></td>
        <td id="LC828" class="blob-code js-file-line">        &quot;      &lt;td&gt;       Pitcher&lt;/td&gt;\n&quot;,</td>
      </tr>
      <tr>
        <td id="L829" class="blob-num js-line-number" data-line-number="829"></td>
        <td id="LC829" class="blob-code js-file-line">        &quot;      &lt;td&gt;         New York Mets&lt;/td&gt;\n&quot;,</td>
      </tr>
      <tr>
        <td id="L830" class="blob-num js-line-number" data-line-number="830"></td>
        <td id="LC830" class="blob-code js-file-line">        &quot;    &lt;/tr&gt;\n&quot;,</td>
      </tr>
      <tr>
        <td id="L831" class="blob-num js-line-number" data-line-number="831"></td>
        <td id="LC831" class="blob-code js-file-line">        &quot;    &lt;tr&gt;\n&quot;,</td>
      </tr>
      <tr>
        <td id="L832" class="blob-num js-line-number" data-line-number="832"></td>
        <td id="LC832" class="blob-code js-file-line">        &quot;      &lt;th&gt;Miguel Cabrera&lt;/th&gt;\n&quot;,</td>
      </tr>
      <tr>
        <td id="L833" class="blob-num js-line-number" data-line-number="833"></td>
        <td id="LC833" class="blob-code js-file-line">        &quot;      &lt;td&gt; 2010&lt;/td&gt;\n&quot;,</td>
      </tr>
      <tr>
        <td id="L834" class="blob-num js-line-number" data-line-number="834"></td>
        <td id="LC834" class="blob-code js-file-line">        &quot;      &lt;td&gt; 20000000&lt;/td&gt;\n&quot;,</td>
      </tr>
      <tr>
        <td id="L835" class="blob-num js-line-number" data-line-number="835"></td>
        <td id="LC835" class="blob-code js-file-line">        &quot;      &lt;td&gt; First Baseman&lt;/td&gt;\n&quot;,</td>
      </tr>
      <tr>
        <td id="L836" class="blob-num js-line-number" data-line-number="836"></td>
        <td id="LC836" class="blob-code js-file-line">        &quot;      &lt;td&gt;        Detroit Tigers&lt;/td&gt;\n&quot;,</td>
      </tr>
      <tr>
        <td id="L837" class="blob-num js-line-number" data-line-number="837"></td>
        <td id="LC837" class="blob-code js-file-line">        &quot;    &lt;/tr&gt;\n&quot;,</td>
      </tr>
      <tr>
        <td id="L838" class="blob-num js-line-number" data-line-number="838"></td>
        <td id="LC838" class="blob-code js-file-line">        &quot;    &lt;tr&gt;\n&quot;,</td>
      </tr>
      <tr>
        <td id="L839" class="blob-num js-line-number" data-line-number="839"></td>
        <td id="LC839" class="blob-code js-file-line">        &quot;      &lt;th&gt;Carlos Beltran&lt;/th&gt;\n&quot;,</td>
      </tr>
      <tr>
        <td id="L840" class="blob-num js-line-number" data-line-number="840"></td>
        <td id="LC840" class="blob-code js-file-line">        &quot;      &lt;td&gt; 2010&lt;/td&gt;\n&quot;,</td>
      </tr>
      <tr>
        <td id="L841" class="blob-num js-line-number" data-line-number="841"></td>
        <td id="LC841" class="blob-code js-file-line">        &quot;      &lt;td&gt; 19401569&lt;/td&gt;\n&quot;,</td>
      </tr>
      <tr>
        <td id="L842" class="blob-num js-line-number" data-line-number="842"></td>
        <td id="LC842" class="blob-code js-file-line">        &quot;      &lt;td&gt;    Outfielder&lt;/td&gt;\n&quot;,</td>
      </tr>
      <tr>
        <td id="L843" class="blob-num js-line-number" data-line-number="843"></td>
        <td id="LC843" class="blob-code js-file-line">        &quot;      &lt;td&gt;         New York Mets&lt;/td&gt;\n&quot;,</td>
      </tr>
      <tr>
        <td id="L844" class="blob-num js-line-number" data-line-number="844"></td>
        <td id="LC844" class="blob-code js-file-line">        &quot;    &lt;/tr&gt;\n&quot;,</td>
      </tr>
      <tr>
        <td id="L845" class="blob-num js-line-number" data-line-number="845"></td>
        <td id="LC845" class="blob-code js-file-line">        &quot;    &lt;tr&gt;\n&quot;,</td>
      </tr>
      <tr>
        <td id="L846" class="blob-num js-line-number" data-line-number="846"></td>
        <td id="LC846" class="blob-code js-file-line">        &quot;      &lt;th&gt;Alfonso Soriano&lt;/th&gt;\n&quot;,</td>
      </tr>
      <tr>
        <td id="L847" class="blob-num js-line-number" data-line-number="847"></td>
        <td id="LC847" class="blob-code js-file-line">        &quot;      &lt;td&gt; 2010&lt;/td&gt;\n&quot;,</td>
      </tr>
      <tr>
        <td id="L848" class="blob-num js-line-number" data-line-number="848"></td>
        <td id="LC848" class="blob-code js-file-line">        &quot;      &lt;td&gt; 19000000&lt;/td&gt;\n&quot;,</td>
      </tr>
      <tr>
        <td id="L849" class="blob-num js-line-number" data-line-number="849"></td>
        <td id="LC849" class="blob-code js-file-line">        &quot;      &lt;td&gt;    Outfielder&lt;/td&gt;\n&quot;,</td>
      </tr>
      <tr>
        <td id="L850" class="blob-num js-line-number" data-line-number="850"></td>
        <td id="LC850" class="blob-code js-file-line">        &quot;      &lt;td&gt;          Chicago Cubs&lt;/td&gt;\n&quot;,</td>
      </tr>
      <tr>
        <td id="L851" class="blob-num js-line-number" data-line-number="851"></td>
        <td id="LC851" class="blob-code js-file-line">        &quot;    &lt;/tr&gt;\n&quot;,</td>
      </tr>
      <tr>
        <td id="L852" class="blob-num js-line-number" data-line-number="852"></td>
        <td id="LC852" class="blob-code js-file-line">        &quot;    &lt;tr&gt;\n&quot;,</td>
      </tr>
      <tr>
        <td id="L853" class="blob-num js-line-number" data-line-number="853"></td>
        <td id="LC853" class="blob-code js-file-line">        &quot;      &lt;th&gt;Carlos Lee&lt;/th&gt;\n&quot;,</td>
      </tr>
      <tr>
        <td id="L854" class="blob-num js-line-number" data-line-number="854"></td>
        <td id="LC854" class="blob-code js-file-line">        &quot;      &lt;td&gt; 2010&lt;/td&gt;\n&quot;,</td>
      </tr>
      <tr>
        <td id="L855" class="blob-num js-line-number" data-line-number="855"></td>
        <td id="LC855" class="blob-code js-file-line">        &quot;      &lt;td&gt; 19000000&lt;/td&gt;\n&quot;,</td>
      </tr>
      <tr>
        <td id="L856" class="blob-num js-line-number" data-line-number="856"></td>
        <td id="LC856" class="blob-code js-file-line">        &quot;      &lt;td&gt;    Outfielder&lt;/td&gt;\n&quot;,</td>
      </tr>
      <tr>
        <td id="L857" class="blob-num js-line-number" data-line-number="857"></td>
        <td id="LC857" class="blob-code js-file-line">        &quot;      &lt;td&gt;        Houston Astros&lt;/td&gt;\n&quot;,</td>
      </tr>
      <tr>
        <td id="L858" class="blob-num js-line-number" data-line-number="858"></td>
        <td id="LC858" class="blob-code js-file-line">        &quot;    &lt;/tr&gt;\n&quot;,</td>
      </tr>
      <tr>
        <td id="L859" class="blob-num js-line-number" data-line-number="859"></td>
        <td id="LC859" class="blob-code js-file-line">        &quot;    &lt;tr&gt;\n&quot;,</td>
      </tr>
      <tr>
        <td id="L860" class="blob-num js-line-number" data-line-number="860"></td>
        <td id="LC860" class="blob-code js-file-line">        &quot;      &lt;th&gt;Ryan Howard&lt;/th&gt;\n&quot;,</td>
      </tr>
      <tr>
        <td id="L861" class="blob-num js-line-number" data-line-number="861"></td>
        <td id="LC861" class="blob-code js-file-line">        &quot;      &lt;td&gt; 2010&lt;/td&gt;\n&quot;,</td>
      </tr>
      <tr>
        <td id="L862" class="blob-num js-line-number" data-line-number="862"></td>
        <td id="LC862" class="blob-code js-file-line">        &quot;      &lt;td&gt; 19000000&lt;/td&gt;\n&quot;,</td>
      </tr>
      <tr>
        <td id="L863" class="blob-num js-line-number" data-line-number="863"></td>
        <td id="LC863" class="blob-code js-file-line">        &quot;      &lt;td&gt; First Baseman&lt;/td&gt;\n&quot;,</td>
      </tr>
      <tr>
        <td id="L864" class="blob-num js-line-number" data-line-number="864"></td>
        <td id="LC864" class="blob-code js-file-line">        &quot;      &lt;td&gt; Philadelphia Phillies&lt;/td&gt;\n&quot;,</td>
      </tr>
      <tr>
        <td id="L865" class="blob-num js-line-number" data-line-number="865"></td>
        <td id="LC865" class="blob-code js-file-line">        &quot;    &lt;/tr&gt;\n&quot;,</td>
      </tr>
      <tr>
        <td id="L866" class="blob-num js-line-number" data-line-number="866"></td>
        <td id="LC866" class="blob-code js-file-line">        &quot;    &lt;tr&gt;\n&quot;,</td>
      </tr>
      <tr>
        <td id="L867" class="blob-num js-line-number" data-line-number="867"></td>
        <td id="LC867" class="blob-code js-file-line">        &quot;      &lt;th&gt;Carlos Zambrano&lt;/th&gt;\n&quot;,</td>
      </tr>
      <tr>
        <td id="L868" class="blob-num js-line-number" data-line-number="868"></td>
        <td id="LC868" class="blob-code js-file-line">        &quot;      &lt;td&gt; 2010&lt;/td&gt;\n&quot;,</td>
      </tr>
      <tr>
        <td id="L869" class="blob-num js-line-number" data-line-number="869"></td>
        <td id="LC869" class="blob-code js-file-line">        &quot;      &lt;td&gt; 18875000&lt;/td&gt;\n&quot;,</td>
      </tr>
      <tr>
        <td id="L870" class="blob-num js-line-number" data-line-number="870"></td>
        <td id="LC870" class="blob-code js-file-line">        &quot;      &lt;td&gt;       Pitcher&lt;/td&gt;\n&quot;,</td>
      </tr>
      <tr>
        <td id="L871" class="blob-num js-line-number" data-line-number="871"></td>
        <td id="LC871" class="blob-code js-file-line">        &quot;      &lt;td&gt;          Chicago Cubs&lt;/td&gt;\n&quot;,</td>
      </tr>
      <tr>
        <td id="L872" class="blob-num js-line-number" data-line-number="872"></td>
        <td id="LC872" class="blob-code js-file-line">        &quot;    &lt;/tr&gt;\n&quot;,</td>
      </tr>
      <tr>
        <td id="L873" class="blob-num js-line-number" data-line-number="873"></td>
        <td id="LC873" class="blob-code js-file-line">        &quot;    &lt;tr&gt;\n&quot;,</td>
      </tr>
      <tr>
        <td id="L874" class="blob-num js-line-number" data-line-number="874"></td>
        <td id="LC874" class="blob-code js-file-line">        &quot;      &lt;th&gt;John Lackey&lt;/th&gt;\n&quot;,</td>
      </tr>
      <tr>
        <td id="L875" class="blob-num js-line-number" data-line-number="875"></td>
        <td id="LC875" class="blob-code js-file-line">        &quot;      &lt;td&gt; 2010&lt;/td&gt;\n&quot;,</td>
      </tr>
      <tr>
        <td id="L876" class="blob-num js-line-number" data-line-number="876"></td>
        <td id="LC876" class="blob-code js-file-line">        &quot;      &lt;td&gt; 18700000&lt;/td&gt;\n&quot;,</td>
      </tr>
      <tr>
        <td id="L877" class="blob-num js-line-number" data-line-number="877"></td>
        <td id="LC877" class="blob-code js-file-line">        &quot;      &lt;td&gt;       Pitcher&lt;/td&gt;\n&quot;,</td>
      </tr>
      <tr>
        <td id="L878" class="blob-num js-line-number" data-line-number="878"></td>
        <td id="LC878" class="blob-code js-file-line">        &quot;      &lt;td&gt;        Boston Red Sox&lt;/td&gt;\n&quot;,</td>
      </tr>
      <tr>
        <td id="L879" class="blob-num js-line-number" data-line-number="879"></td>
        <td id="LC879" class="blob-code js-file-line">        &quot;    &lt;/tr&gt;\n&quot;,</td>
      </tr>
      <tr>
        <td id="L880" class="blob-num js-line-number" data-line-number="880"></td>
        <td id="LC880" class="blob-code js-file-line">        &quot;    &lt;tr&gt;\n&quot;,</td>
      </tr>
      <tr>
        <td id="L881" class="blob-num js-line-number" data-line-number="881"></td>
        <td id="LC881" class="blob-code js-file-line">        &quot;      &lt;th&gt;Manny Ramirez&lt;/th&gt;\n&quot;,</td>
      </tr>
      <tr>
        <td id="L882" class="blob-num js-line-number" data-line-number="882"></td>
        <td id="LC882" class="blob-code js-file-line">        &quot;      &lt;td&gt; 2010&lt;/td&gt;\n&quot;,</td>
      </tr>
      <tr>
        <td id="L883" class="blob-num js-line-number" data-line-number="883"></td>
        <td id="LC883" class="blob-code js-file-line">        &quot;      &lt;td&gt; 18695006&lt;/td&gt;\n&quot;,</td>
      </tr>
      <tr>
        <td id="L884" class="blob-num js-line-number" data-line-number="884"></td>
        <td id="LC884" class="blob-code js-file-line">        &quot;      &lt;td&gt;    Outfielder&lt;/td&gt;\n&quot;,</td>
      </tr>
      <tr>
        <td id="L885" class="blob-num js-line-number" data-line-number="885"></td>
        <td id="LC885" class="blob-code js-file-line">        &quot;      &lt;td&gt;   Los Angeles Dodgers&lt;/td&gt;\n&quot;,</td>
      </tr>
      <tr>
        <td id="L886" class="blob-num js-line-number" data-line-number="886"></td>
        <td id="LC886" class="blob-code js-file-line">        &quot;    &lt;/tr&gt;\n&quot;,</td>
      </tr>
      <tr>
        <td id="L887" class="blob-num js-line-number" data-line-number="887"></td>
        <td id="LC887" class="blob-code js-file-line">        &quot;    &lt;tr&gt;\n&quot;,</td>
      </tr>
      <tr>
        <td id="L888" class="blob-num js-line-number" data-line-number="888"></td>
        <td id="LC888" class="blob-code js-file-line">        &quot;      &lt;th&gt;Torii Hunter&lt;/th&gt;\n&quot;,</td>
      </tr>
      <tr>
        <td id="L889" class="blob-num js-line-number" data-line-number="889"></td>
        <td id="LC889" class="blob-code js-file-line">        &quot;      &lt;td&gt; 2010&lt;/td&gt;\n&quot;,</td>
      </tr>
      <tr>
        <td id="L890" class="blob-num js-line-number" data-line-number="890"></td>
        <td id="LC890" class="blob-code js-file-line">        &quot;      &lt;td&gt; 18500000&lt;/td&gt;\n&quot;,</td>
      </tr>
      <tr>
        <td id="L891" class="blob-num js-line-number" data-line-number="891"></td>
        <td id="LC891" class="blob-code js-file-line">        &quot;      &lt;td&gt;    Outfielder&lt;/td&gt;\n&quot;,</td>
      </tr>
      <tr>
        <td id="L892" class="blob-num js-line-number" data-line-number="892"></td>
        <td id="LC892" class="blob-code js-file-line">        &quot;      &lt;td&gt;    Los Angeles Angels&lt;/td&gt;\n&quot;,</td>
      </tr>
      <tr>
        <td id="L893" class="blob-num js-line-number" data-line-number="893"></td>
        <td id="LC893" class="blob-code js-file-line">        &quot;    &lt;/tr&gt;\n&quot;,</td>
      </tr>
      <tr>
        <td id="L894" class="blob-num js-line-number" data-line-number="894"></td>
        <td id="LC894" class="blob-code js-file-line">        &quot;    &lt;tr&gt;\n&quot;,</td>
      </tr>
      <tr>
        <td id="L895" class="blob-num js-line-number" data-line-number="895"></td>
        <td id="LC895" class="blob-code js-file-line">        &quot;      &lt;th&gt;Barry Zito&lt;/th&gt;\n&quot;,</td>
      </tr>
      <tr>
        <td id="L896" class="blob-num js-line-number" data-line-number="896"></td>
        <td id="LC896" class="blob-code js-file-line">        &quot;      &lt;td&gt; 2010&lt;/td&gt;\n&quot;,</td>
      </tr>
      <tr>
        <td id="L897" class="blob-num js-line-number" data-line-number="897"></td>
        <td id="LC897" class="blob-code js-file-line">        &quot;      &lt;td&gt; 18500000&lt;/td&gt;\n&quot;,</td>
      </tr>
      <tr>
        <td id="L898" class="blob-num js-line-number" data-line-number="898"></td>
        <td id="LC898" class="blob-code js-file-line">        &quot;      &lt;td&gt;       Pitcher&lt;/td&gt;\n&quot;,</td>
      </tr>
      <tr>
        <td id="L899" class="blob-num js-line-number" data-line-number="899"></td>
        <td id="LC899" class="blob-code js-file-line">        &quot;      &lt;td&gt;  San Francisco Giants&lt;/td&gt;\n&quot;,</td>
      </tr>
      <tr>
        <td id="L900" class="blob-num js-line-number" data-line-number="900"></td>
        <td id="LC900" class="blob-code js-file-line">        &quot;    &lt;/tr&gt;\n&quot;,</td>
      </tr>
      <tr>
        <td id="L901" class="blob-num js-line-number" data-line-number="901"></td>
        <td id="LC901" class="blob-code js-file-line">        &quot;    &lt;tr&gt;\n&quot;,</td>
      </tr>
      <tr>
        <td id="L902" class="blob-num js-line-number" data-line-number="902"></td>
        <td id="LC902" class="blob-code js-file-line">        &quot;      &lt;th&gt;Ichiro Suzuki&lt;/th&gt;\n&quot;,</td>
      </tr>
      <tr>
        <td id="L903" class="blob-num js-line-number" data-line-number="903"></td>
        <td id="LC903" class="blob-code js-file-line">        &quot;      &lt;td&gt; 2010&lt;/td&gt;\n&quot;,</td>
      </tr>
      <tr>
        <td id="L904" class="blob-num js-line-number" data-line-number="904"></td>
        <td id="LC904" class="blob-code js-file-line">        &quot;      &lt;td&gt; 18000000&lt;/td&gt;\n&quot;,</td>
      </tr>
      <tr>
        <td id="L905" class="blob-num js-line-number" data-line-number="905"></td>
        <td id="LC905" class="blob-code js-file-line">        &quot;      &lt;td&gt;    Outfielder&lt;/td&gt;\n&quot;,</td>
      </tr>
      <tr>
        <td id="L906" class="blob-num js-line-number" data-line-number="906"></td>
        <td id="LC906" class="blob-code js-file-line">        &quot;      &lt;td&gt;      Seattle Mariners&lt;/td&gt;\n&quot;,</td>
      </tr>
      <tr>
        <td id="L907" class="blob-num js-line-number" data-line-number="907"></td>
        <td id="LC907" class="blob-code js-file-line">        &quot;    &lt;/tr&gt;\n&quot;,</td>
      </tr>
      <tr>
        <td id="L908" class="blob-num js-line-number" data-line-number="908"></td>
        <td id="LC908" class="blob-code js-file-line">        &quot;    &lt;tr&gt;\n&quot;,</td>
      </tr>
      <tr>
        <td id="L909" class="blob-num js-line-number" data-line-number="909"></td>
        <td id="LC909" class="blob-code js-file-line">        &quot;      &lt;th&gt;Magglio Ordonez&lt;/th&gt;\n&quot;,</td>
      </tr>
      <tr>
        <td id="L910" class="blob-num js-line-number" data-line-number="910"></td>
        <td id="LC910" class="blob-code js-file-line">        &quot;      &lt;td&gt; 2010&lt;/td&gt;\n&quot;,</td>
      </tr>
      <tr>
        <td id="L911" class="blob-num js-line-number" data-line-number="911"></td>
        <td id="LC911" class="blob-code js-file-line">        &quot;      &lt;td&gt; 17825976&lt;/td&gt;\n&quot;,</td>
      </tr>
      <tr>
        <td id="L912" class="blob-num js-line-number" data-line-number="912"></td>
        <td id="LC912" class="blob-code js-file-line">        &quot;      &lt;td&gt;    Outfielder&lt;/td&gt;\n&quot;,</td>
      </tr>
      <tr>
        <td id="L913" class="blob-num js-line-number" data-line-number="913"></td>
        <td id="LC913" class="blob-code js-file-line">        &quot;      &lt;td&gt;        Detroit Tigers&lt;/td&gt;\n&quot;,</td>
      </tr>
      <tr>
        <td id="L914" class="blob-num js-line-number" data-line-number="914"></td>
        <td id="LC914" class="blob-code js-file-line">        &quot;    &lt;/tr&gt;\n&quot;,</td>
      </tr>
      <tr>
        <td id="L915" class="blob-num js-line-number" data-line-number="915"></td>
        <td id="LC915" class="blob-code js-file-line">        &quot;    &lt;tr&gt;\n&quot;,</td>
      </tr>
      <tr>
        <td id="L916" class="blob-num js-line-number" data-line-number="916"></td>
        <td id="LC916" class="blob-code js-file-line">        &quot;      &lt;th&gt;Todd Helton&lt;/th&gt;\n&quot;,</td>
      </tr>
      <tr>
        <td id="L917" class="blob-num js-line-number" data-line-number="917"></td>
        <td id="LC917" class="blob-code js-file-line">        &quot;      &lt;td&gt; 2010&lt;/td&gt;\n&quot;,</td>
      </tr>
      <tr>
        <td id="L918" class="blob-num js-line-number" data-line-number="918"></td>
        <td id="LC918" class="blob-code js-file-line">        &quot;      &lt;td&gt; 17775000&lt;/td&gt;\n&quot;,</td>
      </tr>
      <tr>
        <td id="L919" class="blob-num js-line-number" data-line-number="919"></td>
        <td id="LC919" class="blob-code js-file-line">        &quot;      &lt;td&gt; First Baseman&lt;/td&gt;\n&quot;,</td>
      </tr>
      <tr>
        <td id="L920" class="blob-num js-line-number" data-line-number="920"></td>
        <td id="LC920" class="blob-code js-file-line">        &quot;      &lt;td&gt;      Colorado Rockies&lt;/td&gt;\n&quot;,</td>
      </tr>
      <tr>
        <td id="L921" class="blob-num js-line-number" data-line-number="921"></td>
        <td id="LC921" class="blob-code js-file-line">        &quot;    &lt;/tr&gt;\n&quot;,</td>
      </tr>
      <tr>
        <td id="L922" class="blob-num js-line-number" data-line-number="922"></td>
        <td id="LC922" class="blob-code js-file-line">        &quot;    &lt;tr&gt;\n&quot;,</td>
      </tr>
      <tr>
        <td id="L923" class="blob-num js-line-number" data-line-number="923"></td>
        <td id="LC923" class="blob-code js-file-line">        &quot;      &lt;th&gt;Aramis Ramirez&lt;/th&gt;\n&quot;,</td>
      </tr>
      <tr>
        <td id="L924" class="blob-num js-line-number" data-line-number="924"></td>
        <td id="LC924" class="blob-code js-file-line">        &quot;      &lt;td&gt; 2010&lt;/td&gt;\n&quot;,</td>
      </tr>
      <tr>
        <td id="L925" class="blob-num js-line-number" data-line-number="925"></td>
        <td id="LC925" class="blob-code js-file-line">        &quot;      &lt;td&gt; 16750000&lt;/td&gt;\n&quot;,</td>
      </tr>
      <tr>
        <td id="L926" class="blob-num js-line-number" data-line-number="926"></td>
        <td id="LC926" class="blob-code js-file-line">        &quot;      &lt;td&gt; Third Baseman&lt;/td&gt;\n&quot;,</td>
      </tr>
      <tr>
        <td id="L927" class="blob-num js-line-number" data-line-number="927"></td>
        <td id="LC927" class="blob-code js-file-line">        &quot;      &lt;td&gt;          Chicago Cubs&lt;/td&gt;\n&quot;,</td>
      </tr>
      <tr>
        <td id="L928" class="blob-num js-line-number" data-line-number="928"></td>
        <td id="LC928" class="blob-code js-file-line">        &quot;    &lt;/tr&gt;\n&quot;,</td>
      </tr>
      <tr>
        <td id="L929" class="blob-num js-line-number" data-line-number="929"></td>
        <td id="LC929" class="blob-code js-file-line">        &quot;    &lt;tr&gt;\n&quot;,</td>
      </tr>
      <tr>
        <td id="L930" class="blob-num js-line-number" data-line-number="930"></td>
        <td id="LC930" class="blob-code js-file-line">        &quot;      &lt;th&gt;A.J. Burnett&lt;/th&gt;\n&quot;,</td>
      </tr>
      <tr>
        <td id="L931" class="blob-num js-line-number" data-line-number="931"></td>
        <td id="LC931" class="blob-code js-file-line">        &quot;      &lt;td&gt; 2010&lt;/td&gt;\n&quot;,</td>
      </tr>
      <tr>
        <td id="L932" class="blob-num js-line-number" data-line-number="932"></td>
        <td id="LC932" class="blob-code js-file-line">        &quot;      &lt;td&gt; 16500000&lt;/td&gt;\n&quot;,</td>
      </tr>
      <tr>
        <td id="L933" class="blob-num js-line-number" data-line-number="933"></td>
        <td id="LC933" class="blob-code js-file-line">        &quot;      &lt;td&gt;       Pitcher&lt;/td&gt;\n&quot;,</td>
      </tr>
      <tr>
        <td id="L934" class="blob-num js-line-number" data-line-number="934"></td>
        <td id="LC934" class="blob-code js-file-line">        &quot;      &lt;td&gt;      New York Yankees&lt;/td&gt;\n&quot;,</td>
      </tr>
      <tr>
        <td id="L935" class="blob-num js-line-number" data-line-number="935"></td>
        <td id="LC935" class="blob-code js-file-line">        &quot;    &lt;/tr&gt;\n&quot;,</td>
      </tr>
      <tr>
        <td id="L936" class="blob-num js-line-number" data-line-number="936"></td>
        <td id="LC936" class="blob-code js-file-line">        &quot;  &lt;/tbody&gt;\n&quot;,</td>
      </tr>
      <tr>
        <td id="L937" class="blob-num js-line-number" data-line-number="937"></td>
        <td id="LC937" class="blob-code js-file-line">        &quot;&lt;/table&gt;\n&quot;,</td>
      </tr>
      <tr>
        <td id="L938" class="blob-num js-line-number" data-line-number="938"></td>
        <td id="LC938" class="blob-code js-file-line">        &quot;&lt;/div&gt;&quot;</td>
      </tr>
      <tr>
        <td id="L939" class="blob-num js-line-number" data-line-number="939"></td>
        <td id="LC939" class="blob-code js-file-line">       ],</td>
      </tr>
      <tr>
        <td id="L940" class="blob-num js-line-number" data-line-number="940"></td>
        <td id="LC940" class="blob-code js-file-line">       &quot;metadata&quot;: {},</td>
      </tr>
      <tr>
        <td id="L941" class="blob-num js-line-number" data-line-number="941"></td>
        <td id="LC941" class="blob-code js-file-line">       &quot;output_type&quot;: &quot;pyout&quot;,</td>
      </tr>
      <tr>
        <td id="L942" class="blob-num js-line-number" data-line-number="942"></td>
        <td id="LC942" class="blob-code js-file-line">       &quot;prompt_number&quot;: 50,</td>
      </tr>
      <tr>
        <td id="L943" class="blob-num js-line-number" data-line-number="943"></td>
        <td id="LC943" class="blob-code js-file-line">       &quot;text&quot;: [</td>
      </tr>
      <tr>
        <td id="L944" class="blob-num js-line-number" data-line-number="944"></td>
        <td id="LC944" class="blob-code js-file-line">        &quot;                 Year    Salary       Position                   Team\n&quot;,</td>
      </tr>
      <tr>
        <td id="L945" class="blob-num js-line-number" data-line-number="945"></td>
        <td id="LC945" class="blob-code js-file-line">        &quot;Player                                                               \n&quot;,</td>
      </tr>
      <tr>
        <td id="L946" class="blob-num js-line-number" data-line-number="946"></td>
        <td id="LC946" class="blob-code js-file-line">        &quot;Alex Rodriguez   2010  33000000  Third Baseman       New York Yankees\n&quot;,</td>
      </tr>
      <tr>
        <td id="L947" class="blob-num js-line-number" data-line-number="947"></td>
        <td id="LC947" class="blob-code js-file-line">        &quot;CC Sabathia      2010  24285714        Pitcher       New York Yankees\n&quot;,</td>
      </tr>
      <tr>
        <td id="L948" class="blob-num js-line-number" data-line-number="948"></td>
        <td id="LC948" class="blob-code js-file-line">        &quot;Derek Jeter      2010  22600000      Shortstop       New York Yankees\n&quot;,</td>
      </tr>
      <tr>
        <td id="L949" class="blob-num js-line-number" data-line-number="949"></td>
        <td id="LC949" class="blob-code js-file-line">        &quot;Mark Teixeira    2010  20625000  First Baseman       New York Yankees\n&quot;,</td>
      </tr>
      <tr>
        <td id="L950" class="blob-num js-line-number" data-line-number="950"></td>
        <td id="LC950" class="blob-code js-file-line">        &quot;Johan Santana    2010  20144707        Pitcher          New York Mets\n&quot;,</td>
      </tr>
      <tr>
        <td id="L951" class="blob-num js-line-number" data-line-number="951"></td>
        <td id="LC951" class="blob-code js-file-line">        &quot;Miguel Cabrera   2010  20000000  First Baseman         Detroit Tigers\n&quot;,</td>
      </tr>
      <tr>
        <td id="L952" class="blob-num js-line-number" data-line-number="952"></td>
        <td id="LC952" class="blob-code js-file-line">        &quot;Carlos Beltran   2010  19401569     Outfielder          New York Mets\n&quot;,</td>
      </tr>
      <tr>
        <td id="L953" class="blob-num js-line-number" data-line-number="953"></td>
        <td id="LC953" class="blob-code js-file-line">        &quot;Alfonso Soriano  2010  19000000     Outfielder           Chicago Cubs\n&quot;,</td>
      </tr>
      <tr>
        <td id="L954" class="blob-num js-line-number" data-line-number="954"></td>
        <td id="LC954" class="blob-code js-file-line">        &quot;Carlos Lee       2010  19000000     Outfielder         Houston Astros\n&quot;,</td>
      </tr>
      <tr>
        <td id="L955" class="blob-num js-line-number" data-line-number="955"></td>
        <td id="LC955" class="blob-code js-file-line">        &quot;Ryan Howard      2010  19000000  First Baseman  Philadelphia Phillies\n&quot;,</td>
      </tr>
      <tr>
        <td id="L956" class="blob-num js-line-number" data-line-number="956"></td>
        <td id="LC956" class="blob-code js-file-line">        &quot;Carlos Zambrano  2010  18875000        Pitcher           Chicago Cubs\n&quot;,</td>
      </tr>
      <tr>
        <td id="L957" class="blob-num js-line-number" data-line-number="957"></td>
        <td id="LC957" class="blob-code js-file-line">        &quot;John Lackey      2010  18700000        Pitcher         Boston Red Sox\n&quot;,</td>
      </tr>
      <tr>
        <td id="L958" class="blob-num js-line-number" data-line-number="958"></td>
        <td id="LC958" class="blob-code js-file-line">        &quot;Manny Ramirez    2010  18695006     Outfielder    Los Angeles Dodgers\n&quot;,</td>
      </tr>
      <tr>
        <td id="L959" class="blob-num js-line-number" data-line-number="959"></td>
        <td id="LC959" class="blob-code js-file-line">        &quot;Torii Hunter     2010  18500000     Outfielder     Los Angeles Angels\n&quot;,</td>
      </tr>
      <tr>
        <td id="L960" class="blob-num js-line-number" data-line-number="960"></td>
        <td id="LC960" class="blob-code js-file-line">        &quot;Barry Zito       2010  18500000        Pitcher   San Francisco Giants\n&quot;,</td>
      </tr>
      <tr>
        <td id="L961" class="blob-num js-line-number" data-line-number="961"></td>
        <td id="LC961" class="blob-code js-file-line">        &quot;Ichiro Suzuki    2010  18000000     Outfielder       Seattle Mariners\n&quot;,</td>
      </tr>
      <tr>
        <td id="L962" class="blob-num js-line-number" data-line-number="962"></td>
        <td id="LC962" class="blob-code js-file-line">        &quot;Magglio Ordonez  2010  17825976     Outfielder         Detroit Tigers\n&quot;,</td>
      </tr>
      <tr>
        <td id="L963" class="blob-num js-line-number" data-line-number="963"></td>
        <td id="LC963" class="blob-code js-file-line">        &quot;Todd Helton      2010  17775000  First Baseman       Colorado Rockies\n&quot;,</td>
      </tr>
      <tr>
        <td id="L964" class="blob-num js-line-number" data-line-number="964"></td>
        <td id="LC964" class="blob-code js-file-line">        &quot;Aramis Ramirez   2010  16750000  Third Baseman           Chicago Cubs\n&quot;,</td>
      </tr>
      <tr>
        <td id="L965" class="blob-num js-line-number" data-line-number="965"></td>
        <td id="LC965" class="blob-code js-file-line">        &quot;A.J. Burnett     2010  16500000        Pitcher       New York Yankees&quot;</td>
      </tr>
      <tr>
        <td id="L966" class="blob-num js-line-number" data-line-number="966"></td>
        <td id="LC966" class="blob-code js-file-line">       ]</td>
      </tr>
      <tr>
        <td id="L967" class="blob-num js-line-number" data-line-number="967"></td>
        <td id="LC967" class="blob-code js-file-line">      }</td>
      </tr>
      <tr>
        <td id="L968" class="blob-num js-line-number" data-line-number="968"></td>
        <td id="LC968" class="blob-code js-file-line">     ],</td>
      </tr>
      <tr>
        <td id="L969" class="blob-num js-line-number" data-line-number="969"></td>
        <td id="LC969" class="blob-code js-file-line">     &quot;prompt_number&quot;: 50</td>
      </tr>
      <tr>
        <td id="L970" class="blob-num js-line-number" data-line-number="970"></td>
        <td id="LC970" class="blob-code js-file-line">    },</td>
      </tr>
      <tr>
        <td id="L971" class="blob-num js-line-number" data-line-number="971"></td>
        <td id="LC971" class="blob-code js-file-line">    {</td>
      </tr>
      <tr>
        <td id="L972" class="blob-num js-line-number" data-line-number="972"></td>
        <td id="LC972" class="blob-code js-file-line">     &quot;cell_type&quot;: &quot;code&quot;,</td>
      </tr>
      <tr>
        <td id="L973" class="blob-num js-line-number" data-line-number="973"></td>
        <td id="LC973" class="blob-code js-file-line">     &quot;collapsed&quot;: false,</td>
      </tr>
      <tr>
        <td id="L974" class="blob-num js-line-number" data-line-number="974"></td>
        <td id="LC974" class="blob-code js-file-line">     &quot;input&quot;: [</td>
      </tr>
      <tr>
        <td id="L975" class="blob-num js-line-number" data-line-number="975"></td>
        <td id="LC975" class="blob-code js-file-line">      &quot; # Top 10 highest paid players\n&quot;,</td>
      </tr>
      <tr>
        <td id="L976" class="blob-num js-line-number" data-line-number="976"></td>
        <td id="LC976" class="blob-code js-file-line">      &quot; top10 = yr2010.Salary.order(ascending=False).head()&quot;</td>
      </tr>
      <tr>
        <td id="L977" class="blob-num js-line-number" data-line-number="977"></td>
        <td id="LC977" class="blob-code js-file-line">     ],</td>
      </tr>
      <tr>
        <td id="L978" class="blob-num js-line-number" data-line-number="978"></td>
        <td id="LC978" class="blob-code js-file-line">     &quot;language&quot;: &quot;python&quot;,</td>
      </tr>
      <tr>
        <td id="L979" class="blob-num js-line-number" data-line-number="979"></td>
        <td id="LC979" class="blob-code js-file-line">     &quot;metadata&quot;: {},</td>
      </tr>
      <tr>
        <td id="L980" class="blob-num js-line-number" data-line-number="980"></td>
        <td id="LC980" class="blob-code js-file-line">     &quot;outputs&quot;: [],</td>
      </tr>
      <tr>
        <td id="L981" class="blob-num js-line-number" data-line-number="981"></td>
        <td id="LC981" class="blob-code js-file-line">     &quot;prompt_number&quot;: 51</td>
      </tr>
      <tr>
        <td id="L982" class="blob-num js-line-number" data-line-number="982"></td>
        <td id="LC982" class="blob-code js-file-line">    },</td>
      </tr>
      <tr>
        <td id="L983" class="blob-num js-line-number" data-line-number="983"></td>
        <td id="LC983" class="blob-code js-file-line">    {</td>
      </tr>
      <tr>
        <td id="L984" class="blob-num js-line-number" data-line-number="984"></td>
        <td id="LC984" class="blob-code js-file-line">     &quot;cell_type&quot;: &quot;code&quot;,</td>
      </tr>
      <tr>
        <td id="L985" class="blob-num js-line-number" data-line-number="985"></td>
        <td id="LC985" class="blob-code js-file-line">     &quot;collapsed&quot;: false,</td>
      </tr>
      <tr>
        <td id="L986" class="blob-num js-line-number" data-line-number="986"></td>
        <td id="LC986" class="blob-code js-file-line">     &quot;input&quot;: [</td>
      </tr>
      <tr>
        <td id="L987" class="blob-num js-line-number" data-line-number="987"></td>
        <td id="LC987" class="blob-code js-file-line">      &quot; type(top10)&quot;</td>
      </tr>
      <tr>
        <td id="L988" class="blob-num js-line-number" data-line-number="988"></td>
        <td id="LC988" class="blob-code js-file-line">     ],</td>
      </tr>
      <tr>
        <td id="L989" class="blob-num js-line-number" data-line-number="989"></td>
        <td id="LC989" class="blob-code js-file-line">     &quot;language&quot;: &quot;python&quot;,</td>
      </tr>
      <tr>
        <td id="L990" class="blob-num js-line-number" data-line-number="990"></td>
        <td id="LC990" class="blob-code js-file-line">     &quot;metadata&quot;: {},</td>
      </tr>
      <tr>
        <td id="L991" class="blob-num js-line-number" data-line-number="991"></td>
        <td id="LC991" class="blob-code js-file-line">     &quot;outputs&quot;: [</td>
      </tr>
      <tr>
        <td id="L992" class="blob-num js-line-number" data-line-number="992"></td>
        <td id="LC992" class="blob-code js-file-line">      {</td>
      </tr>
      <tr>
        <td id="L993" class="blob-num js-line-number" data-line-number="993"></td>
        <td id="LC993" class="blob-code js-file-line">       &quot;metadata&quot;: {},</td>
      </tr>
      <tr>
        <td id="L994" class="blob-num js-line-number" data-line-number="994"></td>
        <td id="LC994" class="blob-code js-file-line">       &quot;output_type&quot;: &quot;pyout&quot;,</td>
      </tr>
      <tr>
        <td id="L995" class="blob-num js-line-number" data-line-number="995"></td>
        <td id="LC995" class="blob-code js-file-line">       &quot;prompt_number&quot;: 53,</td>
      </tr>
      <tr>
        <td id="L996" class="blob-num js-line-number" data-line-number="996"></td>
        <td id="LC996" class="blob-code js-file-line">       &quot;text&quot;: [</td>
      </tr>
      <tr>
        <td id="L997" class="blob-num js-line-number" data-line-number="997"></td>
        <td id="LC997" class="blob-code js-file-line">        &quot;pandas.core.series.Series&quot;</td>
      </tr>
      <tr>
        <td id="L998" class="blob-num js-line-number" data-line-number="998"></td>
        <td id="LC998" class="blob-code js-file-line">       ]</td>
      </tr>
      <tr>
        <td id="L999" class="blob-num js-line-number" data-line-number="999"></td>
        <td id="LC999" class="blob-code js-file-line">      }</td>
      </tr>
      <tr>
        <td id="L1000" class="blob-num js-line-number" data-line-number="1000"></td>
        <td id="LC1000" class="blob-code js-file-line">     ],</td>
      </tr>
      <tr>
        <td id="L1001" class="blob-num js-line-number" data-line-number="1001"></td>
        <td id="LC1001" class="blob-code js-file-line">     &quot;prompt_number&quot;: 53</td>
      </tr>
      <tr>
        <td id="L1002" class="blob-num js-line-number" data-line-number="1002"></td>
        <td id="LC1002" class="blob-code js-file-line">    },</td>
      </tr>
      <tr>
        <td id="L1003" class="blob-num js-line-number" data-line-number="1003"></td>
        <td id="LC1003" class="blob-code js-file-line">    {</td>
      </tr>
      <tr>
        <td id="L1004" class="blob-num js-line-number" data-line-number="1004"></td>
        <td id="LC1004" class="blob-code js-file-line">     &quot;cell_type&quot;: &quot;code&quot;,</td>
      </tr>
      <tr>
        <td id="L1005" class="blob-num js-line-number" data-line-number="1005"></td>
        <td id="LC1005" class="blob-code js-file-line">     &quot;collapsed&quot;: false,</td>
      </tr>
      <tr>
        <td id="L1006" class="blob-num js-line-number" data-line-number="1006"></td>
        <td id="LC1006" class="blob-code js-file-line">     &quot;input&quot;: [</td>
      </tr>
      <tr>
        <td id="L1007" class="blob-num js-line-number" data-line-number="1007"></td>
        <td id="LC1007" class="blob-code js-file-line">      &quot;#plot highest paid\n&quot;,</td>
      </tr>
      <tr>
        <td id="L1008" class="blob-num js-line-number" data-line-number="1008"></td>
        <td id="LC1008" class="blob-code js-file-line">      &quot;plt.figure()\n&quot;,</td>
      </tr>
      <tr>
        <td id="L1009" class="blob-num js-line-number" data-line-number="1009"></td>
        <td id="LC1009" class="blob-code js-file-line">      &quot;top10.plot(label=&#39;Salaries&#39;)\n&quot;,</td>
      </tr>
      <tr>
        <td id="L1010" class="blob-num js-line-number" data-line-number="1010"></td>
        <td id="LC1010" class="blob-code js-file-line">      &quot;xticks(rotation=&#39;vertical&#39;)\n&quot;,</td>
      </tr>
      <tr>
        <td id="L1011" class="blob-num js-line-number" data-line-number="1011"></td>
        <td id="LC1011" class="blob-code js-file-line">      &quot;plt.legend()&quot;</td>
      </tr>
      <tr>
        <td id="L1012" class="blob-num js-line-number" data-line-number="1012"></td>
        <td id="LC1012" class="blob-code js-file-line">     ],</td>
      </tr>
      <tr>
        <td id="L1013" class="blob-num js-line-number" data-line-number="1013"></td>
        <td id="LC1013" class="blob-code js-file-line">     &quot;language&quot;: &quot;python&quot;,</td>
      </tr>
      <tr>
        <td id="L1014" class="blob-num js-line-number" data-line-number="1014"></td>
        <td id="LC1014" class="blob-code js-file-line">     &quot;metadata&quot;: {},</td>
      </tr>
      <tr>
        <td id="L1015" class="blob-num js-line-number" data-line-number="1015"></td>
        <td id="LC1015" class="blob-code js-file-line">     &quot;outputs&quot;: [</td>
      </tr>
      <tr>
        <td id="L1016" class="blob-num js-line-number" data-line-number="1016"></td>
        <td id="LC1016" class="blob-code js-file-line">      {</td>
      </tr>
      <tr>
        <td id="L1017" class="blob-num js-line-number" data-line-number="1017"></td>
        <td id="LC1017" class="blob-code js-file-line">       &quot;metadata&quot;: {},</td>
      </tr>
      <tr>
        <td id="L1018" class="blob-num js-line-number" data-line-number="1018"></td>
        <td id="LC1018" class="blob-code js-file-line">       &quot;output_type&quot;: &quot;pyout&quot;,</td>
      </tr>
      <tr>
        <td id="L1019" class="blob-num js-line-number" data-line-number="1019"></td>
        <td id="LC1019" class="blob-code js-file-line">       &quot;prompt_number&quot;: 54,</td>
      </tr>
      <tr>
        <td id="L1020" class="blob-num js-line-number" data-line-number="1020"></td>
        <td id="LC1020" class="blob-code js-file-line">       &quot;text&quot;: [</td>
      </tr>
      <tr>
        <td id="L1021" class="blob-num js-line-number" data-line-number="1021"></td>
        <td id="LC1021" class="blob-code js-file-line">        &quot;&lt;matplotlib.legend.Legend at 0x110710750&gt;&quot;</td>
      </tr>
      <tr>
        <td id="L1022" class="blob-num js-line-number" data-line-number="1022"></td>
        <td id="LC1022" class="blob-code js-file-line">       ]</td>
      </tr>
      <tr>
        <td id="L1023" class="blob-num js-line-number" data-line-number="1023"></td>
        <td id="LC1023" class="blob-code js-file-line">      },</td>
      </tr>
      <tr>
        <td id="L1024" class="blob-num js-line-number" data-line-number="1024"></td>
        <td id="LC1024" class="blob-code js-file-line">      {</td>
      </tr>
      <tr>
        <td id="L1025" class="blob-num js-line-number" data-line-number="1025"></td>
        <td id="LC1025" class="blob-code js-file-line">       &quot;metadata&quot;: {},</td>
      </tr>
      <tr>
        <td id="L1026" class="blob-num js-line-number" data-line-number="1026"></td>
        <td id="LC1026" class="blob-code js-file-line">       &quot;output_type&quot;: &quot;display_data&quot;,</td>
      </tr>
      <tr>
        <td id="L1027" class="blob-num js-line-number" data-line-number="1027"></td>
        <td id="LC1027" class="blob-code js-file-line">       &quot;png&quot;: &quot;iVBORw0KGgoAAAANSUhEUgAAAXQAAAFVCAYAAAD/kxTAAAAABHNCSVQICAgIfAhkiAAAAAlwSFlz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\nIWyEFHQhhLAR/w9Wa6exUcVySAAAAABJRU5ErkJggg==\n&quot;,</td>
      </tr>
      <tr>
        <td id="L1028" class="blob-num js-line-number" data-line-number="1028"></td>
        <td id="LC1028" class="blob-code js-file-line">       &quot;text&quot;: [</td>
      </tr>
      <tr>
        <td id="L1029" class="blob-num js-line-number" data-line-number="1029"></td>
        <td id="LC1029" class="blob-code js-file-line">        &quot;&lt;matplotlib.figure.Figure at 0x110716c50&gt;&quot;</td>
      </tr>
      <tr>
        <td id="L1030" class="blob-num js-line-number" data-line-number="1030"></td>
        <td id="LC1030" class="blob-code js-file-line">       ]</td>
      </tr>
      <tr>
        <td id="L1031" class="blob-num js-line-number" data-line-number="1031"></td>
        <td id="LC1031" class="blob-code js-file-line">      }</td>
      </tr>
      <tr>
        <td id="L1032" class="blob-num js-line-number" data-line-number="1032"></td>
        <td id="LC1032" class="blob-code js-file-line">     ],</td>
      </tr>
      <tr>
        <td id="L1033" class="blob-num js-line-number" data-line-number="1033"></td>
        <td id="LC1033" class="blob-code js-file-line">     &quot;prompt_number&quot;: 54</td>
      </tr>
      <tr>
        <td id="L1034" class="blob-num js-line-number" data-line-number="1034"></td>
        <td id="LC1034" class="blob-code js-file-line">    },</td>
      </tr>
      <tr>
        <td id="L1035" class="blob-num js-line-number" data-line-number="1035"></td>
        <td id="LC1035" class="blob-code js-file-line">    {</td>
      </tr>
      <tr>
        <td id="L1036" class="blob-num js-line-number" data-line-number="1036"></td>
        <td id="LC1036" class="blob-code js-file-line">     &quot;cell_type&quot;: &quot;code&quot;,</td>
      </tr>
      <tr>
        <td id="L1037" class="blob-num js-line-number" data-line-number="1037"></td>
        <td id="LC1037" class="blob-code js-file-line">     &quot;collapsed&quot;: false,</td>
      </tr>
      <tr>
        <td id="L1038" class="blob-num js-line-number" data-line-number="1038"></td>
        <td id="LC1038" class="blob-code js-file-line">     &quot;input&quot;: [],</td>
      </tr>
      <tr>
        <td id="L1039" class="blob-num js-line-number" data-line-number="1039"></td>
        <td id="LC1039" class="blob-code js-file-line">     &quot;language&quot;: &quot;python&quot;,</td>
      </tr>
      <tr>
        <td id="L1040" class="blob-num js-line-number" data-line-number="1040"></td>
        <td id="LC1040" class="blob-code js-file-line">     &quot;metadata&quot;: {},</td>
      </tr>
      <tr>
        <td id="L1041" class="blob-num js-line-number" data-line-number="1041"></td>
        <td id="LC1041" class="blob-code js-file-line">     &quot;outputs&quot;: []</td>
      </tr>
      <tr>
        <td id="L1042" class="blob-num js-line-number" data-line-number="1042"></td>
        <td id="LC1042" class="blob-code js-file-line">    }</td>
      </tr>
      <tr>
        <td id="L1043" class="blob-num js-line-number" data-line-number="1043"></td>
        <td id="LC1043" class="blob-code js-file-line">   ],</td>
      </tr>
      <tr>
        <td id="L1044" class="blob-num js-line-number" data-line-number="1044"></td>
        <td id="LC1044" class="blob-code js-file-line">   &quot;metadata&quot;: {}</td>
      </tr>
      <tr>
        <td id="L1045" class="blob-num js-line-number" data-line-number="1045"></td>
        <td id="LC1045" class="blob-code js-file-line">  }</td>
      </tr>
      <tr>
        <td id="L1046" class="blob-num js-line-number" data-line-number="1046"></td>
        <td id="LC1046" class="blob-code js-file-line"> ]</td>
      </tr>
      <tr>
        <td id="L1047" class="blob-num js-line-number" data-line-number="1047"></td>
        <td id="LC1047" class="blob-code js-file-line">}</td>
      </tr>
</table>

  </div>

</div>

<a href="#jump-to-line" rel="facebox[.linejump]" data-hotkey="l" style="display:none">Jump to Line</a>
<div id="jump-to-line" style="display:none">
  <form accept-charset="UTF-8" action="" class="js-jump-to-line-form" method="get"><div style="margin:0;padding:0;display:inline"><input name="utf8" type="hidden" value="&#x2713;" /></div>
    <input class="linejump-input js-jump-to-line-field" type="text" placeholder="Jump to line&hellip;" autofocus>
    <button type="submit" class="btn">Go</button>
</form></div>

        </div>

      </div><!-- /.repo-container -->
      <div class="modal-backdrop"></div>
    </div><!-- /.container -->
  </div><!-- /.site -->


    </div><!-- /.wrapper -->

      <div class="container">
  <div class="site-footer" role="contentinfo">
    <ul class="site-footer-links right">
        <li><a href="https://status.github.com/" data-ga-click="Footer, go to status, text:status">Status</a></li>
      <li><a href="https://developer.github.com" data-ga-click="Footer, go to api, text:api">API</a></li>
      <li><a href="https://training.github.com" data-ga-click="Footer, go to training, text:training">Training</a></li>
      <li><a href="https://shop.github.com" data-ga-click="Footer, go to shop, text:shop">Shop</a></li>
        <li><a href="https://github.com/blog" data-ga-click="Footer, go to blog, text:blog">Blog</a></li>
        <li><a href="https://github.com/about" data-ga-click="Footer, go to about, text:about">About</a></li>

    </ul>

    <a href="https://github.com" aria-label="Homepage">
      <span class="mega-octicon octicon-mark-github" title="GitHub"></span>
</a>
    <ul class="site-footer-links">
      <li>&copy; 2015 <span title="0.08233s from github-fe129-cp1-prd.iad.github.net">GitHub</span>, Inc.</li>
        <li><a href="https://github.com/site/terms" data-ga-click="Footer, go to terms, text:terms">Terms</a></li>
        <li><a href="https://github.com/site/privacy" data-ga-click="Footer, go to privacy, text:privacy">Privacy</a></li>
        <li><a href="https://github.com/security" data-ga-click="Footer, go to security, text:security">Security</a></li>
        <li><a href="https://github.com/contact" data-ga-click="Footer, go to contact, text:contact">Contact</a></li>
    </ul>
  </div>
</div>


    <div class="fullscreen-overlay js-fullscreen-overlay" id="fullscreen_overlay">
  <div class="fullscreen-container js-suggester-container">
    <div class="textarea-wrap">
      <textarea name="fullscreen-contents" id="fullscreen-contents" class="fullscreen-contents js-fullscreen-contents" placeholder=""></textarea>
      <div class="suggester-container">
        <div class="suggester fullscreen-suggester js-suggester js-navigation-container"></div>
      </div>
    </div>
  </div>
  <div class="fullscreen-sidebar">
    <a href="#" class="exit-fullscreen js-exit-fullscreen tooltipped tooltipped-w" aria-label="Exit Zen Mode">
      <span class="mega-octicon octicon-screen-normal"></span>
    </a>
    <a href="#" class="theme-switcher js-theme-switcher tooltipped tooltipped-w"
      aria-label="Switch themes">
      <span class="octicon octicon-color-mode"></span>
    </a>
  </div>
</div>



    
    

    <div id="ajax-error-message" class="flash flash-error">
      <span class="octicon octicon-alert"></span>
      <a href="#" class="octicon octicon-x flash-close js-ajax-error-dismiss" aria-label="Dismiss error"></a>
      Something went wrong with that request. Please try again.
    </div>


      <script crossorigin="anonymous" src="https://assets-cdn.github.com/assets/frameworks-d22b59d0085e83b7549ba4341ec9e68f80c2f29c8e49213ee182003dc8d568c6.js"></script>
      <script async="async" crossorigin="anonymous" src="https://assets-cdn.github.com/assets/github-2c46bf7af744168851951e2fa4f404675a09c3d3f5b8ec92e4d28c3238de7936.js"></script>
      
      

  </body>
</html>

