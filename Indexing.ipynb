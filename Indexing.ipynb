{
 "metadata": {
  "name": "",
  "signature": "sha256:d299084b304db068f8d4134a49d8505bdef4aa62a86931a6cdc7a13a7ea40f43"
 },
 "nbformat": 3,
 "nbformat_minor": 0,
 "worksheets": [
  {
   "cells": [
    {
     "cell_type": "code",
     "collapsed": false,
     "input": [
      "import pandas as pd"
     ],
     "language": "python",
     "metadata": {},
     "outputs": [],
     "prompt_number": 83
    },
    {
     "cell_type": "heading",
     "level": 1,
     "metadata": {},
     "source": [
      "Different ways of indexing in Pandas"
     ]
    },
    {
     "cell_type": "markdown",
     "metadata": {},
     "source": [
      "**df[val]**: Select single column or sequence of columns from the DataFrame. \n",
      "\n",
      "\n",
      "**df.ix[val]**: Selects single row of subset of rows from the DataFrame.\n",
      "\n",
      "**df.ix[:, val]**: Selects single column of subset of columns.\n",
      "\n",
      "**obj.ix[val1, val2]**: Select both rows and columns.\n",
      "\n",
      "**xs()**: Select single row or column as a Series by label."
     ]
    },
    {
     "cell_type": "code",
     "collapsed": false,
     "input": [
      "df = DataFrame({\"income\":[2000, 5000, 9000, 13000],\n",
      "                \"spendings\":[1000, 1500, 1600, 1700],\n",
      "                \"Notes\":[\"started data\", \"something else\", \"good\", \"wooo\"]},\n",
      "               index=[1989, 1990, 1991, 1992])\n",
      "df"
     ],
     "language": "python",
     "metadata": {},
     "outputs": [
      {
       "html": [
        "<div style=\"max-height:1000px;max-width:1500px;overflow:auto;\">\n",
        "<table border=\"1\" class=\"dataframe\">\n",
        "  <thead>\n",
        "    <tr style=\"text-align: right;\">\n",
        "      <th></th>\n",
        "      <th>Notes</th>\n",
        "      <th>income</th>\n",
        "      <th>spendings</th>\n",
        "    </tr>\n",
        "  </thead>\n",
        "  <tbody>\n",
        "    <tr>\n",
        "      <th>1989</th>\n",
        "      <td>   started data</td>\n",
        "      <td>  2000</td>\n",
        "      <td> 1000</td>\n",
        "    </tr>\n",
        "    <tr>\n",
        "      <th>1990</th>\n",
        "      <td> something else</td>\n",
        "      <td>  5000</td>\n",
        "      <td> 1500</td>\n",
        "    </tr>\n",
        "    <tr>\n",
        "      <th>1991</th>\n",
        "      <td>           good</td>\n",
        "      <td>  9000</td>\n",
        "      <td> 1600</td>\n",
        "    </tr>\n",
        "    <tr>\n",
        "      <th>1992</th>\n",
        "      <td>           wooo</td>\n",
        "      <td> 13000</td>\n",
        "      <td> 1700</td>\n",
        "    </tr>\n",
        "  </tbody>\n",
        "</table>\n",
        "</div>"
       ],
       "metadata": {},
       "output_type": "pyout",
       "prompt_number": 42,
       "text": [
        "               Notes  income  spendings\n",
        "1989    started data    2000       1000\n",
        "1990  something else    5000       1500\n",
        "1991            good    9000       1600\n",
        "1992            wooo   13000       1700"
       ]
      }
     ],
     "prompt_number": 42
    },
    {
     "cell_type": "markdown",
     "metadata": {},
     "source": [
      "**df[val]**\n",
      "\n",
      "Select single column or sequence of columns from the DataFrame. \n",
      "\n",
      "Special case con-veniences: boolean array (filter rows), slice (slice rows), or boolean DataFrame (set\n",
      "values based on some criterion). "
     ]
    },
    {
     "cell_type": "code",
     "collapsed": false,
     "input": [
      "df[\"income\"]"
     ],
     "language": "python",
     "metadata": {},
     "outputs": [
      {
       "metadata": {},
       "output_type": "pyout",
       "prompt_number": 25,
       "text": [
        "1989     2000\n",
        "1990     5000\n",
        "1991     9000\n",
        "1992    13000\n",
        "Name: income, dtype: int64"
       ]
      }
     ],
     "prompt_number": 25
    },
    {
     "cell_type": "code",
     "collapsed": false,
     "input": [
      "df[[\"income\",\"spendings\"]]"
     ],
     "language": "python",
     "metadata": {},
     "outputs": [
      {
       "html": [
        "<div style=\"max-height:1000px;max-width:1500px;overflow:auto;\">\n",
        "<table border=\"1\" class=\"dataframe\">\n",
        "  <thead>\n",
        "    <tr style=\"text-align: right;\">\n",
        "      <th></th>\n",
        "      <th>income</th>\n",
        "      <th>spendings</th>\n",
        "    </tr>\n",
        "  </thead>\n",
        "  <tbody>\n",
        "    <tr>\n",
        "      <th>1989</th>\n",
        "      <td>  2000</td>\n",
        "      <td> 1000</td>\n",
        "    </tr>\n",
        "    <tr>\n",
        "      <th>1990</th>\n",
        "      <td>  5000</td>\n",
        "      <td> 1500</td>\n",
        "    </tr>\n",
        "    <tr>\n",
        "      <th>1991</th>\n",
        "      <td>  9000</td>\n",
        "      <td> 1600</td>\n",
        "    </tr>\n",
        "    <tr>\n",
        "      <th>1992</th>\n",
        "      <td> 13000</td>\n",
        "      <td> 1700</td>\n",
        "    </tr>\n",
        "  </tbody>\n",
        "</table>\n",
        "</div>"
       ],
       "metadata": {},
       "output_type": "pyout",
       "prompt_number": 26,
       "text": [
        "      income  spendings\n",
        "1989    2000       1000\n",
        "1990    5000       1500\n",
        "1991    9000       1600\n",
        "1992   13000       1700"
       ]
      }
     ],
     "prompt_number": 26
    },
    {
     "cell_type": "code",
     "collapsed": false,
     "input": [
      "df[:2]"
     ],
     "language": "python",
     "metadata": {},
     "outputs": [
      {
       "html": [
        "<div style=\"max-height:1000px;max-width:1500px;overflow:auto;\">\n",
        "<table border=\"1\" class=\"dataframe\">\n",
        "  <thead>\n",
        "    <tr style=\"text-align: right;\">\n",
        "      <th></th>\n",
        "      <th>Notes</th>\n",
        "      <th>income</th>\n",
        "      <th>spendings</th>\n",
        "    </tr>\n",
        "  </thead>\n",
        "  <tbody>\n",
        "    <tr>\n",
        "      <th>1989</th>\n",
        "      <td>   started data</td>\n",
        "      <td> 2000</td>\n",
        "      <td> 1000</td>\n",
        "    </tr>\n",
        "    <tr>\n",
        "      <th>1990</th>\n",
        "      <td> something else</td>\n",
        "      <td> 5000</td>\n",
        "      <td> 1500</td>\n",
        "    </tr>\n",
        "  </tbody>\n",
        "</table>\n",
        "</div>"
       ],
       "metadata": {},
       "output_type": "pyout",
       "prompt_number": 27,
       "text": [
        "               Notes  income  spendings\n",
        "1989    started data    2000       1000\n",
        "1990  something else    5000       1500"
       ]
      }
     ],
     "prompt_number": 27
    },
    {
     "cell_type": "code",
     "collapsed": false,
     "input": [
      "df[ df[\"income\"] > 5000 ]"
     ],
     "language": "python",
     "metadata": {},
     "outputs": [
      {
       "html": [
        "<div style=\"max-height:1000px;max-width:1500px;overflow:auto;\">\n",
        "<table border=\"1\" class=\"dataframe\">\n",
        "  <thead>\n",
        "    <tr style=\"text-align: right;\">\n",
        "      <th></th>\n",
        "      <th>Notes</th>\n",
        "      <th>income</th>\n",
        "      <th>spendings</th>\n",
        "    </tr>\n",
        "  </thead>\n",
        "  <tbody>\n",
        "    <tr>\n",
        "      <th>1991</th>\n",
        "      <td> good</td>\n",
        "      <td>  9000</td>\n",
        "      <td> 1600</td>\n",
        "    </tr>\n",
        "    <tr>\n",
        "      <th>1992</th>\n",
        "      <td> wooo</td>\n",
        "      <td> 13000</td>\n",
        "      <td> 1700</td>\n",
        "    </tr>\n",
        "  </tbody>\n",
        "</table>\n",
        "</div>"
       ],
       "metadata": {},
       "output_type": "pyout",
       "prompt_number": 28,
       "text": [
        "     Notes  income  spendings\n",
        "1991  good    9000       1600\n",
        "1992  wooo   13000       1700"
       ]
      }
     ],
     "prompt_number": 28
    },
    {
     "cell_type": "markdown",
     "metadata": {},
     "source": [
      "**df.ix[val]**\n",
      "\n",
      "Selects single row of subset of rows from the DataFrame."
     ]
    },
    {
     "cell_type": "code",
     "collapsed": false,
     "input": [
      "df.ix[1992]"
     ],
     "language": "python",
     "metadata": {},
     "outputs": [
      {
       "metadata": {},
       "output_type": "pyout",
       "prompt_number": 32,
       "text": [
        "Notes         wooo\n",
        "income       13000\n",
        "spendings     1700\n",
        "Name: 1992, dtype: object"
       ]
      }
     ],
     "prompt_number": 32
    },
    {
     "cell_type": "markdown",
     "metadata": {},
     "source": [
      "**df.ix[:, val]**\n",
      "\n",
      "Selects single column of subset of columns."
     ]
    },
    {
     "cell_type": "code",
     "collapsed": false,
     "input": [
      "df.ix[:, \"income\"]"
     ],
     "language": "python",
     "metadata": {},
     "outputs": [
      {
       "metadata": {},
       "output_type": "pyout",
       "prompt_number": 36,
       "text": [
        "1989     2000\n",
        "1990     5000\n",
        "1991     9000\n",
        "1992    13000\n",
        "Name: income, dtype: int64"
       ]
      }
     ],
     "prompt_number": 36
    },
    {
     "cell_type": "markdown",
     "metadata": {},
     "source": [
      "**obj.ix[val1, val2]**\n",
      "\n",
      "Select both rows and columns."
     ]
    },
    {
     "cell_type": "code",
     "collapsed": false,
     "input": [
      "df.ix[1990:1991, \"income\":]"
     ],
     "language": "python",
     "metadata": {},
     "outputs": [
      {
       "html": [
        "<div style=\"max-height:1000px;max-width:1500px;overflow:auto;\">\n",
        "<table border=\"1\" class=\"dataframe\">\n",
        "  <thead>\n",
        "    <tr style=\"text-align: right;\">\n",
        "      <th></th>\n",
        "      <th>income</th>\n",
        "      <th>spendings</th>\n",
        "    </tr>\n",
        "  </thead>\n",
        "  <tbody>\n",
        "    <tr>\n",
        "      <th>1990</th>\n",
        "      <td> 5000</td>\n",
        "      <td> 1500</td>\n",
        "    </tr>\n",
        "    <tr>\n",
        "      <th>1991</th>\n",
        "      <td> 9000</td>\n",
        "      <td> 1600</td>\n",
        "    </tr>\n",
        "  </tbody>\n",
        "</table>\n",
        "</div>"
       ],
       "metadata": {},
       "output_type": "pyout",
       "prompt_number": 35,
       "text": [
        "      income  spendings\n",
        "1990    5000       1500\n",
        "1991    9000       1600"
       ]
      }
     ],
     "prompt_number": 35
    },
    {
     "cell_type": "markdown",
     "metadata": {},
     "source": [
      "**xs** method \n",
      "\n",
      "Select single row or column as a Series by label."
     ]
    },
    {
     "cell_type": "code",
     "collapsed": false,
     "input": [
      "df.xs(1991)"
     ],
     "language": "python",
     "metadata": {},
     "outputs": [
      {
       "metadata": {},
       "output_type": "pyout",
       "prompt_number": 48,
       "text": [
        "Notes        good\n",
        "income       9000\n",
        "spendings    1600\n",
        "Name: 1991, dtype: object"
       ]
      }
     ],
     "prompt_number": 48
    },
    {
     "cell_type": "code",
     "collapsed": false,
     "input": [
      "df.xs(\"income\", axis=1)"
     ],
     "language": "python",
     "metadata": {},
     "outputs": [
      {
       "metadata": {},
       "output_type": "pyout",
       "prompt_number": 46,
       "text": [
        "1989     2000\n",
        "1990     5000\n",
        "1991     9000\n",
        "1992    13000\n",
        "Name: income, dtype: int64"
       ]
      }
     ],
     "prompt_number": 46
    },
    {
     "cell_type": "markdown",
     "metadata": {},
     "source": [
      "---------------------------------------------------------\n",
      "**icol**, **irow** methods\n",
      "\n",
      "Select single column or row, respectively, as a Series by integer location."
     ]
    },
    {
     "cell_type": "code",
     "collapsed": false,
     "input": [
      "df.icol(0)"
     ],
     "language": "python",
     "metadata": {},
     "outputs": [
      {
       "metadata": {},
       "output_type": "pyout",
       "prompt_number": 53,
       "text": [
        "1989      started data\n",
        "1990    something else\n",
        "1991              good\n",
        "1992              wooo\n",
        "Name: Notes, dtype: object"
       ]
      }
     ],
     "prompt_number": 53
    },
    {
     "cell_type": "code",
     "collapsed": false,
     "input": [
      "df.irow(-1)"
     ],
     "language": "python",
     "metadata": {},
     "outputs": [
      {
       "metadata": {},
       "output_type": "pyout",
       "prompt_number": 55,
       "text": [
        "Notes         wooo\n",
        "income       13000\n",
        "spendings     1700\n",
        "Name: 1992, dtype: object"
       ]
      }
     ],
     "prompt_number": 55
    },
    {
     "cell_type": "markdown",
     "metadata": {},
     "source": [
      "--------------------------\n",
      "**get_value**, **set_value**\n",
      "\n",
      "methods Select single value by row and column label."
     ]
    },
    {
     "cell_type": "code",
     "collapsed": false,
     "input": [
      "df.get_value(1991, \"income\")"
     ],
     "language": "python",
     "metadata": {},
     "outputs": [
      {
       "metadata": {},
       "output_type": "pyout",
       "prompt_number": 58,
       "text": [
        "9000"
       ]
      }
     ],
     "prompt_number": 58
    },
    {
     "cell_type": "code",
     "collapsed": false,
     "input": [
      "df.set_value(1991, \"income\", 9999999)"
     ],
     "language": "python",
     "metadata": {},
     "outputs": [
      {
       "html": [
        "<div style=\"max-height:1000px;max-width:1500px;overflow:auto;\">\n",
        "<table border=\"1\" class=\"dataframe\">\n",
        "  <thead>\n",
        "    <tr style=\"text-align: right;\">\n",
        "      <th></th>\n",
        "      <th>Notes</th>\n",
        "      <th>income</th>\n",
        "      <th>spendings</th>\n",
        "    </tr>\n",
        "  </thead>\n",
        "  <tbody>\n",
        "    <tr>\n",
        "      <th>1989</th>\n",
        "      <td>   started data</td>\n",
        "      <td>    2000</td>\n",
        "      <td> 1000</td>\n",
        "    </tr>\n",
        "    <tr>\n",
        "      <th>1990</th>\n",
        "      <td> something else</td>\n",
        "      <td>    5000</td>\n",
        "      <td> 1500</td>\n",
        "    </tr>\n",
        "    <tr>\n",
        "      <th>1991</th>\n",
        "      <td>           good</td>\n",
        "      <td> 9999999</td>\n",
        "      <td> 1600</td>\n",
        "    </tr>\n",
        "    <tr>\n",
        "      <th>1992</th>\n",
        "      <td>           wooo</td>\n",
        "      <td>   13000</td>\n",
        "      <td> 1700</td>\n",
        "    </tr>\n",
        "  </tbody>\n",
        "</table>\n",
        "</div>"
       ],
       "metadata": {},
       "output_type": "pyout",
       "prompt_number": 59,
       "text": [
        "               Notes   income  spendings\n",
        "1989    started data     2000       1000\n",
        "1990  something else     5000       1500\n",
        "1991            good  9999999       1600\n",
        "1992            wooo    13000       1700"
       ]
      }
     ],
     "prompt_number": 59
    },
    {
     "cell_type": "code",
     "collapsed": false,
     "input": [
      "df"
     ],
     "language": "python",
     "metadata": {},
     "outputs": [
      {
       "html": [
        "<div style=\"max-height:1000px;max-width:1500px;overflow:auto;\">\n",
        "<table border=\"1\" class=\"dataframe\">\n",
        "  <thead>\n",
        "    <tr style=\"text-align: right;\">\n",
        "      <th></th>\n",
        "      <th>Notes</th>\n",
        "      <th>income</th>\n",
        "      <th>spendings</th>\n",
        "    </tr>\n",
        "  </thead>\n",
        "  <tbody>\n",
        "    <tr>\n",
        "      <th>1989</th>\n",
        "      <td>   started data</td>\n",
        "      <td>    2000</td>\n",
        "      <td> 1000</td>\n",
        "    </tr>\n",
        "    <tr>\n",
        "      <th>1990</th>\n",
        "      <td> something else</td>\n",
        "      <td>    5000</td>\n",
        "      <td> 1500</td>\n",
        "    </tr>\n",
        "    <tr>\n",
        "      <th>1991</th>\n",
        "      <td>           good</td>\n",
        "      <td> 9999999</td>\n",
        "      <td> 1600</td>\n",
        "    </tr>\n",
        "    <tr>\n",
        "      <th>1992</th>\n",
        "      <td>           wooo</td>\n",
        "      <td>   13000</td>\n",
        "      <td> 1700</td>\n",
        "    </tr>\n",
        "  </tbody>\n",
        "</table>\n",
        "</div>"
       ],
       "metadata": {},
       "output_type": "pyout",
       "prompt_number": 61,
       "text": [
        "               Notes   income  spendings\n",
        "1989    started data     2000       1000\n",
        "1990  something else     5000       1500\n",
        "1991            good  9999999       1600\n",
        "1992            wooo    13000       1700"
       ]
      }
     ],
     "prompt_number": 61
    },
    {
     "cell_type": "heading",
     "level": 1,
     "metadata": {},
     "source": [
      "Naming and Renaming"
     ]
    },
    {
     "cell_type": "code",
     "collapsed": false,
     "input": [
      "df"
     ],
     "language": "python",
     "metadata": {},
     "outputs": [
      {
       "html": [
        "<div style=\"max-height:1000px;max-width:1500px;overflow:auto;\">\n",
        "<table border=\"1\" class=\"dataframe\">\n",
        "  <thead>\n",
        "    <tr style=\"text-align: right;\">\n",
        "      <th></th>\n",
        "      <th>Notes</th>\n",
        "      <th>income</th>\n",
        "      <th>spendings</th>\n",
        "    </tr>\n",
        "  </thead>\n",
        "  <tbody>\n",
        "    <tr>\n",
        "      <th>1989</th>\n",
        "      <td>   started data</td>\n",
        "      <td>    2000</td>\n",
        "      <td> 1000</td>\n",
        "    </tr>\n",
        "    <tr>\n",
        "      <th>1990</th>\n",
        "      <td> something else</td>\n",
        "      <td>    5000</td>\n",
        "      <td> 1500</td>\n",
        "    </tr>\n",
        "    <tr>\n",
        "      <th>1991</th>\n",
        "      <td>           good</td>\n",
        "      <td> 9999999</td>\n",
        "      <td> 1600</td>\n",
        "    </tr>\n",
        "    <tr>\n",
        "      <th>1992</th>\n",
        "      <td>           wooo</td>\n",
        "      <td>   13000</td>\n",
        "      <td> 1700</td>\n",
        "    </tr>\n",
        "  </tbody>\n",
        "</table>\n",
        "</div>"
       ],
       "metadata": {},
       "output_type": "pyout",
       "prompt_number": 81,
       "text": [
        "               Notes   income  spendings\n",
        "1989    started data     2000       1000\n",
        "1990  something else     5000       1500\n",
        "1991            good  9999999       1600\n",
        "1992            wooo    13000       1700"
       ]
      }
     ],
     "prompt_number": 81
    },
    {
     "cell_type": "code",
     "collapsed": false,
     "input": [
      "df.set_index(\"Notes\")"
     ],
     "language": "python",
     "metadata": {},
     "outputs": [
      {
       "html": [
        "<div style=\"max-height:1000px;max-width:1500px;overflow:auto;\">\n",
        "<table border=\"1\" class=\"dataframe\">\n",
        "  <thead>\n",
        "    <tr style=\"text-align: right;\">\n",
        "      <th></th>\n",
        "      <th>income</th>\n",
        "      <th>spendings</th>\n",
        "    </tr>\n",
        "    <tr>\n",
        "      <th>Notes</th>\n",
        "      <th></th>\n",
        "      <th></th>\n",
        "    </tr>\n",
        "  </thead>\n",
        "  <tbody>\n",
        "    <tr>\n",
        "      <th>started data</th>\n",
        "      <td>    2000</td>\n",
        "      <td> 1000</td>\n",
        "    </tr>\n",
        "    <tr>\n",
        "      <th>something else</th>\n",
        "      <td>    5000</td>\n",
        "      <td> 1500</td>\n",
        "    </tr>\n",
        "    <tr>\n",
        "      <th>good</th>\n",
        "      <td> 9999999</td>\n",
        "      <td> 1600</td>\n",
        "    </tr>\n",
        "    <tr>\n",
        "      <th>wooo</th>\n",
        "      <td>   13000</td>\n",
        "      <td> 1700</td>\n",
        "    </tr>\n",
        "  </tbody>\n",
        "</table>\n",
        "</div>"
       ],
       "metadata": {},
       "output_type": "pyout",
       "prompt_number": 82,
       "text": [
        "                 income  spendings\n",
        "Notes                             \n",
        "started data       2000       1000\n",
        "something else     5000       1500\n",
        "good            9999999       1600\n",
        "wooo              13000       1700"
       ]
      }
     ],
     "prompt_number": 82
    }
   ],
   "metadata": {}
  }
 ]
}