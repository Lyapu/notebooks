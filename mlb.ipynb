{
 "metadata": {
  "name": "",
  "signature": "sha256:c2b20c8a7399611a7e04c8ebfe259e9b5537eff13abe76dbf21bf9cff660da3a"
 },
 "nbformat": 3,
 "nbformat_minor": 0,
 "worksheets": [
  {
   "cells": [
    {
     "cell_type": "code",
     "collapsed": false,
     "input": [
      "import numpy as np\n",
      "from numpy.random import randn\n",
      "import pandas as pd\n",
      "from scipy import stats\n",
      "import matplotlib as mpl\n",
      "import matplotlib.pyplot as plt\n",
      "import seaborn as sns\n",
      "from pandas import DataFrame\n",
      "import dateutil.parser\n",
      "import datetime  \n",
      "%matplotlib inline\n",
      "sns.axes_style(\"darkgrid\");\n",
      "sns.set_palette(\"deep\", desat=0.6)\n",
      "sns.set_context(rc={\"figure.figsize\":(15,6)})"
     ],
     "language": "python",
     "metadata": {},
     "outputs": [],
     "prompt_number": 20
    },
    {
     "cell_type": "code",
     "collapsed": false,
     "input": [
      "mlb = pd.read_csv(\"https://raw.githubusercontent.com/alfredessa/pdacookbook/master/data/mlbsalaries.csv\")"
     ],
     "language": "python",
     "metadata": {},
     "outputs": [],
     "prompt_number": 21
    },
    {
     "cell_type": "code",
     "collapsed": false,
     "input": [
      "mlb.head()"
     ],
     "language": "python",
     "metadata": {},
     "outputs": [
      {
       "html": [
        "<div style=\"max-height:1000px;max-width:1500px;overflow:auto;\">\n",
        "<table border=\"1\" class=\"dataframe\">\n",
        "  <thead>\n",
        "    <tr style=\"text-align: right;\">\n",
        "      <th></th>\n",
        "      <th>Year</th>\n",
        "      <th>Player</th>\n",
        "      <th>Salary</th>\n",
        "      <th>Position</th>\n",
        "      <th>Team</th>\n",
        "    </tr>\n",
        "  </thead>\n",
        "  <tbody>\n",
        "    <tr>\n",
        "      <th>0</th>\n",
        "      <td> 1988</td>\n",
        "      <td>       Mike Witt</td>\n",
        "      <td> 1400000</td>\n",
        "      <td>           Pitcher</td>\n",
        "      <td> Los Angeles Angels</td>\n",
        "    </tr>\n",
        "    <tr>\n",
        "      <th>1</th>\n",
        "      <td> 1988</td>\n",
        "      <td> George Hendrick</td>\n",
        "      <td>  989333</td>\n",
        "      <td>        Outfielder</td>\n",
        "      <td> Los Angeles Angels</td>\n",
        "    </tr>\n",
        "    <tr>\n",
        "      <th>2</th>\n",
        "      <td> 1988</td>\n",
        "      <td>     Chili Davis</td>\n",
        "      <td>  950000</td>\n",
        "      <td>        Outfielder</td>\n",
        "      <td> Los Angeles Angels</td>\n",
        "    </tr>\n",
        "    <tr>\n",
        "      <th>3</th>\n",
        "      <td> 1988</td>\n",
        "      <td>   Brian Downing</td>\n",
        "      <td>  900000</td>\n",
        "      <td> Designated Hitter</td>\n",
        "      <td> Los Angeles Angels</td>\n",
        "    </tr>\n",
        "    <tr>\n",
        "      <th>4</th>\n",
        "      <td> 1988</td>\n",
        "      <td>       Bob Boone</td>\n",
        "      <td>  883000</td>\n",
        "      <td>           Catcher</td>\n",
        "      <td> Los Angeles Angels</td>\n",
        "    </tr>\n",
        "  </tbody>\n",
        "</table>\n",
        "</div>"
       ],
       "metadata": {},
       "output_type": "pyout",
       "prompt_number": 110,
       "text": [
        "   Year           Player   Salary           Position                Team\n",
        "0  1988        Mike Witt  1400000            Pitcher  Los Angeles Angels\n",
        "1  1988  George Hendrick   989333         Outfielder  Los Angeles Angels\n",
        "2  1988      Chili Davis   950000         Outfielder  Los Angeles Angels\n",
        "3  1988    Brian Downing   900000  Designated Hitter  Los Angeles Angels\n",
        "4  1988        Bob Boone   883000            Catcher  Los Angeles Angels"
       ]
      }
     ],
     "prompt_number": 110
    },
    {
     "cell_type": "code",
     "collapsed": false,
     "input": [
      "mlb.columns"
     ],
     "language": "python",
     "metadata": {},
     "outputs": [
      {
       "metadata": {},
       "output_type": "pyout",
       "prompt_number": 111,
       "text": [
        "Index([u'Year', u'Player', u'Salary', u'Position', u'Team'], dtype='object')"
       ]
      }
     ],
     "prompt_number": 111
    },
    {
     "cell_type": "code",
     "collapsed": false,
     "input": [
      "#reorder columns\n",
      "mlb = mlb[[\"Player\", \"Team\", \"Position\", \"Salary\", \"Year\"]]"
     ],
     "language": "python",
     "metadata": {},
     "outputs": [],
     "prompt_number": 112
    },
    {
     "cell_type": "code",
     "collapsed": false,
     "input": [
      "#number of times each team appears\n",
      "mlb.Team.value_counts().head()"
     ],
     "language": "python",
     "metadata": {},
     "outputs": [
      {
       "metadata": {},
       "output_type": "pyout",
       "prompt_number": 113,
       "text": [
        "Texas Rangers            711\n",
        "Los Angeles Dodgers      698\n",
        "Los Angeles Angels       695\n",
        "Philadelphia Phillies    695\n",
        "St. Louis Cardinals      693\n",
        "dtype: int64"
       ]
      }
     ],
     "prompt_number": 113
    },
    {
     "cell_type": "code",
     "collapsed": false,
     "input": [
      "#sort by salary, then year\n",
      "mlb.sort_index(by=[\"Salary\", \"Year\"], ascending=False).head()"
     ],
     "language": "python",
     "metadata": {},
     "outputs": [
      {
       "html": [
        "<div style=\"max-height:1000px;max-width:1500px;overflow:auto;\">\n",
        "<table border=\"1\" class=\"dataframe\">\n",
        "  <thead>\n",
        "    <tr style=\"text-align: right;\">\n",
        "      <th></th>\n",
        "      <th>Player</th>\n",
        "      <th>Team</th>\n",
        "      <th>Position</th>\n",
        "      <th>Salary</th>\n",
        "      <th>Year</th>\n",
        "    </tr>\n",
        "  </thead>\n",
        "  <tbody>\n",
        "    <tr>\n",
        "      <th>18675</th>\n",
        "      <td> Alex Rodriguez</td>\n",
        "      <td>   New York Yankees</td>\n",
        "      <td> Third Baseman</td>\n",
        "      <td> 33000000</td>\n",
        "      <td> 2010</td>\n",
        "    </tr>\n",
        "    <tr>\n",
        "      <th>17846</th>\n",
        "      <td> Alex Rodriguez</td>\n",
        "      <td>   New York Yankees</td>\n",
        "      <td> Third Baseman</td>\n",
        "      <td> 33000000</td>\n",
        "      <td> 2009</td>\n",
        "    </tr>\n",
        "    <tr>\n",
        "      <th>19513</th>\n",
        "      <td> Alex Rodriguez</td>\n",
        "      <td>   New York Yankees</td>\n",
        "      <td> Third Baseman</td>\n",
        "      <td> 32000000</td>\n",
        "      <td> 2011</td>\n",
        "    </tr>\n",
        "    <tr>\n",
        "      <th>17023</th>\n",
        "      <td> Alex Rodriguez</td>\n",
        "      <td>   New York Yankees</td>\n",
        "      <td> Third Baseman</td>\n",
        "      <td> 28000000</td>\n",
        "      <td> 2008</td>\n",
        "    </tr>\n",
        "    <tr>\n",
        "      <th>18700</th>\n",
        "      <td>   Vernon Wells</td>\n",
        "      <td> Los Angeles Angels</td>\n",
        "      <td>    Outfielder</td>\n",
        "      <td> 26187500</td>\n",
        "      <td> 2011</td>\n",
        "    </tr>\n",
        "  </tbody>\n",
        "</table>\n",
        "</div>"
       ],
       "metadata": {},
       "output_type": "pyout",
       "prompt_number": 114,
       "text": [
        "               Player                Team       Position    Salary  Year\n",
        "18675  Alex Rodriguez    New York Yankees  Third Baseman  33000000  2010\n",
        "17846  Alex Rodriguez    New York Yankees  Third Baseman  33000000  2009\n",
        "19513  Alex Rodriguez    New York Yankees  Third Baseman  32000000  2011\n",
        "17023  Alex Rodriguez    New York Yankees  Third Baseman  28000000  2008\n",
        "18700    Vernon Wells  Los Angeles Angels     Outfielder  26187500  2011"
       ]
      }
     ],
     "prompt_number": 114
    },
    {
     "cell_type": "heading",
     "level": 1,
     "metadata": {},
     "source": [
      "pitcher with highest total salary"
     ]
    },
    {
     "cell_type": "code",
     "collapsed": false,
     "input": [
      "#get only the pitchers\n",
      "mask = mlb.Position == \"Pitcher\"\n",
      "pitchers = mlb[mask]\n",
      "\n",
      "#group the pitchers by name\n",
      "pitcher_groups = pitchers.groupby('Player')"
     ],
     "language": "python",
     "metadata": {},
     "outputs": [],
     "prompt_number": 115
    },
    {
     "cell_type": "code",
     "collapsed": false,
     "input": [
      "#sum the totals in each group\n",
      "pitcher_totals = pitcher_groups.sum()\n",
      "\n",
      "# find the largest total salary\n",
      "print pitcher_totals.Salary.max()\n",
      "print pitcher_totals.Salary.argmax()"
     ],
     "language": "python",
     "metadata": {},
     "outputs": [
      {
       "output_type": "stream",
       "stream": "stdout",
       "text": [
        "175450019\n",
        "Randy Johnson\n"
       ]
      }
     ],
     "prompt_number": 116
    },
    {
     "cell_type": "code",
     "collapsed": false,
     "input": [
      "p_totals = pitcher_groups['Salary'].sum()\n",
      "#print p_totals.head()\n",
      "print p_totals.max()\n",
      "print p_totals.argmax()\n"
     ],
     "language": "python",
     "metadata": {},
     "outputs": [
      {
       "output_type": "stream",
       "stream": "stdout",
       "text": [
        "175450019\n",
        "Randy Johnson\n"
       ]
      }
     ],
     "prompt_number": 119
    },
    {
     "cell_type": "code",
     "collapsed": false,
     "input": [
      "p_totals.sort(axis=1, ascending=False)\n",
      "#print p_totals\n",
      "p_totals[:10].plot()\n",
      "p_totals[:10].plot(style=\"o\")"
     ],
     "language": "python",
     "metadata": {},
     "outputs": [
      {
       "metadata": {},
       "output_type": "pyout",
       "prompt_number": 132,
       "text": [
        "<matplotlib.axes._subplots.AxesSubplot at 0x2026ada0>"
       ]
      },
      {
       "metadata": {},
       "output_type": "display_data",
       "png": "[encoded data removed]",
       "text": [
        "<matplotlib.figure.Figure at 0x1ffee898>"
       ]
      }
     ],
     "prompt_number": 132
    },
    {
     "cell_type": "heading",
     "level": 1,
     "metadata": {},
     "source": [
      "Highest total Salary at each position"
     ]
    },
    {
     "cell_type": "code",
     "collapsed": false,
     "input": [
      "gp = mlb.groupby(['Position','Player'])\n",
      "#gp.groups"
     ],
     "language": "python",
     "metadata": {},
     "outputs": [],
     "prompt_number": 152
    },
    {
     "cell_type": "code",
     "collapsed": false,
     "input": [
      "#sums = gp.sum()\n",
      "sums = gp.agg({\"Salary\":sum, \"Year\":lambda x: x.apply(str)})\n",
      "#print type(gp.sum())\n",
      "print sums.head()\n",
      "#print sums.index"
     ],
     "language": "python",
     "metadata": {},
     "outputs": [
      {
       "output_type": "stream",
       "stream": "stdout",
       "text": [
        "                            Salary  \\\n",
        "Position Player                      \n",
        "Catcher  A.J. Ellis         421000   \n",
        "         A.J. Hinch         690000   \n",
        "         A.J. Pierzynski  36925000   \n",
        "         Adam Melhuse      3007500   \n",
        "         Adam Moore         818500   \n",
        "\n",
        "                                                                       Year  \n",
        "Position Player                                                              \n",
        "Catcher  A.J. Ellis                                                    2011  \n",
        "         A.J. Hinch                                      [1998, 2001, 2002]  \n",
        "         A.J. Pierzynski  [2001, 2002, 2003, 2004, 2005, 2006, 2007, 200...  \n",
        "         Adam Melhuse                        [2004, 2005, 2006, 2007, 2008]  \n",
        "         Adam Moore                                            [2010, 2011]  \n"
       ]
      }
     ],
     "prompt_number": 153
    },
    {
     "cell_type": "code",
     "collapsed": false,
     "input": [
      "newdf = sums[['Salary', 'Year']].reset_index()\n",
      "#.to_frame().reset_index()\n",
      "newdf.head()"
     ],
     "language": "python",
     "metadata": {},
     "outputs": [
      {
       "html": [
        "<div style=\"max-height:1000px;max-width:1500px;overflow:auto;\">\n",
        "<table border=\"1\" class=\"dataframe\">\n",
        "  <thead>\n",
        "    <tr style=\"text-align: right;\">\n",
        "      <th></th>\n",
        "      <th>Position</th>\n",
        "      <th>Player</th>\n",
        "      <th>Salary</th>\n",
        "      <th>Year</th>\n",
        "    </tr>\n",
        "  </thead>\n",
        "  <tbody>\n",
        "    <tr>\n",
        "      <th>0</th>\n",
        "      <td> Catcher</td>\n",
        "      <td>      A.J. Ellis</td>\n",
        "      <td>   421000</td>\n",
        "      <td>                                              2011</td>\n",
        "    </tr>\n",
        "    <tr>\n",
        "      <th>1</th>\n",
        "      <td> Catcher</td>\n",
        "      <td>      A.J. Hinch</td>\n",
        "      <td>   690000</td>\n",
        "      <td>                                [1998, 2001, 2002]</td>\n",
        "    </tr>\n",
        "    <tr>\n",
        "      <th>2</th>\n",
        "      <td> Catcher</td>\n",
        "      <td> A.J. Pierzynski</td>\n",
        "      <td> 36925000</td>\n",
        "      <td> [2001, 2002, 2003, 2004, 2005, 2006, 2007, 200...</td>\n",
        "    </tr>\n",
        "    <tr>\n",
        "      <th>3</th>\n",
        "      <td> Catcher</td>\n",
        "      <td>    Adam Melhuse</td>\n",
        "      <td>  3007500</td>\n",
        "      <td>                    [2004, 2005, 2006, 2007, 2008]</td>\n",
        "    </tr>\n",
        "    <tr>\n",
        "      <th>4</th>\n",
        "      <td> Catcher</td>\n",
        "      <td>      Adam Moore</td>\n",
        "      <td>   818500</td>\n",
        "      <td>                                      [2010, 2011]</td>\n",
        "    </tr>\n",
        "  </tbody>\n",
        "</table>\n",
        "</div>"
       ],
       "metadata": {},
       "output_type": "pyout",
       "prompt_number": 154,
       "text": [
        "  Position           Player    Salary  \\\n",
        "0  Catcher       A.J. Ellis    421000   \n",
        "1  Catcher       A.J. Hinch    690000   \n",
        "2  Catcher  A.J. Pierzynski  36925000   \n",
        "3  Catcher     Adam Melhuse   3007500   \n",
        "4  Catcher       Adam Moore    818500   \n",
        "\n",
        "                                                Year  \n",
        "0                                               2011  \n",
        "1                                 [1998, 2001, 2002]  \n",
        "2  [2001, 2002, 2003, 2004, 2005, 2006, 2007, 200...  \n",
        "3                     [2004, 2005, 2006, 2007, 2008]  \n",
        "4                                       [2010, 2011]  "
       ]
      }
     ],
     "prompt_number": 154
    },
    {
     "cell_type": "code",
     "collapsed": false,
     "input": [
      "highest_by_pos = newdf.sort('Salary',ascending=False).drop_duplicates('Position')\n",
      "highest_by_pos"
     ],
     "language": "python",
     "metadata": {},
     "outputs": [
      {
       "html": [
        "<div style=\"max-height:1000px;max-width:1500px;overflow:auto;\">\n",
        "<table border=\"1\" class=\"dataframe\">\n",
        "  <thead>\n",
        "    <tr style=\"text-align: right;\">\n",
        "      <th></th>\n",
        "      <th>Position</th>\n",
        "      <th>Player</th>\n",
        "      <th>Salary</th>\n",
        "      <th>Year</th>\n",
        "    </tr>\n",
        "  </thead>\n",
        "  <tbody>\n",
        "    <tr>\n",
        "      <th>4154</th>\n",
        "      <td>         Shortstop</td>\n",
        "      <td>    Derek Jeter</td>\n",
        "      <td> 220139364</td>\n",
        "      <td> [1996, 1997, 1998, 1999, 2000, 2001, 2002, 200...</td>\n",
        "    </tr>\n",
        "    <tr>\n",
        "      <th>4410</th>\n",
        "      <td>     Third Baseman</td>\n",
        "      <td> Alex Rodriguez</td>\n",
        "      <td> 218389252</td>\n",
        "      <td>  [2004, 2005, 2006, 2007, 2008, 2009, 2010, 2011]</td>\n",
        "    </tr>\n",
        "    <tr>\n",
        "      <th>1255</th>\n",
        "      <td>        Outfielder</td>\n",
        "      <td>  Manny Ramirez</td>\n",
        "      <td> 204698769</td>\n",
        "      <td> [1994, 1995, 1996, 1997, 1998, 1999, 2000, 200...</td>\n",
        "    </tr>\n",
        "    <tr>\n",
        "      <th>3233</th>\n",
        "      <td>           Pitcher</td>\n",
        "      <td>  Randy Johnson</td>\n",
        "      <td> 175450019</td>\n",
        "      <td> [1989, 1990, 1991, 1992, 1993, 1994, 1995, 199...</td>\n",
        "    </tr>\n",
        "    <tr>\n",
        "      <th>682 </th>\n",
        "      <td>     First Baseman</td>\n",
        "      <td>    Todd Helton</td>\n",
        "      <td> 151440000</td>\n",
        "      <td> [1998, 1999, 2000, 2001, 2002, 2003, 2004, 200...</td>\n",
        "    </tr>\n",
        "    <tr>\n",
        "      <th>137 </th>\n",
        "      <td>           Catcher</td>\n",
        "      <td> Ivan Rodriguez</td>\n",
        "      <td> 121148932</td>\n",
        "      <td> [1992, 1993, 1994, 1995, 1996, 1997, 1998, 199...</td>\n",
        "    </tr>\n",
        "    <tr>\n",
        "      <th>3856</th>\n",
        "      <td>    Second Baseman</td>\n",
        "      <td>      Jeff Kent</td>\n",
        "      <td>  86025617</td>\n",
        "      <td> [1992, 1993, 1994, 1995, 1996, 1997, 1998, 199...</td>\n",
        "    </tr>\n",
        "    <tr>\n",
        "      <th>363 </th>\n",
        "      <td> Designated Hitter</td>\n",
        "      <td>    David Ortiz</td>\n",
        "      <td>  72200000</td>\n",
        "      <td>        [2002, 2006, 2007, 2008, 2009, 2010, 2011]</td>\n",
        "    </tr>\n",
        "    <tr>\n",
        "      <th>711 </th>\n",
        "      <td>         Infielder</td>\n",
        "      <td>  Michael Young</td>\n",
        "      <td>  16174974</td>\n",
        "      <td>                                              2011</td>\n",
        "    </tr>\n",
        "  </tbody>\n",
        "</table>\n",
        "</div>"
       ],
       "metadata": {},
       "output_type": "pyout",
       "prompt_number": 155,
       "text": [
        "               Position          Player     Salary  \\\n",
        "4154          Shortstop     Derek Jeter  220139364   \n",
        "4410      Third Baseman  Alex Rodriguez  218389252   \n",
        "1255         Outfielder   Manny Ramirez  204698769   \n",
        "3233            Pitcher   Randy Johnson  175450019   \n",
        "682       First Baseman     Todd Helton  151440000   \n",
        "137             Catcher  Ivan Rodriguez  121148932   \n",
        "3856     Second Baseman       Jeff Kent   86025617   \n",
        "363   Designated Hitter     David Ortiz   72200000   \n",
        "711           Infielder   Michael Young   16174974   \n",
        "\n",
        "                                                   Year  \n",
        "4154  [1996, 1997, 1998, 1999, 2000, 2001, 2002, 200...  \n",
        "4410   [2004, 2005, 2006, 2007, 2008, 2009, 2010, 2011]  \n",
        "1255  [1994, 1995, 1996, 1997, 1998, 1999, 2000, 200...  \n",
        "3233  [1989, 1990, 1991, 1992, 1993, 1994, 1995, 199...  \n",
        "682   [1998, 1999, 2000, 2001, 2002, 2003, 2004, 200...  \n",
        "137   [1992, 1993, 1994, 1995, 1996, 1997, 1998, 199...  \n",
        "3856  [1992, 1993, 1994, 1995, 1996, 1997, 1998, 199...  \n",
        "363          [2002, 2006, 2007, 2008, 2009, 2010, 2011]  \n",
        "711                                                2011  "
       ]
      }
     ],
     "prompt_number": 155
    },
    {
     "cell_type": "code",
     "collapsed": false,
     "input": [
      "\n",
      "gp = mlb.groupby(['Player','Position']).sum()['Salary'].to_frame().reset_index()\n",
      "highest = gp.sort('Salary',ascending=False).drop_duplicates('Position')\n",
      "highest.plot(\"Player\", \"Salary\", style=\"o\")"
     ],
     "language": "python",
     "metadata": {},
     "outputs": [
      {
       "metadata": {},
       "output_type": "pyout",
       "prompt_number": 56,
       "text": [
        "<matplotlib.axes._subplots.AxesSubplot at 0x1c2c9dd8>"
       ]
      },
      {
       "metadata": {},
       "output_type": "display_data",
       "png": "[encoded data removed]",
       "text": [
        "<matplotlib.figure.Figure at 0x1a6fdcf8>"
       ]
      }
     ],
     "prompt_number": 56
    },
    {
     "cell_type": "code",
     "collapsed": false,
     "input": [
      "g = mlb.groupby(['Position', 'Player']).aggregate({'Salary': sum})\n",
      "\n",
      "\n",
      "#aggregate({'Salary': sum}, as_index=False)\n",
      "#print type(g)\n",
      "\n",
      "#g = g.reset_index()\n",
      "#print g.head()\n",
      "#print type(g)\n",
      "#print g.max(level=\"Position\")\n",
      "g = g.reset_index()\n",
      "print g.head()\n",
      "print g.loc[g['Player'] == \"Randy Johnson\"]\n",
      "#print g.loc[g['Player'] == \"Zane Smith\"]\n",
      "grps = g.groupby(\"Position\")\n",
      "#print grps.Salary\n",
      "#print g.max(level=\"Position\")\n",
      "#g.index.get_level_values(0)[:10]\n",
      "#g[\"names\"] = g.index.get_level_values(1)\n",
      "#print g.head()\n",
      "#print g.max(level=\"Position\")\n",
      "#g.ix[\"Player\", \"Salary\"]\n",
      "#print g.idmax(level=\"Position\")\n",
      "#print g.groupby(level=0).groups\n",
      "#print g.max(level=['Position'])"
     ],
     "language": "python",
     "metadata": {},
     "outputs": [
      {
       "output_type": "stream",
       "stream": "stdout",
       "text": [
        "  Position           Player    Salary\n",
        "0  Catcher       A.J. Ellis    421000\n",
        "1  Catcher       A.J. Hinch    690000\n",
        "2  Catcher  A.J. Pierzynski  36925000\n",
        "3  Catcher     Adam Melhuse   3007500\n",
        "4  Catcher       Adam Moore    818500\n",
        "     Position         Player     Salary\n",
        "3233  Pitcher  Randy Johnson  175450019\n"
       ]
      }
     ],
     "prompt_number": 49
    },
    {
     "cell_type": "code",
     "collapsed": false,
     "input": [
      "gp = mlb.groupby(['Player','Position']).sum()\n",
      "cop = gp.Salary.to_frame()\n",
      "df = DataFrame(cop)\n",
      "print cop.head()\n",
      "#cop = cop.sort(ascending=False)\n",
      "#print cop.head()\n",
      "#.drop_duplicates('Position')\n",
      "#['Salary'].to_frame().reset_index()\n",
      "#gp.sort('Salary',ascending=False).drop_duplicates('Position')"
     ],
     "language": "python",
     "metadata": {},
     "outputs": [
      {
       "output_type": "stream",
       "stream": "stdout",
       "text": [
        "                            Salary\n",
        "Player          Position          \n",
        "A.J. Burnett    Pitcher   87771500\n",
        "A.J. Ellis      Catcher     421000\n",
        "A.J. Hinch      Catcher     690000\n",
        "A.J. Pierzynski Catcher   36925000\n",
        "A.J. Sager      Pitcher     596500\n"
       ]
      }
     ],
     "prompt_number": 166
    },
    {
     "cell_type": "code",
     "collapsed": false,
     "input": [
      "x = [r**2 for r in range(10)]\n",
      "print x\n",
      "x = (r**2 for r in range(10))\n",
      "print x.next()\n",
      "print x.next()\n",
      "print x.next()\n",
      "print x.next()\n",
      "print x.next()"
     ],
     "language": "python",
     "metadata": {},
     "outputs": [
      {
       "output_type": "stream",
       "stream": "stdout",
       "text": [
        "[0, 1, 4, 9, 16, 25, 36, 49, 64, 81]\n",
        "0\n",
        "1\n",
        "4\n",
        "9\n",
        "16\n"
       ]
      }
     ],
     "prompt_number": 32
    }
   ],
   "metadata": {}
  }
 ]
}