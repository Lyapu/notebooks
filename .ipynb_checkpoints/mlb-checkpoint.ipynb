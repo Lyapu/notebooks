{
 "metadata": {
  "name": "",
  "signature": "sha256:a1ed0999e8132e81edec382291ea9c67b231b7adffe8e7f62c99d8f8ebdcb68a"
 },
 "nbformat": 3,
 "nbformat_minor": 0,
 "worksheets": []
}