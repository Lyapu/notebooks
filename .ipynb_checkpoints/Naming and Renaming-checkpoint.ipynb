{
 "metadata": {
  "name": "",
  "signature": "sha256:7de29cc51844d9afac5b845f3c2267e10b843f104d168d87714c6a2a1868953e"
 },
 "nbformat": 3,
 "nbformat_minor": 0,
 "worksheets": [
  {
   "cells": [
    {
     "cell_type": "code",
     "collapsed": false,
     "input": [
      "import pandas as pd"
     ],
     "language": "python",
     "metadata": {},
     "outputs": [],
     "prompt_number": 27
    },
    {
     "cell_type": "heading",
     "level": 1,
     "metadata": {},
     "source": [
      "Naming and Renaming"
     ]
    },
    {
     "cell_type": "markdown",
     "metadata": {},
     "source": [
      "**df.index** and **df.columns** for getting and setting\n",
      "\n",
      "**reset_index()** to turn index into a column\n",
      "\n",
      "**set_index()** for making a column into an index\n",
      "\n",
      "**reindex()** for reordering labels\n",
      "\n"
     ]
    },
    {
     "cell_type": "code",
     "collapsed": false,
     "input": [
      "df = DataFrame({\"income\":[2000, 5000, 9000, 13000],\n",
      "                \"spendings\":[1000, 1500, 1600, 1700],\n",
      "                \"Notes\":[\"started data\", \"something else\", \"good\", \"wooo\"]},\n",
      "               index=[1989, 1990, 1991, 1992])\n",
      "df"
     ],
     "language": "python",
     "metadata": {},
     "outputs": [
      {
       "html": [
        "<div style=\"max-height:1000px;max-width:1500px;overflow:auto;\">\n",
        "<table border=\"1\" class=\"dataframe\">\n",
        "  <thead>\n",
        "    <tr style=\"text-align: right;\">\n",
        "      <th></th>\n",
        "      <th>Notes</th>\n",
        "      <th>income</th>\n",
        "      <th>spendings</th>\n",
        "    </tr>\n",
        "  </thead>\n",
        "  <tbody>\n",
        "    <tr>\n",
        "      <th>1989</th>\n",
        "      <td>   started data</td>\n",
        "      <td>  2000</td>\n",
        "      <td> 1000</td>\n",
        "    </tr>\n",
        "    <tr>\n",
        "      <th>1990</th>\n",
        "      <td> something else</td>\n",
        "      <td>  5000</td>\n",
        "      <td> 1500</td>\n",
        "    </tr>\n",
        "    <tr>\n",
        "      <th>1991</th>\n",
        "      <td>           good</td>\n",
        "      <td>  9000</td>\n",
        "      <td> 1600</td>\n",
        "    </tr>\n",
        "    <tr>\n",
        "      <th>1992</th>\n",
        "      <td>           wooo</td>\n",
        "      <td> 13000</td>\n",
        "      <td> 1700</td>\n",
        "    </tr>\n",
        "  </tbody>\n",
        "</table>\n",
        "</div>"
       ],
       "metadata": {},
       "output_type": "pyout",
       "prompt_number": 28,
       "text": [
        "               Notes  income  spendings\n",
        "1989    started data    2000       1000\n",
        "1990  something else    5000       1500\n",
        "1991            good    9000       1600\n",
        "1992            wooo   13000       1700"
       ]
      }
     ],
     "prompt_number": 28
    },
    {
     "cell_type": "code",
     "collapsed": false,
     "input": [
      "df.reset_index()"
     ],
     "language": "python",
     "metadata": {},
     "outputs": [
      {
       "html": [
        "<div style=\"max-height:1000px;max-width:1500px;overflow:auto;\">\n",
        "<table border=\"1\" class=\"dataframe\">\n",
        "  <thead>\n",
        "    <tr style=\"text-align: right;\">\n",
        "      <th></th>\n",
        "      <th>index</th>\n",
        "      <th>Notes</th>\n",
        "      <th>income</th>\n",
        "      <th>spendings</th>\n",
        "    </tr>\n",
        "  </thead>\n",
        "  <tbody>\n",
        "    <tr>\n",
        "      <th>0</th>\n",
        "      <td> 1989</td>\n",
        "      <td>   started data</td>\n",
        "      <td>  2000</td>\n",
        "      <td> 1000</td>\n",
        "    </tr>\n",
        "    <tr>\n",
        "      <th>1</th>\n",
        "      <td> 1990</td>\n",
        "      <td> something else</td>\n",
        "      <td>  5000</td>\n",
        "      <td> 1500</td>\n",
        "    </tr>\n",
        "    <tr>\n",
        "      <th>2</th>\n",
        "      <td> 1991</td>\n",
        "      <td>           good</td>\n",
        "      <td>  9000</td>\n",
        "      <td> 1600</td>\n",
        "    </tr>\n",
        "    <tr>\n",
        "      <th>3</th>\n",
        "      <td> 1992</td>\n",
        "      <td>           wooo</td>\n",
        "      <td> 13000</td>\n",
        "      <td> 1700</td>\n",
        "    </tr>\n",
        "  </tbody>\n",
        "</table>\n",
        "</div>"
       ],
       "metadata": {},
       "output_type": "pyout",
       "prompt_number": 29,
       "text": [
        "   index           Notes  income  spendings\n",
        "0   1989    started data    2000       1000\n",
        "1   1990  something else    5000       1500\n",
        "2   1991            good    9000       1600\n",
        "3   1992            wooo   13000       1700"
       ]
      }
     ],
     "prompt_number": 29
    },
    {
     "cell_type": "code",
     "collapsed": false,
     "input": [
      "print df.index\n",
      "print df.columns"
     ],
     "language": "python",
     "metadata": {},
     "outputs": [
      {
       "output_type": "stream",
       "stream": "stdout",
       "text": [
        "Int64Index([1989, 1990, 1991, 1992], dtype='int64')\n",
        "Index([u'Notes', u'income', u'spendings'], dtype='object')\n"
       ]
      }
     ],
     "prompt_number": 30
    },
    {
     "cell_type": "code",
     "collapsed": false,
     "input": [
      "df.index = [\"yr1\", \"yr2\", \"yr3\", \"yr4\"]\n",
      "df.columns =[\"NOTES\", \"INCOME\", \"SPENDINGS\"]"
     ],
     "language": "python",
     "metadata": {},
     "outputs": [],
     "prompt_number": 31
    },
    {
     "cell_type": "code",
     "collapsed": false,
     "input": [
      "df"
     ],
     "language": "python",
     "metadata": {},
     "outputs": [
      {
       "html": [
        "<div style=\"max-height:1000px;max-width:1500px;overflow:auto;\">\n",
        "<table border=\"1\" class=\"dataframe\">\n",
        "  <thead>\n",
        "    <tr style=\"text-align: right;\">\n",
        "      <th></th>\n",
        "      <th>NOTES</th>\n",
        "      <th>INCOME</th>\n",
        "      <th>SPENDINGS</th>\n",
        "    </tr>\n",
        "  </thead>\n",
        "  <tbody>\n",
        "    <tr>\n",
        "      <th>yr1</th>\n",
        "      <td>   started data</td>\n",
        "      <td>  2000</td>\n",
        "      <td> 1000</td>\n",
        "    </tr>\n",
        "    <tr>\n",
        "      <th>yr2</th>\n",
        "      <td> something else</td>\n",
        "      <td>  5000</td>\n",
        "      <td> 1500</td>\n",
        "    </tr>\n",
        "    <tr>\n",
        "      <th>yr3</th>\n",
        "      <td>           good</td>\n",
        "      <td>  9000</td>\n",
        "      <td> 1600</td>\n",
        "    </tr>\n",
        "    <tr>\n",
        "      <th>yr4</th>\n",
        "      <td>           wooo</td>\n",
        "      <td> 13000</td>\n",
        "      <td> 1700</td>\n",
        "    </tr>\n",
        "  </tbody>\n",
        "</table>\n",
        "</div>"
       ],
       "metadata": {},
       "output_type": "pyout",
       "prompt_number": 32,
       "text": [
        "              NOTES  INCOME  SPENDINGS\n",
        "yr1    started data    2000       1000\n",
        "yr2  something else    5000       1500\n",
        "yr3            good    9000       1600\n",
        "yr4            wooo   13000       1700"
       ]
      }
     ],
     "prompt_number": 32
    },
    {
     "cell_type": "markdown",
     "metadata": {},
     "source": [
      "**reindex** method\n",
      "\n",
      "rename (more like reorder) index and column labels"
     ]
    },
    {
     "cell_type": "code",
     "collapsed": false,
     "input": [
      "df.reindex([\"yr2\",\"yr3\",\"yr4\",\"yr1\"])"
     ],
     "language": "python",
     "metadata": {},
     "outputs": [
      {
       "html": [
        "<div style=\"max-height:1000px;max-width:1500px;overflow:auto;\">\n",
        "<table border=\"1\" class=\"dataframe\">\n",
        "  <thead>\n",
        "    <tr style=\"text-align: right;\">\n",
        "      <th></th>\n",
        "      <th>NOTES</th>\n",
        "      <th>INCOME</th>\n",
        "      <th>SPENDINGS</th>\n",
        "    </tr>\n",
        "  </thead>\n",
        "  <tbody>\n",
        "    <tr>\n",
        "      <th>yr2</th>\n",
        "      <td> something else</td>\n",
        "      <td>  5000</td>\n",
        "      <td> 1500</td>\n",
        "    </tr>\n",
        "    <tr>\n",
        "      <th>yr3</th>\n",
        "      <td>           good</td>\n",
        "      <td>  9000</td>\n",
        "      <td> 1600</td>\n",
        "    </tr>\n",
        "    <tr>\n",
        "      <th>yr4</th>\n",
        "      <td>           wooo</td>\n",
        "      <td> 13000</td>\n",
        "      <td> 1700</td>\n",
        "    </tr>\n",
        "    <tr>\n",
        "      <th>yr1</th>\n",
        "      <td>   started data</td>\n",
        "      <td>  2000</td>\n",
        "      <td> 1000</td>\n",
        "    </tr>\n",
        "  </tbody>\n",
        "</table>\n",
        "</div>"
       ],
       "metadata": {},
       "output_type": "pyout",
       "prompt_number": 22,
       "text": [
        "              NOTES  INCOME  SPENDINGS\n",
        "yr2  something else    5000       1500\n",
        "yr3            good    9000       1600\n",
        "yr4            wooo   13000       1700\n",
        "yr1    started data    2000       1000"
       ]
      }
     ],
     "prompt_number": 22
    },
    {
     "cell_type": "code",
     "collapsed": false,
     "input": [
      "df.reindex(columns=[\"INCOME\", \"SPENDINGS\", \"NOTES\"])"
     ],
     "language": "python",
     "metadata": {},
     "outputs": [
      {
       "html": [
        "<div style=\"max-height:1000px;max-width:1500px;overflow:auto;\">\n",
        "<table border=\"1\" class=\"dataframe\">\n",
        "  <thead>\n",
        "    <tr style=\"text-align: right;\">\n",
        "      <th></th>\n",
        "      <th>INCOME</th>\n",
        "      <th>SPENDINGS</th>\n",
        "      <th>NOTES</th>\n",
        "    </tr>\n",
        "  </thead>\n",
        "  <tbody>\n",
        "    <tr>\n",
        "      <th>yr1</th>\n",
        "      <td>  2000</td>\n",
        "      <td> 1000</td>\n",
        "      <td>   started data</td>\n",
        "    </tr>\n",
        "    <tr>\n",
        "      <th>yr2</th>\n",
        "      <td>  5000</td>\n",
        "      <td> 1500</td>\n",
        "      <td> something else</td>\n",
        "    </tr>\n",
        "    <tr>\n",
        "      <th>yr3</th>\n",
        "      <td>  9000</td>\n",
        "      <td> 1600</td>\n",
        "      <td>           good</td>\n",
        "    </tr>\n",
        "    <tr>\n",
        "      <th>yr4</th>\n",
        "      <td> 13000</td>\n",
        "      <td> 1700</td>\n",
        "      <td>           wooo</td>\n",
        "    </tr>\n",
        "  </tbody>\n",
        "</table>\n",
        "</div>"
       ],
       "metadata": {},
       "output_type": "pyout",
       "prompt_number": 23,
       "text": [
        "     INCOME  SPENDINGS           NOTES\n",
        "yr1    2000       1000    started data\n",
        "yr2    5000       1500  something else\n",
        "yr3    9000       1600            good\n",
        "yr4   13000       1700            wooo"
       ]
      }
     ],
     "prompt_number": 23
    },
    {
     "cell_type": "markdown",
     "metadata": {},
     "source": [
      "**rename** method\n",
      "\n",
      "Alter axes input function or functions. Function / dict values must be unique (1-to-1). Labels not contained in a dict / Series will be left as-is."
     ]
    },
    {
     "cell_type": "code",
     "collapsed": false,
     "input": [
      "df.rename(index={\"yr1\":1989,\"yr2\":1990, \"yr3\":1991, \"yr4\":1992})"
     ],
     "language": "python",
     "metadata": {},
     "outputs": [
      {
       "html": [
        "<div style=\"max-height:1000px;max-width:1500px;overflow:auto;\">\n",
        "<table border=\"1\" class=\"dataframe\">\n",
        "  <thead>\n",
        "    <tr style=\"text-align: right;\">\n",
        "      <th></th>\n",
        "      <th>NOTES</th>\n",
        "      <th>INCOME</th>\n",
        "      <th>SPENDINGS</th>\n",
        "    </tr>\n",
        "  </thead>\n",
        "  <tbody>\n",
        "    <tr>\n",
        "      <th>1989</th>\n",
        "      <td>   started data</td>\n",
        "      <td>  2000</td>\n",
        "      <td> 1000</td>\n",
        "    </tr>\n",
        "    <tr>\n",
        "      <th>1990</th>\n",
        "      <td> something else</td>\n",
        "      <td>  5000</td>\n",
        "      <td> 1500</td>\n",
        "    </tr>\n",
        "    <tr>\n",
        "      <th>1991</th>\n",
        "      <td>           good</td>\n",
        "      <td>  9000</td>\n",
        "      <td> 1600</td>\n",
        "    </tr>\n",
        "    <tr>\n",
        "      <th>1992</th>\n",
        "      <td>           wooo</td>\n",
        "      <td> 13000</td>\n",
        "      <td> 1700</td>\n",
        "    </tr>\n",
        "  </tbody>\n",
        "</table>\n",
        "</div>"
       ],
       "metadata": {},
       "output_type": "pyout",
       "prompt_number": 24,
       "text": [
        "               NOTES  INCOME  SPENDINGS\n",
        "1989    started data    2000       1000\n",
        "1990  something else    5000       1500\n",
        "1991            good    9000       1600\n",
        "1992            wooo   13000       1700"
       ]
      }
     ],
     "prompt_number": 24
    },
    {
     "cell_type": "markdown",
     "metadata": {},
     "source": [
      "**set_index** method"
     ]
    },
    {
     "cell_type": "code",
     "collapsed": false,
     "input": [
      "df.set_index(\"NOTES\")"
     ],
     "language": "python",
     "metadata": {},
     "outputs": [
      {
       "html": [
        "<div style=\"max-height:1000px;max-width:1500px;overflow:auto;\">\n",
        "<table border=\"1\" class=\"dataframe\">\n",
        "  <thead>\n",
        "    <tr style=\"text-align: right;\">\n",
        "      <th></th>\n",
        "      <th>INCOME</th>\n",
        "      <th>SPENDINGS</th>\n",
        "    </tr>\n",
        "    <tr>\n",
        "      <th>NOTES</th>\n",
        "      <th></th>\n",
        "      <th></th>\n",
        "    </tr>\n",
        "  </thead>\n",
        "  <tbody>\n",
        "    <tr>\n",
        "      <th>started data</th>\n",
        "      <td>  2000</td>\n",
        "      <td> 1000</td>\n",
        "    </tr>\n",
        "    <tr>\n",
        "      <th>something else</th>\n",
        "      <td>  5000</td>\n",
        "      <td> 1500</td>\n",
        "    </tr>\n",
        "    <tr>\n",
        "      <th>good</th>\n",
        "      <td>  9000</td>\n",
        "      <td> 1600</td>\n",
        "    </tr>\n",
        "    <tr>\n",
        "      <th>wooo</th>\n",
        "      <td> 13000</td>\n",
        "      <td> 1700</td>\n",
        "    </tr>\n",
        "  </tbody>\n",
        "</table>\n",
        "</div>"
       ],
       "metadata": {},
       "output_type": "pyout",
       "prompt_number": 26,
       "text": [
        "                INCOME  SPENDINGS\n",
        "NOTES                            \n",
        "started data      2000       1000\n",
        "something else    5000       1500\n",
        "good              9000       1600\n",
        "wooo             13000       1700"
       ]
      }
     ],
     "prompt_number": 26
    },
    {
     "cell_type": "code",
     "collapsed": false,
     "input": [
      "df"
     ],
     "language": "python",
     "metadata": {},
     "outputs": [
      {
       "html": [
        "<div style=\"max-height:1000px;max-width:1500px;overflow:auto;\">\n",
        "<table border=\"1\" class=\"dataframe\">\n",
        "  <thead>\n",
        "    <tr style=\"text-align: right;\">\n",
        "      <th></th>\n",
        "      <th>NOTES</th>\n",
        "      <th>INCOME</th>\n",
        "      <th>SPENDINGS</th>\n",
        "    </tr>\n",
        "  </thead>\n",
        "  <tbody>\n",
        "    <tr>\n",
        "      <th>yr1</th>\n",
        "      <td>   started data</td>\n",
        "      <td>  2000</td>\n",
        "      <td> 1000</td>\n",
        "    </tr>\n",
        "    <tr>\n",
        "      <th>yr2</th>\n",
        "      <td> something else</td>\n",
        "      <td>  5000</td>\n",
        "      <td> 1500</td>\n",
        "    </tr>\n",
        "    <tr>\n",
        "      <th>yr3</th>\n",
        "      <td>           good</td>\n",
        "      <td>  9000</td>\n",
        "      <td> 1600</td>\n",
        "    </tr>\n",
        "    <tr>\n",
        "      <th>yr4</th>\n",
        "      <td>           wooo</td>\n",
        "      <td> 13000</td>\n",
        "      <td> 1700</td>\n",
        "    </tr>\n",
        "  </tbody>\n",
        "</table>\n",
        "</div>"
       ],
       "metadata": {},
       "output_type": "pyout",
       "prompt_number": 35,
       "text": [
        "              NOTES  INCOME  SPENDINGS\n",
        "yr1    started data    2000       1000\n",
        "yr2  something else    5000       1500\n",
        "yr3            good    9000       1600\n",
        "yr4            wooo   13000       1700"
       ]
      }
     ],
     "prompt_number": 35
    },
    {
     "cell_type": "code",
     "collapsed": false,
     "input": [
      "df.set_index(\"NOTES\", drop=False)"
     ],
     "language": "python",
     "metadata": {},
     "outputs": [
      {
       "html": [
        "<div style=\"max-height:1000px;max-width:1500px;overflow:auto;\">\n",
        "<table border=\"1\" class=\"dataframe\">\n",
        "  <thead>\n",
        "    <tr style=\"text-align: right;\">\n",
        "      <th></th>\n",
        "      <th>NOTES</th>\n",
        "      <th>INCOME</th>\n",
        "      <th>SPENDINGS</th>\n",
        "    </tr>\n",
        "    <tr>\n",
        "      <th>NOTES</th>\n",
        "      <th></th>\n",
        "      <th></th>\n",
        "      <th></th>\n",
        "    </tr>\n",
        "  </thead>\n",
        "  <tbody>\n",
        "    <tr>\n",
        "      <th>started data</th>\n",
        "      <td>   started data</td>\n",
        "      <td>  2000</td>\n",
        "      <td> 1000</td>\n",
        "    </tr>\n",
        "    <tr>\n",
        "      <th>something else</th>\n",
        "      <td> something else</td>\n",
        "      <td>  5000</td>\n",
        "      <td> 1500</td>\n",
        "    </tr>\n",
        "    <tr>\n",
        "      <th>good</th>\n",
        "      <td>           good</td>\n",
        "      <td>  9000</td>\n",
        "      <td> 1600</td>\n",
        "    </tr>\n",
        "    <tr>\n",
        "      <th>wooo</th>\n",
        "      <td>           wooo</td>\n",
        "      <td> 13000</td>\n",
        "      <td> 1700</td>\n",
        "    </tr>\n",
        "  </tbody>\n",
        "</table>\n",
        "</div>"
       ],
       "metadata": {},
       "output_type": "pyout",
       "prompt_number": 36,
       "text": [
        "                         NOTES  INCOME  SPENDINGS\n",
        "NOTES                                            \n",
        "started data      started data    2000       1000\n",
        "something else  something else    5000       1500\n",
        "good                      good    9000       1600\n",
        "wooo                      wooo   13000       1700"
       ]
      }
     ],
     "prompt_number": 36
    }
   ],
   "metadata": {}
  }
 ]
}