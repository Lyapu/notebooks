{
 "metadata": {
  "name": "",
  "signature": "sha256:5812faccdd7a6e91b7df8215756b34144411a70c437718add5b9d68692801274"
 },
 "nbformat": 3,
 "nbformat_minor": 0,
 "worksheets": [
  {
   "cells": [
    {
     "cell_type": "code",
     "collapsed": false,
     "input": [
      "import pandas as pd"
     ],
     "language": "python",
     "metadata": {},
     "outputs": [],
     "prompt_number": 61
    },
    {
     "cell_type": "heading",
     "level": 1,
     "metadata": {},
     "source": [
      "How to **apply** and applymap work on Series and DataFrames"
     ]
    },
    {
     "cell_type": "markdown",
     "metadata": {},
     "source": [
      "* *Series*:  \n",
      "    > **map** and **apply** are the same  \n",
      "    > **applymap**  cannot be used\n",
      "\n",
      "* *DataFrame*:\n",
      "> **apply** operates on the each entire Series of the DataFrame  \n",
      "> **applymap** is applied element-wise to each Series of the DataFrame  \n",
      "> **map** cannot be used"
     ]
    },
    {
     "cell_type": "code",
     "collapsed": false,
     "input": [
      "s=pd.Series([10,2,3,4])\n",
      "s"
     ],
     "language": "python",
     "metadata": {},
     "outputs": [
      {
       "metadata": {},
       "output_type": "pyout",
       "prompt_number": 62,
       "text": [
        "0    10\n",
        "1     2\n",
        "2     3\n",
        "3     4\n",
        "dtype: int64"
       ]
      }
     ],
     "prompt_number": 62
    },
    {
     "cell_type": "markdown",
     "metadata": {},
     "source": [
      "We can use **apply** or **map** on a *Series*, and they operate on each element individually:"
     ]
    },
    {
     "cell_type": "code",
     "collapsed": false,
     "input": [
      "def fun(x):\n",
      "    print type(x)\n",
      "    return 10*x\n",
      "\n",
      "s.apply(fun)\n",
      "#s.applymap(s)  --> AttributeError: 'Series' object has no attribute 'applymap'"
     ],
     "language": "python",
     "metadata": {},
     "outputs": [
      {
       "output_type": "stream",
       "stream": "stdout",
       "text": [
        "<type 'numpy.int64'>\n",
        "<type 'numpy.int64'>\n",
        "<type 'numpy.int64'>\n",
        "<type 'numpy.int64'>\n"
       ]
      },
      {
       "metadata": {},
       "output_type": "pyout",
       "prompt_number": 57,
       "text": [
        "0    100\n",
        "1     20\n",
        "2     30\n",
        "3     40\n",
        "dtype: int64"
       ]
      }
     ],
     "prompt_number": 57
    },
    {
     "cell_type": "code",
     "collapsed": false,
     "input": [
      "s.map(fun)"
     ],
     "language": "python",
     "metadata": {},
     "outputs": [
      {
       "output_type": "stream",
       "stream": "stdout",
       "text": [
        "<type 'numpy.int64'>\n",
        "<type 'numpy.int64'>\n",
        "<type 'numpy.int64'>\n",
        "<type 'numpy.int64'>\n"
       ]
      },
      {
       "metadata": {},
       "output_type": "pyout",
       "prompt_number": 58,
       "text": [
        "0    100\n",
        "1     20\n",
        "2     30\n",
        "3     40\n",
        "dtype: int64"
       ]
      }
     ],
     "prompt_number": 58
    },
    {
     "cell_type": "markdown",
     "metadata": {},
     "source": [
      "For a DataFrame, *apply* operates on the whole Series, whereas *applymap* does each element individually. *map* cannot be called."
     ]
    },
    {
     "cell_type": "code",
     "collapsed": false,
     "input": [
      "df = DataFrame(s)\n",
      "print df.apply(fun)\n",
      "print \"-----------------------------------\"\n",
      "print df.applymap(fun)\n",
      "#df.map(fun) --> AttributeError: 'DataFrame' object has no attribute 'map'"
     ],
     "language": "python",
     "metadata": {},
     "outputs": [
      {
       "output_type": "stream",
       "stream": "stdout",
       "text": [
        "<class 'pandas.core.series.Series'>\n",
        "     0\n",
        "0  100\n",
        "1   20\n",
        "2   30\n",
        "3   40\n",
        "-----------------------------------\n",
        "<type 'numpy.int64'>\n",
        "<type 'numpy.int64'>\n",
        "<type 'numpy.int64'>\n",
        "<type 'numpy.int64'>\n",
        "     0\n",
        "0  100\n",
        "1   20\n",
        "2   30\n",
        "3   40\n"
       ]
      }
     ],
     "prompt_number": 60
    },
    {
     "cell_type": "code",
     "collapsed": false,
     "input": [
      "def fun1(x):\n",
      "    print type(x)\n",
      "    return min(x)\n",
      "\n",
      "#s.apply(fun1) --> TypeError: 'numpy.int64' object is not iterable"
     ],
     "language": "python",
     "metadata": {},
     "outputs": [],
     "prompt_number": 44
    },
    {
     "cell_type": "code",
     "collapsed": false,
     "input": [
      "df.apply(fun1)"
     ],
     "language": "python",
     "metadata": {},
     "outputs": [
      {
       "output_type": "stream",
       "stream": "stdout",
       "text": [
        "<class 'pandas.core.series.Series'>\n"
       ]
      },
      {
       "metadata": {},
       "output_type": "pyout",
       "prompt_number": 45,
       "text": [
        "0    2\n",
        "dtype: int64"
       ]
      }
     ],
     "prompt_number": 45
    },
    {
     "cell_type": "code",
     "collapsed": false,
     "input": [
      "#df.applymap(fun1)  --> TypeError: (\"'numpy.int64' object is not iterable\", u'occurred at index 0')"
     ],
     "language": "python",
     "metadata": {},
     "outputs": []
    },
    {
     "cell_type": "code",
     "collapsed": false,
     "input": [
      "def mystats(x):\n",
      "    return pd.Series([x.min(), x.max(), x.mean()], index=[\"min\", \"max\", \"mean\"])"
     ],
     "language": "python",
     "metadata": {},
     "outputs": [],
     "prompt_number": 51
    },
    {
     "cell_type": "code",
     "collapsed": false,
     "input": [
      "df.apply(mystats)"
     ],
     "language": "python",
     "metadata": {},
     "outputs": [
      {
       "html": [
        "<div style=\"max-height:1000px;max-width:1500px;overflow:auto;\">\n",
        "<table border=\"1\" class=\"dataframe\">\n",
        "  <thead>\n",
        "    <tr style=\"text-align: right;\">\n",
        "      <th></th>\n",
        "      <th>0</th>\n",
        "    </tr>\n",
        "  </thead>\n",
        "  <tbody>\n",
        "    <tr>\n",
        "      <th>min</th>\n",
        "      <td>  2.00</td>\n",
        "    </tr>\n",
        "    <tr>\n",
        "      <th>max</th>\n",
        "      <td> 10.00</td>\n",
        "    </tr>\n",
        "    <tr>\n",
        "      <th>mean</th>\n",
        "      <td>  4.75</td>\n",
        "    </tr>\n",
        "  </tbody>\n",
        "</table>\n",
        "</div>"
       ],
       "metadata": {},
       "output_type": "pyout",
       "prompt_number": 52,
       "text": [
        "          0\n",
        "min    2.00\n",
        "max   10.00\n",
        "mean   4.75"
       ]
      }
     ],
     "prompt_number": 52
    }
   ],
   "metadata": {}
  }
 ]
}